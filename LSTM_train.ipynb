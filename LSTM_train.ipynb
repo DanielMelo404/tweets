{
 "cells": [
  {
   "cell_type": "code",
   "execution_count": 1,
   "metadata": {},
   "outputs": [],
   "source": [
    "from torch import nn\n",
    "import torch.optim as optim\n",
    "import torch\n",
    "\n",
    "class mylstm(nn.Module):\n",
    "\n",
    "    def __init__(self, input_size, hidden_size,num_layers, out_size):\n",
    "        super(mylstm,self).__init__()\n",
    "        self.input_size = input_size\n",
    "        self.hidden_size = hidden_size\n",
    "        self.lstm = nn.LSTM(input_size=input_size,hidden_size=hidden_size,num_layers=num_layers, batch_first=True)\n",
    "        self.fc1= nn.Linear(hidden_size,out_size)\n",
    "        self.softmax=nn.LogSoftmax(dim=1)\n",
    "\n",
    "    def forward(self,x):\n",
    "        h0 = torch.zeros(self.num_layers, x.shape[0], self.hidden_size)\n",
    "        c0 = torch.zeros(self.num_layers, x.shape[0], self.hidden_size)\n",
    "        out, (hn,cn) = self.lstm(x,(h0,c0))\n",
    "        out = self.fc1(out[:,-1,:])\n",
    "        out = self.softmax(out)\n",
    "        return out\n",
    "\n"
   ]
  },
  {
   "cell_type": "code",
   "execution_count": 3,
   "metadata": {},
   "outputs": [],
   "source": [
    "import torch.optim as optim\n",
    "\n",
    "# n_epochs = 100\n",
    "# hidden_size = 20\n",
    "# input_size = 31924\n",
    "# num_layers = 2\n",
    "# learning_rate=0.002\n",
    "\n",
    "# model=mylstm(hidden_size=hidden_size,input_size=input_size,out_size=2)\n",
    "\n",
    "# optimizer = optim.Adam(model.parameters(), lr=learning_rate)\n",
    "# criterion = nn.NLLLoss()"
   ]
  },
  {
   "cell_type": "code",
   "execution_count": null,
   "metadata": {},
   "outputs": [],
   "source": []
  },
  {
   "cell_type": "code",
   "execution_count": 4,
   "metadata": {},
   "outputs": [
    {
     "ename": "NameError",
     "evalue": "name 'X_train' is not defined",
     "output_type": "error",
     "traceback": [
      "\u001b[1;31m---------------------------------------------------------------------------\u001b[0m",
      "\u001b[1;31mNameError\u001b[0m                                 Traceback (most recent call last)",
      "Cell \u001b[1;32mIn[4], line 5\u001b[0m\n\u001b[0;32m      1\u001b[0m \u001b[38;5;28;01mfrom\u001b[39;00m \u001b[38;5;21;01mtorch\u001b[39;00m\u001b[38;5;21;01m.\u001b[39;00m\u001b[38;5;21;01mutils\u001b[39;00m\u001b[38;5;21;01m.\u001b[39;00m\u001b[38;5;21;01mdata\u001b[39;00m \u001b[38;5;28;01mimport\u001b[39;00m DataLoader, TensorDataset\n\u001b[1;32m----> 5\u001b[0m train_dataset \u001b[38;5;241m=\u001b[39m TensorDataset(\u001b[43mX_train\u001b[49m,y_train)\n\u001b[0;32m      6\u001b[0m train_loader \u001b[38;5;241m=\u001b[39m DataLoader(train_dataset,batch_size\u001b[38;5;241m=\u001b[39m\u001b[38;5;241m20\u001b[39m,num_workers\u001b[38;5;241m=\u001b[39m\u001b[38;5;241m2\u001b[39m,shuffle\u001b[38;5;241m=\u001b[39m\u001b[38;5;28;01mTrue\u001b[39;00m)\n",
      "\u001b[1;31mNameError\u001b[0m: name 'X_train' is not defined"
     ]
    }
   ],
   "source": [
    "from torch.utils.data import DataLoader, TensorDataset\n",
    "\n",
    "\n",
    "\n",
    "train_dataset = TensorDataset(X_train,y_train)\n",
    "train_loader = DataLoader(train_dataset,batch_size=20,num_workers=2,shuffle=True)"
   ]
  },
  {
   "cell_type": "code",
   "execution_count": null,
   "metadata": {},
   "outputs": [],
   "source": [
    "for epoch in range(n_epochs):\n",
    "    model.train()\n",
    "    optimizer.zero_grad()\n",
    "    \n",
    "    for i, (inputs, targets) in  enumerate(train_loader):\n",
    "        output = model(inputs)\n",
    "        loss = criterion(output,targets)\n",
    "        loss.backward()\n",
    "        optimizer.step()\n",
    "\n"
   ]
  },
  {
   "cell_type": "code",
   "execution_count": 35,
   "metadata": {},
   "outputs": [
    {
     "name": "stdout",
     "output_type": "stream",
     "text": [
      "tensor([[0.7592],\n",
      "        [0.8290],\n",
      "        [0.3901],\n",
      "        [0.3195],\n",
      "        [0.6264],\n",
      "        [0.9516],\n",
      "        [0.3503],\n",
      "        [0.8232],\n",
      "        [0.6065],\n",
      "        [0.6938],\n",
      "        [0.8044],\n",
      "        [0.8776],\n",
      "        [0.7865],\n",
      "        [0.3436],\n",
      "        [0.6138],\n",
      "        [0.8980],\n",
      "        [0.9078],\n",
      "        [0.4622],\n",
      "        [0.9845],\n",
      "        [0.9058],\n",
      "        [0.5119],\n",
      "        [0.2716],\n",
      "        [0.0795],\n",
      "        [0.4097],\n",
      "        [0.2432],\n",
      "        [0.3516],\n",
      "        [0.6068],\n",
      "        [0.7520],\n",
      "        [0.6659],\n",
      "        [0.9914]])\n"
     ]
    },
    {
     "data": {
      "text/plain": [
       "tensor([[0.],\n",
       "        [0.],\n",
       "        [0.],\n",
       "        [0.],\n",
       "        [0.],\n",
       "        [0.],\n",
       "        [0.],\n",
       "        [0.],\n",
       "        [0.],\n",
       "        [0.],\n",
       "        [0.],\n",
       "        [0.],\n",
       "        [0.],\n",
       "        [0.],\n",
       "        [0.],\n",
       "        [0.],\n",
       "        [0.],\n",
       "        [0.],\n",
       "        [0.],\n",
       "        [0.],\n",
       "        [0.],\n",
       "        [0.],\n",
       "        [0.],\n",
       "        [0.],\n",
       "        [0.],\n",
       "        [0.],\n",
       "        [0.],\n",
       "        [0.],\n",
       "        [0.],\n",
       "        [0.]])"
      ]
     },
     "execution_count": 35,
     "metadata": {},
     "output_type": "execute_result"
    }
   ],
   "source": [
    "softmax=nn.LogSoftmax(dim=1)\n",
    "x = torch.rand(30,1)\n",
    "print(x)\n",
    "softmax(x)"
   ]
  }
 ],
 "metadata": {
  "kernelspec": {
   "display_name": "alfa-unal",
   "language": "python",
   "name": "python3"
  },
  "language_info": {
   "codemirror_mode": {
    "name": "ipython",
    "version": 3
   },
   "file_extension": ".py",
   "mimetype": "text/x-python",
   "name": "python",
   "nbconvert_exporter": "python",
   "pygments_lexer": "ipython3",
   "version": "3.9.0"
  }
 },
 "nbformat": 4,
 "nbformat_minor": 2
}
