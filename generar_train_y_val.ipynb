{
 "cells": [
  {
   "cell_type": "code",
   "execution_count": 306,
   "metadata": {},
   "outputs": [],
   "source": [
    "import pandas as pd\n",
    "import numpy as np\n",
    "import sys\n",
    "import torch.nn as nn\n",
    "import torch\n",
    "import seaborn as sns\n",
    "import gc\n",
    "from sklearn.model_selection import train_test_split\n",
    "\n",
    "\n",
    "df = pd.read_csv('data/train.csv')\n",
    "\n",
    "# X_train.shape[0], X_test.shape[0], y_train.shape[0], y_test.shape[0]"
   ]
  },
  {
   "cell_type": "code",
   "execution_count": 307,
   "metadata": {},
   "outputs": [],
   "source": [
    "\n",
    "\n",
    "# # Assuming df is your DataFrame containing the tweets\n",
    "# # Create the vocabulary\n",
    "\n",
    "# vocabulary = np.array([])\n",
    "# for i in range(len(df.index)):\n",
    "#     words = df['text'].iloc[i].split()  \n",
    "#     vocabulary = np.append(vocabulary, np.unique(words))  \n",
    "#     vocabulary = np.unique(vocabulary)\n",
    "\n",
    "# # Create a dictionary to map each word to an index\n",
    "# word_to_index = {word: idx for idx, word in enumerate(vocabulary)}\n",
    "\n",
    "# # Function to one-hot encode a tweet\n",
    "# def one_hot_encode(tweet, vocab_size):\n",
    "#     one_hot_vector = np.zeros(vocab_size)\n",
    "#     for word in tweet.split():\n",
    "#         if word in word_to_index:\n",
    "#             index = word_to_index[word]\n",
    "#             one_hot_vector[index] = 1\n",
    "#     return one_hot_vector\n",
    "\n",
    "# # Apply the one-hot encoding to each tweet\n",
    "# one_hot_encoded_tweets = np.array([one_hot_encode(tweet, len(vocabulary)) for tweet in df['text']])\n",
    "\n",
    "# # Convert to DataFrame for better readability (optional)\n",
    "# one_hot_encoded_df = pd.DataFrame(one_hot_encoded_tweets, columns=vocabulary)\n",
    "\n",
    "# print(one_hot_encoded_df.columns)"
   ]
  },
  {
   "cell_type": "code",
   "execution_count": 426,
   "metadata": {},
   "outputs": [],
   "source": [
    "one_hot_encoded_df = pd.read_csv(\"data/one_hot_encoded_df.csv\")"
   ]
  },
  {
   "cell_type": "code",
   "execution_count": 428,
   "metadata": {},
   "outputs": [
    {
     "data": {
      "text/plain": [
       "671779.0"
      ]
     },
     "execution_count": 428,
     "metadata": {},
     "output_type": "execute_result"
    }
   ],
   "source": [
    "one_hot_encoded_df.sum().sum()"
   ]
  },
  {
   "cell_type": "code",
   "execution_count": 429,
   "metadata": {},
   "outputs": [],
   "source": [
    "one_hot_encoded_df = one_hot_encoded_df.loc[:, one_hot_encoded_df.sum() >= 5]"
   ]
  },
  {
   "cell_type": "code",
   "execution_count": 430,
   "metadata": {},
   "outputs": [
    {
     "data": {
      "text/plain": [
       "663961.0"
      ]
     },
     "execution_count": 430,
     "metadata": {},
     "output_type": "execute_result"
    }
   ],
   "source": [
    "one_hot_encoded_df.sum().sum()"
   ]
  },
  {
   "cell_type": "code",
   "execution_count": 311,
   "metadata": {},
   "outputs": [
    {
     "data": {
      "text/plain": [
       "Index(['Unnamed: 0', '#Beyhive', '#Dance', '#Directioners', '#DnB', '#Dubstep',\n",
       "       '#EDM', '#Handbag', '#IcesÛ_', '#LGBT',\n",
       "       ...\n",
       "       'would', 'year', 'years', 'you', 'you're', 'your', '|', 'Û_', 'ÛÒ',\n",
       "       'Û÷politics'],\n",
       "      dtype='object', length=481)"
      ]
     },
     "execution_count": 311,
     "metadata": {},
     "output_type": "execute_result"
    }
   ],
   "source": [
    "one_hot_encoded_df.columns"
   ]
  },
  {
   "cell_type": "code",
   "execution_count": 312,
   "metadata": {},
   "outputs": [
    {
     "data": {
      "text/plain": [
       "Unnamed: 0       656085.0\n",
       "#Beyhive              8.0\n",
       "#Dance                7.0\n",
       "#Directioners         9.0\n",
       "#DnB                  7.0\n",
       "                   ...   \n",
       "your                 27.0\n",
       "|                    33.0\n",
       "Û_                   7.0\n",
       "ÛÒ                   6.0\n",
       "Û÷politics           5.0\n",
       "Length: 481, dtype: float64"
      ]
     },
     "execution_count": 312,
     "metadata": {},
     "output_type": "execute_result"
    }
   ],
   "source": [
    "one_hot_encoded_df.sum()"
   ]
  },
  {
   "cell_type": "code",
   "execution_count": 313,
   "metadata": {},
   "outputs": [],
   "source": [
    "# sns.histplot(one_hot_encoded_df.sum(), bins = 40)"
   ]
  },
  {
   "cell_type": "code",
   "execution_count": 314,
   "metadata": {},
   "outputs": [
    {
     "data": {
      "text/plain": [
       "481"
      ]
     },
     "execution_count": 314,
     "metadata": {},
     "output_type": "execute_result"
    }
   ],
   "source": [
    "all_categories = [1,0]\n",
    "n_letters = one_hot_encoded_df.shape[1]\n",
    "n_letters"
   ]
  },
  {
   "cell_type": "code",
   "execution_count": 315,
   "metadata": {},
   "outputs": [],
   "source": [
    "def letterToIndex(letter):\n",
    "    return one_hot_encoded_df.columns.get_loc(letter)\n",
    "\n",
    "def lineToTensor(line):\n",
    "    line = line.split()\n",
    "    # We want to have a tensor that, in the first dimension has the sequence index\n",
    "    # 2nd dimension idk\n",
    "    # 3d dimension for the one hot element\n",
    "\n",
    "    # Create empty tensor\n",
    "    tensor = torch.zeros(len(line), n_letters)\n",
    "\n",
    "    # Create the sequence tensor\n",
    "    for li, letter in enumerate(line):\n",
    "        # print(letterToIndex(letter))\n",
    "        if letter in one_hot_encoded_df.columns.to_list():\n",
    "            tensor[li][letterToIndex(letter)] = 1\n",
    "\n",
    "    return tensor\n",
    "\n",
    "\n",
    "def categoryFromOutput(output):\n",
    "    top_n, top_i = output.topk(1)\n",
    "    category_i = top_i[0].item()\n",
    "    return all_categories[category_i], category_i\n"
   ]
  },
  {
   "cell_type": "code",
   "execution_count": 316,
   "metadata": {},
   "outputs": [
    {
     "data": {
      "text/plain": [
       "4409952"
      ]
     },
     "execution_count": 316,
     "metadata": {},
     "output_type": "execute_result"
    }
   ],
   "source": [
    "# letterToIndex(df.text.iloc[10].split()[0])\n",
    "# print(df.text.iloc[10].split())\n",
    "\n",
    "sys.getsizeof(one_hot_encoded_df)"
   ]
  },
  {
   "cell_type": "code",
   "execution_count": 317,
   "metadata": {},
   "outputs": [],
   "source": [
    "vocab_list = one_hot_encoded_df.columns.to_list()\n",
    "vocab_to_index={}\n",
    "\n",
    "for i, word in enumerate(vocab_list):\n",
    "    vocab_to_index[word]=i "
   ]
  },
  {
   "cell_type": "code",
   "execution_count": 318,
   "metadata": {},
   "outputs": [],
   "source": [
    "def lineToEmbbed(line):\n",
    "    line = line.split()\n",
    "    # We want to have a tensor that, in the first dimension has the sequence index\n",
    "    # 2nd dimension idk\n",
    "    # 3d dimension for the one hot element\n",
    "\n",
    "    # Create empty tensor\n",
    "    tensor = torch.zeros(len(line), n_letters)\n",
    "\n",
    "    # Create the sequence tensor\n",
    "    for li, letter in enumerate(line):\n",
    "        # print(letterToIndex(letter))\n",
    "        tensor[li][letterToIndex(letter)] = 1\n",
    "\n",
    "    return tensor"
   ]
  },
  {
   "cell_type": "code",
   "execution_count": 319,
   "metadata": {},
   "outputs": [],
   "source": [
    "dataset_tensor_list = []\n",
    "target_list=[]\n",
    "import random\n",
    "category = 1\n",
    "\n",
    "# Convertir cada tensor a \n",
    "for i in  df.index:\n",
    "    # Convert to tensor\n",
    "    line_tensor = lineToTensor(df.text.iloc[i])\n",
    "    category_tensor = torch.tensor([df.target.iloc[i]], dtype=torch.long)\n",
    "    # print(category_tensor)\n",
    "    dataset_tensor_list.append(line_tensor)\n",
    "    target_list.append(category_tensor)\n",
    "\n"
   ]
  },
  {
   "cell_type": "code",
   "execution_count": 425,
   "metadata": {},
   "outputs": [
    {
     "data": {
      "text/plain": [
       "['Unnamed: 0',\n",
       " '#Beyhive',\n",
       " '#Dance',\n",
       " '#Directioners',\n",
       " '#DnB',\n",
       " '#Dubstep',\n",
       " '#EDM',\n",
       " '#Handbag',\n",
       " '#Ices\\x89Û_',\n",
       " '#LGBT',\n",
       " '#TrapMusic',\n",
       " '#Womens',\n",
       " '&amp;',\n",
       " \"'The\",\n",
       " '-',\n",
       " '.',\n",
       " '...',\n",
       " '1',\n",
       " '2',\n",
       " '3',\n",
       " '30',\n",
       " '320',\n",
       " '4',\n",
       " '5',\n",
       " '70',\n",
       " '70th',\n",
       " '8',\n",
       " ':',\n",
       " ':)',\n",
       " '?',\n",
       " '??',\n",
       " '????',\n",
       " '??????',\n",
       " '@Change',\n",
       " '@YouTube',\n",
       " '@djicemoon',\n",
       " '@usatoday',\n",
       " 'A',\n",
       " 'AMBULANCE',\n",
       " 'AND',\n",
       " 'APOCALYPSE',\n",
       " 'ARMY',\n",
       " 'AUTH',\n",
       " 'Accident',\n",
       " 'Admits',\n",
       " 'Aftershock',\n",
       " 'All',\n",
       " 'And',\n",
       " 'Annihilation',\n",
       " 'Armageddon',\n",
       " 'Army',\n",
       " 'Arson',\n",
       " 'Arsonist',\n",
       " 'Attack',\n",
       " 'Attacked',\n",
       " 'Avalanche',\n",
       " 'BATTLE',\n",
       " 'Bag',\n",
       " 'Bags',\n",
       " 'Bar',\n",
       " 'Battle',\n",
       " 'Bioterrorism',\n",
       " 'Blazing',\n",
       " 'Blight',\n",
       " 'Blizzard',\n",
       " 'Blood',\n",
       " 'Bloody',\n",
       " 'Blue',\n",
       " 'Body',\n",
       " 'But',\n",
       " 'California',\n",
       " 'Check',\n",
       " 'Chicago-Area',\n",
       " 'Christian',\n",
       " 'Clutch',\n",
       " 'Cross',\n",
       " 'DO',\n",
       " 'Died',\n",
       " 'Direction',\n",
       " 'Drake',\n",
       " 'Experts',\n",
       " 'Fan',\n",
       " 'Faux',\n",
       " 'FedEx',\n",
       " 'Flag',\n",
       " 'Forest:',\n",
       " 'France',\n",
       " 'French',\n",
       " 'Full',\n",
       " 'Gay',\n",
       " 'Geller',\n",
       " 'Handbag',\n",
       " 'Handbags',\n",
       " 'Hiroshima',\n",
       " 'Hobo',\n",
       " 'Horrible',\n",
       " 'Horse...',\n",
       " 'How',\n",
       " 'I',\n",
       " \"I'm\",\n",
       " \"I've\",\n",
       " 'ICEMOON',\n",
       " 'IS',\n",
       " 'If',\n",
       " 'In',\n",
       " 'Iran',\n",
       " 'Is',\n",
       " 'Island:',\n",
       " 'Israel',\n",
       " 'Israeli',\n",
       " 'It',\n",
       " \"It's\",\n",
       " 'Japan',\n",
       " 'Just',\n",
       " 'Ladies',\n",
       " 'Leather',\n",
       " 'Louis',\n",
       " 'Man',\n",
       " 'Me',\n",
       " 'Monogram',\n",
       " 'Mount',\n",
       " 'Mourning',\n",
       " 'Muslims',\n",
       " 'My',\n",
       " 'NIGHT',\n",
       " 'NOT',\n",
       " 'National',\n",
       " 'New',\n",
       " 'No',\n",
       " 'Northern',\n",
       " 'Now',\n",
       " 'OF',\n",
       " 'Of',\n",
       " 'On',\n",
       " 'One',\n",
       " 'Owner',\n",
       " 'Pakistani',\n",
       " 'Pamela',\n",
       " 'Park',\n",
       " 'Please',\n",
       " 'Police',\n",
       " 'Purse',\n",
       " 'RT',\n",
       " 'RT:',\n",
       " 'Reason',\n",
       " 'Reunion',\n",
       " 'River',\n",
       " 'Salt',\n",
       " 'Satchel',\n",
       " 'Scheme',\n",
       " 'Services',\n",
       " 'Set',\n",
       " 'Shoulder',\n",
       " 'So',\n",
       " 'St',\n",
       " 'Stop',\n",
       " 'THE',\n",
       " 'Temple',\n",
       " 'That',\n",
       " 'The',\n",
       " 'This',\n",
       " 'To',\n",
       " 'Tonto',\n",
       " 'Tote',\n",
       " 'Twelve',\n",
       " 'U.S',\n",
       " 'US',\n",
       " 'United',\n",
       " 'Video',\n",
       " 'Vuitton',\n",
       " 'WATCH',\n",
       " 'WWII',\n",
       " 'Waving',\n",
       " 'We',\n",
       " 'What',\n",
       " 'White',\n",
       " 'Why',\n",
       " 'Wild',\n",
       " 'Wings',\n",
       " 'Women',\n",
       " 'Womens',\n",
       " 'World',\n",
       " 'You',\n",
       " 'Your',\n",
       " '[AFTERSHOCK]',\n",
       " '[IR]',\n",
       " 'a',\n",
       " 'ablaze',\n",
       " 'about',\n",
       " 'accident',\n",
       " 'actually',\n",
       " 'after',\n",
       " 'again',\n",
       " 'ago',\n",
       " 'air',\n",
       " 'airplane',\n",
       " 'all',\n",
       " 'already',\n",
       " 'also',\n",
       " 'am',\n",
       " 'ambulance',\n",
       " 'an',\n",
       " 'and',\n",
       " 'annihilated',\n",
       " 'annihilation',\n",
       " 'anniversary',\n",
       " 'another',\n",
       " 'anthrax',\n",
       " 'any',\n",
       " 'apocalypse',\n",
       " 'are',\n",
       " 'army',\n",
       " 'arson',\n",
       " 'arsonist',\n",
       " 'as',\n",
       " 'ass',\n",
       " 'at',\n",
       " 'atomic',\n",
       " 'attack',\n",
       " 'attacked',\n",
       " 'back',\n",
       " 'bad',\n",
       " 'bag',\n",
       " 'bagging',\n",
       " 'bags',\n",
       " 'bags.',\n",
       " 'ball',\n",
       " 'battle',\n",
       " 'be',\n",
       " 'because',\n",
       " 'been',\n",
       " 'before',\n",
       " 'begin',\n",
       " 'being',\n",
       " 'believe',\n",
       " 'bioterror',\n",
       " 'bioterrorism',\n",
       " 'blaze',\n",
       " 'blazing',\n",
       " 'bleeding',\n",
       " 'blew',\n",
       " 'blight',\n",
       " 'blizzard',\n",
       " 'blood',\n",
       " 'bloody',\n",
       " 'blown',\n",
       " 'body',\n",
       " 'bomb',\n",
       " 'bombed',\n",
       " 'bombing',\n",
       " 'but',\n",
       " 'by',\n",
       " 'call',\n",
       " 'can',\n",
       " \"can't\",\n",
       " 'car',\n",
       " 'caught',\n",
       " 'city',\n",
       " 'come',\n",
       " 'coming',\n",
       " 'could',\n",
       " 'crash',\n",
       " 'cut',\n",
       " 'damn',\n",
       " 'day',\n",
       " 'debris',\n",
       " 'did',\n",
       " 'die',\n",
       " 'do',\n",
       " 'doing',\n",
       " \"don't\",\n",
       " 'done',\n",
       " 'down',\n",
       " 'dude',\n",
       " 'eBay',\n",
       " 'end',\n",
       " 'even',\n",
       " 'ever',\n",
       " 'every',\n",
       " 'everyone',\n",
       " 'examining',\n",
       " 'experts',\n",
       " 'eyes',\n",
       " 'family',\n",
       " 'far',\n",
       " 'feared',\n",
       " 'feel',\n",
       " 'fight',\n",
       " 'fire',\n",
       " 'fires',\n",
       " 'first',\n",
       " 'for',\n",
       " 'found',\n",
       " 'from',\n",
       " 'full',\n",
       " 'game',\n",
       " 'germs',\n",
       " 'get',\n",
       " 'gets',\n",
       " 'getting',\n",
       " 'go',\n",
       " 'going',\n",
       " 'gonna',\n",
       " 'good',\n",
       " 'got',\n",
       " 'great',\n",
       " 'grief\\x89Ûª',\n",
       " 'had',\n",
       " 'has',\n",
       " 'hate',\n",
       " 'have',\n",
       " 'he',\n",
       " \"he's\",\n",
       " 'head',\n",
       " 'heart',\n",
       " 'helicopter',\n",
       " 'help',\n",
       " 'her',\n",
       " 'here',\n",
       " 'high',\n",
       " 'him',\n",
       " 'his',\n",
       " 'hit',\n",
       " 'home',\n",
       " 'hot',\n",
       " 'hours',\n",
       " 'how',\n",
       " 'http://t.co/eNCmhz6y34',\n",
       " 'http://t.co/q2eBlOKeVE',\n",
       " 'i',\n",
       " 'if',\n",
       " 'im',\n",
       " 'in',\n",
       " 'into',\n",
       " 'is',\n",
       " 'it',\n",
       " \"it's\",\n",
       " 'it.',\n",
       " 'its',\n",
       " 'just',\n",
       " 'killed',\n",
       " 'know',\n",
       " 'lab',\n",
       " 'last',\n",
       " 'latest',\n",
       " 'life',\n",
       " 'like',\n",
       " 'liked',\n",
       " 'linked',\n",
       " 'little',\n",
       " 'live',\n",
       " 'lol',\n",
       " 'long',\n",
       " 'longer',\n",
       " 'look',\n",
       " 'looks',\n",
       " 'lot',\n",
       " 'love',\n",
       " 'make',\n",
       " 'many',\n",
       " 'marks',\n",
       " 'me',\n",
       " 'meek',\n",
       " 'mishaps',\n",
       " 'more',\n",
       " 'most',\n",
       " 'my',\n",
       " 'need',\n",
       " 'new',\n",
       " 'no',\n",
       " 'not',\n",
       " 'notices',\n",
       " 'now',\n",
       " 'nuclear',\n",
       " 'of',\n",
       " 'off',\n",
       " 'ok',\n",
       " 'on',\n",
       " 'one',\n",
       " 'only',\n",
       " 'or',\n",
       " 'other',\n",
       " 'our',\n",
       " 'out',\n",
       " 'over',\n",
       " 'pathogens',\n",
       " 'people',\n",
       " 'photo',\n",
       " 'pick',\n",
       " 'please',\n",
       " 'police',\n",
       " 'poor',\n",
       " 'post',\n",
       " 'potential',\n",
       " 'put',\n",
       " 'read',\n",
       " 'really',\n",
       " 'research',\n",
       " 're\\x89Û_',\n",
       " 'right',\n",
       " 'said',\n",
       " 'same',\n",
       " 'saw',\n",
       " 'say',\n",
       " 'school',\n",
       " 'see',\n",
       " 'seeing',\n",
       " 'set',\n",
       " \"she's\",\n",
       " 'ship',\n",
       " 'shipping',\n",
       " 'shit',\n",
       " 'should',\n",
       " 'sign',\n",
       " 'since',\n",
       " 'so',\n",
       " 'some',\n",
       " 'stabbing',\n",
       " 'still',\n",
       " 'stir',\n",
       " 'stop',\n",
       " 'stops',\n",
       " 'suspect',\n",
       " 'take',\n",
       " 'tell',\n",
       " 'than',\n",
       " 'that',\n",
       " \"that's\",\n",
       " 'the',\n",
       " 'their',\n",
       " 'them',\n",
       " 'them!',\n",
       " 'then',\n",
       " 'there',\n",
       " 'these',\n",
       " 'they',\n",
       " 'thing',\n",
       " 'things',\n",
       " 'think',\n",
       " 'this',\n",
       " 'time',\n",
       " 'to',\n",
       " 'transport',\n",
       " 'try',\n",
       " 'u',\n",
       " 'until',\n",
       " 'up',\n",
       " 'up.',\n",
       " 'us',\n",
       " 'very',\n",
       " 'via',\n",
       " 'victims',\n",
       " 'video',\n",
       " 'vs',\n",
       " 'wake',\n",
       " 'want',\n",
       " 'was',\n",
       " 'way',\n",
       " 'we',\n",
       " 'well',\n",
       " 'went',\n",
       " 'were',\n",
       " 'what',\n",
       " 'when',\n",
       " 'where',\n",
       " 'while',\n",
       " 'who',\n",
       " 'why',\n",
       " 'will',\n",
       " 'with',\n",
       " 'words',\n",
       " 'would',\n",
       " 'year',\n",
       " 'years',\n",
       " 'you',\n",
       " \"you're\",\n",
       " 'your',\n",
       " '|',\n",
       " '\\x89Û_',\n",
       " '\\x89ÛÒ',\n",
       " '\\x89Û÷politics']"
      ]
     },
     "execution_count": 425,
     "metadata": {},
     "output_type": "execute_result"
    }
   ],
   "source": [
    "one_hot_encoded_df.columns.to_list()\n"
   ]
  },
  {
   "cell_type": "code",
   "execution_count": 422,
   "metadata": {},
   "outputs": [
    {
     "data": {
      "text/plain": [
       "tensor(7.)"
      ]
     },
     "execution_count": 422,
     "metadata": {},
     "output_type": "execute_result"
    }
   ],
   "source": [
    "lineToTensor(df.text.iloc[0]).sum()\n"
   ]
  },
  {
   "cell_type": "code",
   "execution_count": 320,
   "metadata": {},
   "outputs": [],
   "source": [
    "target = torch.cat(tuple(target_list),dim=0)"
   ]
  },
  {
   "cell_type": "code",
   "execution_count": 321,
   "metadata": {},
   "outputs": [],
   "source": [
    "from torch.utils.data import TensorDataset, DataLoader"
   ]
  },
  {
   "cell_type": "code",
   "execution_count": 322,
   "metadata": {},
   "outputs": [],
   "source": [
    "from torch.nn.utils.rnn import pad_sequence"
   ]
  },
  {
   "cell_type": "code",
   "execution_count": 323,
   "metadata": {},
   "outputs": [],
   "source": [
    "padded_dataset = pad_sequence(dataset_tensor_list, batch_first=True)"
   ]
  },
  {
   "cell_type": "code",
   "execution_count": 409,
   "metadata": {},
   "outputs": [
    {
     "name": "stdout",
     "output_type": "stream",
     "text": [
      "tensor(0.)\n",
      "tensor(0.)\n",
      "tensor(1.)\n",
      "tensor(1.)\n",
      "tensor(1.)\n",
      "tensor(1.)\n",
      "tensor(1.)\n",
      "tensor(0.)\n",
      "tensor(0.)\n",
      "tensor(0.)\n",
      "tensor(0.)\n",
      "tensor(1.)\n",
      "tensor(1.)\n",
      "tensor(0.)\n",
      "tensor(0.)\n",
      "tensor(0.)\n",
      "tensor(0.)\n",
      "tensor(0.)\n",
      "tensor(0.)\n",
      "tensor(0.)\n",
      "tensor(0.)\n",
      "tensor(0.)\n",
      "tensor(0.)\n",
      "tensor(0.)\n",
      "tensor(0.)\n",
      "tensor(0.)\n",
      "tensor(0.)\n",
      "tensor(0.)\n",
      "tensor(0.)\n",
      "tensor(0.)\n",
      "tensor(0.)\n"
     ]
    }
   ],
   "source": [
    "for i in range(31):\n",
    "    print(padded_dataset[0,i,:].sum())"
   ]
  },
  {
   "cell_type": "code",
   "execution_count": 324,
   "metadata": {},
   "outputs": [],
   "source": [
    "X_train, X_test, y_train, y_test = train_test_split(padded_dataset,target,test_size=0.3,random_state=42, shuffle=True)\n",
    "\n",
    "trainTensorDataset= TensorDataset(X_train,y_train)\n",
    "testTensorDataset = TensorDataset(X_test,y_test)\n",
    "train_loader = DataLoader(trainTensorDataset, batch_size=100, shuffle=True, drop_last=True)\n",
    "test_loader = DataLoader(testTensorDataset, batch_size=100, shuffle=True, drop_last=True)"
   ]
  },
  {
   "cell_type": "code",
   "execution_count": 325,
   "metadata": {},
   "outputs": [
    {
     "data": {
      "text/plain": [
       "tensor(3271)"
      ]
     },
     "execution_count": 325,
     "metadata": {},
     "output_type": "execute_result"
    }
   ],
   "source": [
    "target.sum()"
   ]
  },
  {
   "cell_type": "code",
   "execution_count": 326,
   "metadata": {},
   "outputs": [],
   "source": [
    "# torch.cat((torch.zeros(1000,1,31925),padded_dataset2),dim=1).shape"
   ]
  },
  {
   "cell_type": "code",
   "execution_count": 327,
   "metadata": {},
   "outputs": [],
   "source": [
    "# torch.cat((padded_dataset1 ,torch.cat((torch.zeros(1000,1,31925),padded_dataset2),dim=1)), dim = 0)"
   ]
  },
  {
   "cell_type": "code",
   "execution_count": 328,
   "metadata": {},
   "outputs": [],
   "source": [
    "# padded_dataset7.shape"
   ]
  },
  {
   "cell_type": "code",
   "execution_count": 431,
   "metadata": {},
   "outputs": [],
   "source": [
    "import torch.nn.functional as F\n",
    "class lstm(nn.Module):\n",
    "    def __init__(self,input_size, hidden_size, num_layers,embedding_dim):\n",
    "        super(lstm,self).__init__()\n",
    "        self.input_size=input_size\n",
    "        self.hidden_size=hidden_size\n",
    "        self.num_layers=num_layers\n",
    "        self.embedding = nn.Embedding(n_letters,embedding_dim=embedding_dim)\n",
    "        self.lstm = nn.LSTM(embedding_dim,hidden_size,num_layers,batch_first=True)\n",
    "        self.fc1 = nn.Linear(hidden_size,2)\n",
    "\n",
    "    def forward(self,x):\n",
    "        h0 = torch.zeros(self.num_layers,x.shape[0],self.hidden_size)\n",
    "        c0 = torch.zeros(self.num_layers,x.shape[0],self.hidden_size)\n",
    "        x = self.embedding(x)\n",
    "        out , (hn,cn)= self.lstm(x,(h0,c0))\n",
    "        out = self.fc1(out[:,-1,:])\n",
    "        out = F.log_softmax(out)\n",
    "        return out"
   ]
  },
  {
   "cell_type": "code",
   "execution_count": 330,
   "metadata": {},
   "outputs": [],
   "source": [
    "input_size = n_letters\n",
    "hidden_size = 40\n",
    "num_layers = 2\n",
    "embedding_dim = 50"
   ]
  },
  {
   "cell_type": "code",
   "execution_count": 432,
   "metadata": {},
   "outputs": [
    {
     "ename": "NameError",
     "evalue": "name 'embedding_dim' is not defined",
     "output_type": "error",
     "traceback": [
      "\u001b[1;31m---------------------------------------------------------------------------\u001b[0m",
      "\u001b[1;31mNameError\u001b[0m                                 Traceback (most recent call last)",
      "Cell \u001b[1;32mIn[432], line 2\u001b[0m\n\u001b[0;32m      1\u001b[0m \u001b[38;5;28;01mfrom\u001b[39;00m \u001b[38;5;21;01mtorch\u001b[39;00m \u001b[38;5;28;01mimport\u001b[39;00m optim\n\u001b[1;32m----> 2\u001b[0m model \u001b[38;5;241m=\u001b[39m lstm(input_size, hidden_size, num_layers,\u001b[43membedding_dim\u001b[49m)\n",
      "\u001b[1;31mNameError\u001b[0m: name 'embedding_dim' is not defined"
     ]
    }
   ],
   "source": [
    "from torch import optim\n",
    "model = lstm(input_size, hidden_size, num_layers,embedding_dim)"
   ]
  },
  {
   "cell_type": "code",
   "execution_count": 332,
   "metadata": {},
   "outputs": [],
   "source": [
    "# loss_func(output,torch.tensor([1]))"
   ]
  },
  {
   "cell_type": "code",
   "execution_count": 363,
   "metadata": {},
   "outputs": [],
   "source": [
    "x = torch.rand(100,31,481)\n",
    "\n",
    "lstm_0 = nn.LSTM(input_size, hidden_size, num_layers,batch_first=True)\n",
    "c0 = torch.zeros(num_layers, x.shape[0], hidden_size)\n",
    "h0 = torch.zeros(num_layers, x.shape[0], hidden_size)\n",
    "\n",
    "\n",
    "out, (hn,cn) = lstm_0(x,(h0,c0))\n",
    "\n",
    "\n",
    "\n"
   ]
  },
  {
   "cell_type": "code",
   "execution_count": 444,
   "metadata": {},
   "outputs": [
    {
     "data": {
      "text/plain": [
       "tensor([  0, 370,   0, 469, 186,   0,   0, 469,   0,   0,   0,   0,   0, 426,\n",
       "        310,   0, 441, 268, 469, 335,   0,   0,   0,   0,   0,   0,   0,   0,\n",
       "          0,   0,   0])"
      ]
     },
     "execution_count": 444,
     "metadata": {},
     "output_type": "execute_result"
    }
   ],
   "source": [
    "inputs, labels= next(iter(train_loader))\n",
    "\n",
    "vals, indices = torch.max(inputs[0],dim=1)\n",
    "indices"
   ]
  },
  {
   "cell_type": "code",
   "execution_count": 403,
   "metadata": {},
   "outputs": [
    {
     "name": "stdout",
     "output_type": "stream",
     "text": [
      "tensor(0.)\n",
      "tensor(0.)\n",
      "tensor(0.)\n",
      "tensor(1.)\n",
      "tensor(0.)\n",
      "tensor(1.)\n",
      "tensor(1.)\n",
      "tensor(0.)\n",
      "tensor(1.)\n",
      "tensor(1.)\n",
      "tensor(0.)\n",
      "tensor(1.)\n",
      "tensor(0.)\n",
      "tensor(1.)\n",
      "tensor(1.)\n",
      "tensor(1.)\n",
      "tensor(0.)\n",
      "tensor(1.)\n",
      "tensor(0.)\n",
      "tensor(0.)\n",
      "tensor(1.)\n",
      "tensor(1.)\n",
      "tensor(1.)\n",
      "tensor(0.)\n",
      "tensor(1.)\n",
      "tensor(1.)\n",
      "tensor(1.)\n",
      "tensor(0.)\n",
      "tensor(0.)\n",
      "tensor(0.)\n",
      "tensor(0.)\n"
     ]
    }
   ],
   "source": [
    "for i in range(31):\n",
    "    print(inputs[0,i,:].sum())"
   ]
  },
  {
   "cell_type": "code",
   "execution_count": 365,
   "metadata": {},
   "outputs": [
    {
     "data": {
      "text/plain": [
       "(torch.Size([100, 31, 40]), torch.Size([2, 100, 40]), torch.Size([2, 100, 40]))"
      ]
     },
     "execution_count": 365,
     "metadata": {},
     "output_type": "execute_result"
    }
   ],
   "source": [
    "from matplotlib import pyplot as plt\n",
    "\n",
    "def error_plot(train_error_list):\n",
    "    plt.plot(train_error_list)"
   ]
  },
  {
   "cell_type": "code",
   "execution_count": 381,
   "metadata": {},
   "outputs": [
    {
     "data": {
      "text/plain": [
       "200"
      ]
     },
     "execution_count": 381,
     "metadata": {},
     "output_type": "execute_result"
    }
   ],
   "source": [
    "x=torch.rand(100,2)\n",
    "y = x\n",
    "(x==y).sum().item()"
   ]
  },
  {
   "cell_type": "code",
   "execution_count": null,
   "metadata": {},
   "outputs": [],
   "source": [
    "vals,indices = torch.max(torch.rand(100,2),dim=1)\n"
   ]
  },
  {
   "cell_type": "code",
   "execution_count": null,
   "metadata": {},
   "outputs": [
    {
     "name": "stderr",
     "output_type": "stream",
     "text": [
      "C:\\Users\\Daniel\\AppData\\Local\\Temp\\ipykernel_18976\\47604672.py:17: UserWarning: Implicit dimension choice for log_softmax has been deprecated. Change the call to include dim=X as an argument.\n",
      "  out = F.log_softmax(out)\n"
     ]
    },
    {
     "data": {
      "image/png": "[encoded data removed]",
      "text/plain": [
       "<Figure size 640x480 with 1 Axes>"
      ]
     },
     "metadata": {},
     "output_type": "display_data"
    }
   ],
   "source": [
    "optimizer = optim.SGD(model.parameters(),lr=0.01)\n",
    "loss_func = nn.NLLLoss()\n",
    "n_epochs = 100\n",
    "\n",
    "train_error_list = []\n",
    "test_error_list = []\n",
    "for epoch in range(n_epochs):\n",
    "    epoch_error = 0\n",
    "    model.train()\n",
    "    for inputs, targets in train_loader:\n",
    "        # targets= targets.reshape(-1,1)\n",
    "        model.zero_grad()\n",
    "        # print(inputs.shape)\n",
    "        output = model(inputs)\n",
    "        # print(output.shape,targets.shape)\n",
    "        # print(targets)\n",
    "        # print(output)\n",
    "        error = loss_func(output, targets)\n",
    "        error.backward()\n",
    "        optimizer.step()\n",
    "        epoch_error+=error\n",
    "    train_error_list.append(epoch_error.detach())\n",
    "    error_plot(train_error_list)\n",
    "    model.eval()\n",
    "    for i, (inputs,targets) in enumerate(test_loader):\n",
    "        outputs = model(inputs)\n",
    "        vals,indices = torch.max(outputs,dim=1)\n",
    "        error = (indices == targets).sum().item()\n",
    "        test_error_list.append(error)\n",
    "\n",
    "        \n",
    "\n",
    "    #     outputs = model(inputs)\n",
    "        \n",
    "\n",
    "        "
   ]
  },
  {
   "cell_type": "code",
   "execution_count": null,
   "metadata": {},
   "outputs": [
    {
     "data": {
      "image/png": "[encoded data removed]",
      "text/plain": [
       "<Figure size 640x480 with 1 Axes>"
      ]
     },
     "metadata": {},
     "output_type": "display_data"
    }
   ],
   "source": [
    "error_plot(test_error_list)"
   ]
  },
  {
   "cell_type": "code",
   "execution_count": null,
   "metadata": {},
   "outputs": [
    {
     "name": "stdout",
     "output_type": "stream",
     "text": [
      "tensor([[-0.2968,  0.2480, -0.5056,  0.9615,  0.4041],\n",
      "        [-0.7111, -2.0662,  0.9842,  0.5009,  0.8081],\n",
      "        [ 1.7217,  0.8693,  0.0967, -0.7141, -1.4218]], requires_grad=True)\n",
      "tensor([[-2.2051, -1.6602, -2.4138, -0.9468, -1.5042],\n",
      "        [-2.6834, -4.0385, -0.9882, -1.4714, -1.1642],\n",
      "        [-0.5619, -1.4143, -2.1869, -2.9977, -3.7053]],\n",
      "       grad_fn=<LogSoftmaxBackward0>)\n",
      "tensor([1, 0, 4])\n"
     ]
    }
   ],
   "source": [
    "log_softmax = nn.LogSoftmax(dim=1)\n",
    "loss_fn = nn.NLLLoss()\n",
    "# input to NLLLoss is of size N x C = 3 x 5\n",
    "input = torch.randn(3, 5, requires_grad=True)\n",
    "# each element in target must have 0 <= value < C\n",
    "target = torch.tensor([1, 0, 4])\n",
    "print(input)\n",
    "print(log_softmax(input))\n",
    "print(target)\n",
    "loss = loss_fn(log_softmax(input), target)\n",
    "loss.backward()\n",
    "# 2D loss example (used, for example, with image inputs)\n",
    "N, C = 5, 4\n",
    "loss_fn = nn.NLLLoss()\n",
    "data = torch.randn(N, 16, 10, 10)\n",
    "conv = nn.Conv2d(16, C, (3, 3))\n",
    "log_softmax = nn.LogSoftmax(dim=1)\n",
    "# output of conv forward is of shape [N, C, 8, 8]\n",
    "output = log_softmax(conv(data))\n",
    "# each element in target must have 0 <= value < C\n",
    "target = torch.empty(N, 8, 8, dtype=torch.long).random_(0, C)\n",
    "# input to NLLLoss is of size N x C x height (8) x width (8)\n",
    "loss = loss_fn(output, target)\n",
    "loss.backward()"
   ]
  },
  {
   "cell_type": "code",
   "execution_count": 349,
   "metadata": {},
   "outputs": [],
   "source": [
    "# sys.getsizeof(padded_dataset1)"
   ]
  },
  {
   "cell_type": "code",
   "execution_count": 350,
   "metadata": {},
   "outputs": [],
   "source": [
    "# If using in RNN, you need lengths to pack the sequence (if applicable)\n",
    "sequence_lengths = torch.tensor([tensor.size(0) for tensor in dataset_tensor_list])\n",
    "\n",
    "# (Optional) Pack the sequence, if used in an RNN\n",
    "packed_dataset = torch.nn.utils.rnn.pack_padded_sequence(padded_dataset, sequence_lengths, batch_first=True, enforce_sorted=False)\n"
   ]
  },
  {
   "cell_type": "code",
   "execution_count": 351,
   "metadata": {},
   "outputs": [
    {
     "data": {
      "text/plain": [
       "torch.Size([1000, 31, 481])"
      ]
     },
     "execution_count": 351,
     "metadata": {},
     "output_type": "execute_result"
    }
   ],
   "source": [
    "padded_dataset1.shape"
   ]
  },
  {
   "cell_type": "code",
   "execution_count": 352,
   "metadata": {},
   "outputs": [],
   "source": [
    "# sys.getsizeof(padded_dataset.shape)\n",
    "\n",
    "torch.save(padded_dataset1, 'padded_dataset1.pt')"
   ]
  },
  {
   "cell_type": "code",
   "execution_count": 353,
   "metadata": {},
   "outputs": [],
   "source": [
    "# import pickle\n",
    "# with open(\"padded_dataset1.pkl\", \"wb\") as file:\n",
    "#     pickle.dump(padded_dataset1, file)"
   ]
  },
  {
   "cell_type": "code",
   "execution_count": 354,
   "metadata": {},
   "outputs": [
    {
     "ename": "AttributeError",
     "evalue": "'list' object has no attribute 'size'",
     "output_type": "error",
     "traceback": [
      "\u001b[1;31m---------------------------------------------------------------------------\u001b[0m",
      "\u001b[1;31mAttributeError\u001b[0m                            Traceback (most recent call last)",
      "Cell \u001b[1;32mIn[354], line 5\u001b[0m\n\u001b[0;32m      1\u001b[0m \u001b[38;5;28mlen\u001b[39m(dataset_tensor_list)\n\u001b[0;32m      3\u001b[0m \u001b[38;5;28;01mfrom\u001b[39;00m \u001b[38;5;21;01mtorch\u001b[39;00m\u001b[38;5;21;01m.\u001b[39;00m\u001b[38;5;21;01mutils\u001b[39;00m\u001b[38;5;21;01m.\u001b[39;00m\u001b[38;5;21;01mdata\u001b[39;00m \u001b[38;5;28;01mimport\u001b[39;00m TensorDataset\n\u001b[1;32m----> 5\u001b[0m \u001b[43mTensorDataset\u001b[49m\u001b[43m(\u001b[49m\u001b[43mdataset_tensor_list\u001b[49m\u001b[43m,\u001b[49m\u001b[43mtarget_list\u001b[49m\u001b[43m)\u001b[49m\n",
      "File \u001b[1;32mc:\\Users\\Daniel\\anaconda3\\envs\\alfa-unal\\lib\\site-packages\\torch\\utils\\data\\dataset.py:202\u001b[0m, in \u001b[0;36mTensorDataset.__init__\u001b[1;34m(self, *tensors)\u001b[0m\n\u001b[0;32m    201\u001b[0m \u001b[38;5;28;01mdef\u001b[39;00m \u001b[38;5;21m__init__\u001b[39m(\u001b[38;5;28mself\u001b[39m, \u001b[38;5;241m*\u001b[39mtensors: Tensor) \u001b[38;5;241m-\u001b[39m\u001b[38;5;241m>\u001b[39m \u001b[38;5;28;01mNone\u001b[39;00m:\n\u001b[1;32m--> 202\u001b[0m     \u001b[38;5;28;01massert\u001b[39;00m \u001b[38;5;28;43mall\u001b[39;49m\u001b[43m(\u001b[49m\u001b[43mtensors\u001b[49m\u001b[43m[\u001b[49m\u001b[38;5;241;43m0\u001b[39;49m\u001b[43m]\u001b[49m\u001b[38;5;241;43m.\u001b[39;49m\u001b[43msize\u001b[49m\u001b[43m(\u001b[49m\u001b[38;5;241;43m0\u001b[39;49m\u001b[43m)\u001b[49m\u001b[43m \u001b[49m\u001b[38;5;241;43m==\u001b[39;49m\u001b[43m \u001b[49m\u001b[43mtensor\u001b[49m\u001b[38;5;241;43m.\u001b[39;49m\u001b[43msize\u001b[49m\u001b[43m(\u001b[49m\u001b[38;5;241;43m0\u001b[39;49m\u001b[43m)\u001b[49m\u001b[43m \u001b[49m\u001b[38;5;28;43;01mfor\u001b[39;49;00m\u001b[43m \u001b[49m\u001b[43mtensor\u001b[49m\u001b[43m \u001b[49m\u001b[38;5;129;43;01min\u001b[39;49;00m\u001b[43m \u001b[49m\u001b[43mtensors\u001b[49m\u001b[43m)\u001b[49m, \u001b[38;5;124m\"\u001b[39m\u001b[38;5;124mSize mismatch between tensors\u001b[39m\u001b[38;5;124m\"\u001b[39m\n\u001b[0;32m    203\u001b[0m     \u001b[38;5;28mself\u001b[39m\u001b[38;5;241m.\u001b[39mtensors \u001b[38;5;241m=\u001b[39m tensors\n",
      "File \u001b[1;32mc:\\Users\\Daniel\\anaconda3\\envs\\alfa-unal\\lib\\site-packages\\torch\\utils\\data\\dataset.py:202\u001b[0m, in \u001b[0;36m<genexpr>\u001b[1;34m(.0)\u001b[0m\n\u001b[0;32m    201\u001b[0m \u001b[38;5;28;01mdef\u001b[39;00m \u001b[38;5;21m__init__\u001b[39m(\u001b[38;5;28mself\u001b[39m, \u001b[38;5;241m*\u001b[39mtensors: Tensor) \u001b[38;5;241m-\u001b[39m\u001b[38;5;241m>\u001b[39m \u001b[38;5;28;01mNone\u001b[39;00m:\n\u001b[1;32m--> 202\u001b[0m     \u001b[38;5;28;01massert\u001b[39;00m \u001b[38;5;28mall\u001b[39m(\u001b[43mtensors\u001b[49m\u001b[43m[\u001b[49m\u001b[38;5;241;43m0\u001b[39;49m\u001b[43m]\u001b[49m\u001b[38;5;241;43m.\u001b[39;49m\u001b[43msize\u001b[49m(\u001b[38;5;241m0\u001b[39m) \u001b[38;5;241m==\u001b[39m tensor\u001b[38;5;241m.\u001b[39msize(\u001b[38;5;241m0\u001b[39m) \u001b[38;5;28;01mfor\u001b[39;00m tensor \u001b[38;5;129;01min\u001b[39;00m tensors), \u001b[38;5;124m\"\u001b[39m\u001b[38;5;124mSize mismatch between tensors\u001b[39m\u001b[38;5;124m\"\u001b[39m\n\u001b[0;32m    203\u001b[0m     \u001b[38;5;28mself\u001b[39m\u001b[38;5;241m.\u001b[39mtensors \u001b[38;5;241m=\u001b[39m tensors\n",
      "\u001b[1;31mAttributeError\u001b[0m: 'list' object has no attribute 'size'"
     ]
    }
   ],
   "source": [
    "len(dataset_tensor_list)\n",
    "\n",
    "from torch.utils.data import TensorDataset\n",
    "\n",
    "TensorDataset(dataset_tensor_list,target_list)"
   ]
  }
 ],
 "metadata": {
  "kernelspec": {
   "display_name": "alfa-unal",
   "language": "python",
   "name": "python3"
  },
  "language_info": {
   "codemirror_mode": {
    "name": "ipython",
    "version": 3
   },
   "file_extension": ".py",
   "mimetype": "text/x-python",
   "name": "python",
   "nbconvert_exporter": "python",
   "pygments_lexer": "ipython3",
   "version": "3.9.0"
  }
 },
 "nbformat": 4,
 "nbformat_minor": 2
}
