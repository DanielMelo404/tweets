{
 "cells": [
  {
   "cell_type": "code",
   "execution_count": 9,
   "metadata": {},
   "outputs": [
    {
     "data": {
      "text/plain": [
       "(5329, 2284, 5329, 2284)"
      ]
     },
     "execution_count": 9,
     "metadata": {},
     "output_type": "execute_result"
    }
   ],
   "source": [
    "import pandas as pd\n",
    "import numpy as np\n",
    "import torch.nn as nn\n",
    "import torch\n",
    "from sklearn.model_selection import train_test_split\n",
    "\n",
    "\n",
    "df = pd.read_csv('data/train.csv')\n",
    "\n",
    "X_train, X_test, y_train, y_test = train_test_split(df.text,df.target,test_size=0.3,random_state=42, shuffle=True)\n",
    "\n",
    "X_train.shape[0], X_test.shape[0], y_train.shape[0], y_test.shape[0]\n"
   ]
  },
  {
   "cell_type": "code",
   "execution_count": 10,
   "metadata": {},
   "outputs": [],
   "source": [
    "# one_hot_encoded_df= pd.read_csv('data/one_hot_encoded_df.csv')"
   ]
  },
  {
   "cell_type": "code",
   "execution_count": 11,
   "metadata": {},
   "outputs": [
    {
     "name": "stdout",
     "output_type": "stream",
     "text": [
      "Index(['!', '!!', '!!!', '!!!!', '!!!!!', '!!!!!!!!!!!#MetroFmTalk', '!The',\n",
      "       '#', '##book', '##fukushima',\n",
      "       ...\n",
      "       'å£9!', 'å¤}', 'å¨', 'å©Daniel', 'å¬'Only', 'åÇ', 'åÈ',\n",
      "       'åÈMGN-AFRICAå¨', 'åÊ', 'åÊFedEx'],\n",
      "      dtype='object', length=31924)\n"
     ]
    }
   ],
   "source": [
    "import numpy as np\n",
    "import pandas as pd\n",
    "\n",
    "# Assuming df is your DataFrame containing the tweets\n",
    "# Create the vocabulary\n",
    "\n",
    "vocabulary = np.array([])\n",
    "for i in range(len(df.index)):\n",
    "    words = df['text'].iloc[i].split()  \n",
    "    vocabulary = np.append(vocabulary, np.unique(words))  \n",
    "    vocabulary = np.unique(vocabulary)\n",
    "\n",
    "# Create a dictionary to map each word to an index\n",
    "word_to_index = {word: idx for idx, word in enumerate(vocabulary)}\n",
    "\n",
    "# Function to one-hot encode a tweet\n",
    "def one_hot_encode(tweet, vocab_size):\n",
    "    one_hot_vector = np.zeros(vocab_size)\n",
    "    for word in tweet.split():\n",
    "        if word in word_to_index:\n",
    "            index = word_to_index[word]\n",
    "            one_hot_vector[index] = 1\n",
    "    return one_hot_vector\n",
    "\n",
    "# Apply the one-hot encoding to each tweet\n",
    "one_hot_encoded_tweets = np.array([one_hot_encode(tweet, len(vocabulary)) for tweet in df['text']])\n",
    "\n",
    "# Convert to DataFrame for better readability (optional)\n",
    "one_hot_encoded_df = pd.DataFrame(one_hot_encoded_tweets, columns=vocabulary)\n",
    "print(one_hot_encoded_df.columns)"
   ]
  },
  {
   "cell_type": "code",
   "execution_count": 12,
   "metadata": {},
   "outputs": [
    {
     "data": {
      "text/plain": [
       "31924"
      ]
     },
     "execution_count": 12,
     "metadata": {},
     "output_type": "execute_result"
    }
   ],
   "source": [
    "n_letters = one_hot_encoded_df.shape[1]\n",
    "n_letters"
   ]
  },
  {
   "cell_type": "code",
   "execution_count": 13,
   "metadata": {},
   "outputs": [],
   "source": [
    "def letterToIndex(letter):\n",
    "    return one_hot_encoded_df.columns.get_loc(letter)\n",
    "\n",
    "def lineToTensor(line):\n",
    "    line = line.split()\n",
    "    # We want to have a tensor that, in the first dimension has the sequence index\n",
    "    # 2nd dimension idk\n",
    "    # 3d dimension for the one hot element\n",
    "\n",
    "    # Create empty tensor\n",
    "    tensor = torch.zeros(len(line), 1, n_letters)\n",
    "\n",
    "    # Create the sequence tensor\n",
    "    for li, letter in enumerate(line):\n",
    "        tensor[li][0][letterToIndex(letter)] = 1\n",
    "\n",
    "    return tensor\n",
    "\n",
    "\n",
    "def categoryFromOutput(output):\n",
    "    top_n, top_i = output.topk(1)\n",
    "    category_i = top_i[0].item()\n",
    "    return all_categories[category_i], category_i"
   ]
  },
  {
   "cell_type": "code",
   "execution_count": 14,
   "metadata": {},
   "outputs": [],
   "source": [
    "import torch.nn as nn\n",
    "import torch.nn.functional as F\n",
    "\n",
    "class RNN(nn.Module):\n",
    "    def __init__(self, input_size, hidden_size, output_size):\n",
    "        super(RNN, self).__init__()\n",
    "        self.hidden_size = hidden_size\n",
    "        self.i2h = nn.Linear(input_size, hidden_size)\n",
    "        self.h2h = nn.Linear(hidden_size, hidden_size)\n",
    "        self.h2o = nn.Linear(hidden_size, output_size)\n",
    "        self.softmax = nn.LogSoftmax(dim=1)\n",
    "\n",
    "    def forward(self, input, hidden):\n",
    "        hidden = F.tanh(self.i2h(input) + self.h2h(hidden))\n",
    "        output = self.h2o(hidden)\n",
    "        output = self.softmax(output)\n",
    "        return output, hidden\n",
    "\n",
    "    def initHidden(self):\n",
    "        return torch.zeros(1, self.hidden_size)\n",
    "\n",
    "n_hidden  = 128\n",
    "n_letters = 31924\n",
    "n_categories = 2\n",
    "\n",
    "rnn = RNN(n_letters, n_hidden, n_categories)"
   ]
  },
  {
   "cell_type": "code",
   "execution_count": 15,
   "metadata": {},
   "outputs": [],
   "source": [
    "all_categories = [1,0]"
   ]
  },
  {
   "cell_type": "code",
   "execution_count": 16,
   "metadata": {},
   "outputs": [],
   "source": [
    "import torch.optim as optim\n",
    "learning_rate = 0.005 # If you set this too high, it might explode. If too low, it might not learn\n",
    "\n",
    "criterion = nn.NLLLoss()\n",
    "optimizer = optim.Adam(rnn.parameters(), lr=learning_rate)\n",
    "\n",
    "def train(category_tensor, line_tensor):\n",
    "    hidden = rnn.initHidden()\n",
    "    rnn.train()\n",
    "    optimizer.zero_grad()\n",
    "\n",
    "    for i in range(line_tensor.size()[0]):\n",
    "        output, hidden = rnn(line_tensor[i], hidden)\n",
    "\n",
    "    loss = criterion(output, category_tensor)\n",
    "    loss.backward()\n",
    "    optimizer.step()\n",
    "\n",
    "    # Add parameters' gradients to their values, multiplied by learning rate\n",
    "    # for p in rnn.parameters():\n",
    "    #     p.data.add_(p.grad.data, alpha=-learning_rate)\n",
    "\n",
    "    return output, loss.item()\n",
    "\n"
   ]
  },
  {
   "cell_type": "code",
   "execution_count": 18,
   "metadata": {},
   "outputs": [
    {
     "data": {
      "text/plain": [
       "(1,\n",
       " 4075,\n",
       " tensor([0]),\n",
       " tensor([[[0., 0., 0.,  ..., 0., 0., 0.]],\n",
       " \n",
       "         [[0., 0., 0.,  ..., 0., 0., 0.]],\n",
       " \n",
       "         [[0., 0., 0.,  ..., 0., 0., 0.]],\n",
       " \n",
       "         ...,\n",
       " \n",
       "         [[0., 0., 0.,  ..., 0., 0., 0.]],\n",
       " \n",
       "         [[0., 0., 0.,  ..., 0., 0., 0.]],\n",
       " \n",
       "         [[0., 0., 0.,  ..., 0., 0., 0.]]]))"
      ]
     },
     "execution_count": 18,
     "metadata": {},
     "output_type": "execute_result"
    }
   ],
   "source": [
    "import random\n",
    "\n",
    "def randomChoice(l):\n",
    "    return l[random.randint(0, len(l) - 1)]\n",
    "\n",
    "def randomTrainingExample():\n",
    "    category = randomChoice(all_categories)\n",
    "    # Choose a line randomly\n",
    "    line = randomChoice(X_train[y_train==category].index)\n",
    "    # Convert to tensor\n",
    "    line_tensor = lineToTensor(df.text.iloc[line])\n",
    "\n",
    "    category_tensor = torch.tensor([all_categories.index(category)], dtype=torch.long)\n",
    "    \n",
    "    return category, line, category_tensor, line_tensor\n",
    "\n",
    "randomChoice(all_categories)\n",
    "\n",
    "randomChoice(X_train[y_train==1].index)\n",
    "\n",
    "randomTrainingExample()"
   ]
  },
  {
   "cell_type": "code",
   "execution_count": 23,
   "metadata": {},
   "outputs": [
    {
     "name": "stdout",
     "output_type": "stream",
     "text": [
      "5000 5% (12m 47s) 0.6049 6996 / 0 ✓\n",
      "10000 10% (26m 29s) 0.0710 581 / 1 ✓\n",
      "15000 15% (39m 53s) 0.8372 2601 / 0 ✗ (1)\n",
      "20000 20% (54m 25s) 1.5659 6067 / 0 ✗ (1)\n",
      "25000 25% (69m 12s) 0.2572 1774 / 1 ✓\n",
      "30000 30% (84m 40s) 0.0484 2390 / 1 ✓\n",
      "35000 35% (99m 5s) 0.9242 4193 / 1 ✗ (0)\n",
      "40000 40% (113m 18s) 0.1770 967 / 0 ✓\n",
      "45000 45% (128m 59s) 0.9250 6165 / 1 ✗ (0)\n",
      "50000 50% (145m 5s) 1.4978 5069 / 0 ✗ (1)\n",
      "55000 55% (160m 4s) 0.5208 6441 / 1 ✓\n",
      "60000 60% (174m 58s) 0.8480 2754 / 0 ✗ (1)\n",
      "65000 65% (190m 6s) 1.9855 4951 / 1 ✗ (0)\n",
      "70000 70% (204m 59s) 1.8211 4038 / 1 ✗ (0)\n",
      "75000 75% (219m 49s) 0.4143 3775 / 0 ✓\n",
      "80000 80% (234m 35s) 0.9087 5716 / 0 ✗ (1)\n",
      "85000 85% (249m 33s) 3.3461 1445 / 1 ✗ (0)\n",
      "90000 90% (264m 38s) 1.7300 3339 / 0 ✗ (1)\n",
      "95000 95% (280m 37s) 1.2413 3271 / 0 ✗ (1)\n",
      "100000 100% (296m 44s) 0.1406 6944 / 1 ✓\n"
     ]
    }
   ],
   "source": [
    "import time\n",
    "import math\n",
    "\n",
    "n_iters = 100000\n",
    "print_every = 5000\n",
    "plot_every = 1000\n",
    "\n",
    "# Keep track of losses for plottingtest\n",
    "current_loss = 0\n",
    "all_losses = []\n",
    "\n",
    "def timeSince(since):\n",
    "    now = time.time()\n",
    "    s = now - since\n",
    "    m = math.floor(s / 60)\n",
    "    s -= m * 60\n",
    "    return '%dm %ds' % (m, s)\n",
    "\n",
    "start = time.time()\n",
    "\n",
    "for iter in range(1, n_iters + 1):\n",
    "    category, line, category_tensor, line_tensor = randomTrainingExample()\n",
    "    output, loss = train(category_tensor, line_tensor)\n",
    "    current_loss += loss\n",
    "\n",
    "    # Print ``iter`` number, loss, name and guess\n",
    "    if iter % print_every == 0:\n",
    "        guess, guess_i = categoryFromOutput(output)\n",
    "        correct = '✓' if guess == category else '✗ (%s)' % category\n",
    "        print('%d %d%% (%s) %.4f %s / %s %s' % (iter, iter / n_iters * 100, timeSince(start), loss, line, guess, correct))\n",
    "\n",
    "    # Add current loss avg to list of losses\n",
    "    if iter % plot_every == 0:\n",
    "        all_losses.append(current_loss / plot_every)\n",
    "        current_loss = 0\n"
   ]
  },
  {
   "cell_type": "code",
   "execution_count": 22,
   "metadata": {},
   "outputs": [
    {
     "data": {
      "text/plain": [
       "(tensor([[-2.8604, -0.0589]], grad_fn=<LogSoftmaxBackward0>),\n",
       " 2.8604416847229004)"
      ]
     },
     "execution_count": 22,
     "metadata": {},
     "output_type": "execute_result"
    }
   ],
   "source": [
    "category, line, category_tensor, line_tensor = randomTrainingExample()"
   ]
  },
  {
   "cell_type": "code",
   "execution_count": 36,
   "metadata": {},
   "outputs": [],
   "source": [
    "torch.save(rnn, 'rnn1.pth')"
   ]
  },
  {
   "cell_type": "code",
   "execution_count": 37,
   "metadata": {},
   "outputs": [
    {
     "data": {
      "text/plain": [
       "[<matplotlib.lines.Line2D at 0x21fc04b0190>]"
      ]
     },
     "execution_count": 37,
     "metadata": {},
     "output_type": "execute_result"
    },
    {
     "data": {
      "image/png": "[encoded data removed]",
      "text/plain": [
       "<Figure size 640x480 with 1 Axes>"
      ]
     },
     "metadata": {},
     "output_type": "display_data"
    }
   ],
   "source": [
    "import matplotlib.pyplot as plt\n",
    "import matplotlib.ticker as ticker\n",
    "\n",
    "plt.figure()\n",
    "plt.plot(all_losses)"
   ]
  }
 ],
 "metadata": {
  "kernelspec": {
   "display_name": "openbox3.7",
   "language": "python",
   "name": "python3"
  },
  "language_info": {
   "codemirror_mode": {
    "name": "ipython",
    "version": 3
   },
   "file_extension": ".py",
   "mimetype": "text/x-python",
   "name": "python",
   "nbconvert_exporter": "python",
   "pygments_lexer": "ipython3",
   "version": "3.9.0"
  },
  "orig_nbformat": 4
 },
 "nbformat": 4,
 "nbformat_minor": 2
}
