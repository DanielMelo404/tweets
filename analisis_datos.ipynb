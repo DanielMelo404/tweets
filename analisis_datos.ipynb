{
 "cells": [
  {
   "cell_type": "code",
   "execution_count": 68,
   "metadata": {},
   "outputs": [],
   "source": [
    "import pandas as pd\n",
    "import numpy as np\n",
    "import sys\n",
    "import torch.nn as nn\n",
    "import torch\n",
    "from sklearn.model_selection import train_test_split\n",
    "\n",
    "one_hot_encoded_df = pd.read_csv(\"data/one_hot_encoded_df.csv\")"
   ]
  },
  {
   "cell_type": "code",
   "execution_count": 69,
   "metadata": {},
   "outputs": [
    {
     "data": {
      "text/plain": [
       "tensor([[ 0.6304,  1.0728,  1.2789, -1.4961,  0.1943]],\n",
       "       grad_fn=<EmbeddingBackward0>)"
      ]
     },
     "execution_count": 69,
     "metadata": {},
     "output_type": "execute_result"
    }
   ],
   "source": [
    "import torch.nn as nn\n",
    "embed = nn.Embedding(2,5)\n",
    "w2idx = {\"hi\":0, \"how\":1}\n",
    "tensor = torch.tensor([w2idx[\"hi\"]],dtype = torch.long)\n",
    "embed(tensor)"
   ]
  },
  {
   "cell_type": "code",
   "execution_count": 70,
   "metadata": {},
   "outputs": [
    {
     "data": {
      "text/plain": [
       "<torch._C.Generator at 0x250718c3970>"
      ]
     },
     "execution_count": 70,
     "metadata": {},
     "output_type": "execute_result"
    }
   ],
   "source": [
    "# Author: Robert Guthrie\n",
    "\n",
    "import torch\n",
    "import torch.nn as nn\n",
    "import torch.nn.functional as F\n",
    "import torch.optim as optim\n",
    "\n",
    "torch.manual_seed(1)"
   ]
  },
  {
   "cell_type": "code",
   "execution_count": 71,
   "metadata": {},
   "outputs": [
    {
     "name": "stdout",
     "output_type": "stream",
     "text": [
      "[(['forty', 'When'], 'winters'), (['winters', 'forty'], 'shall'), (['shall', 'winters'], 'besiege')]\n",
      "tensor(4.5198, grad_fn=<NllLossBackward0>)\n",
      "tensor(4.5068, grad_fn=<NllLossBackward0>)\n",
      "tensor(4.4938, grad_fn=<NllLossBackward0>)\n",
      "tensor(4.4810, grad_fn=<NllLossBackward0>)\n",
      "tensor(4.4682, grad_fn=<NllLossBackward0>)\n",
      "tensor(4.4556, grad_fn=<NllLossBackward0>)\n",
      "tensor(4.4429, grad_fn=<NllLossBackward0>)\n",
      "tensor(4.4304, grad_fn=<NllLossBackward0>)\n",
      "tensor(4.4179, grad_fn=<NllLossBackward0>)\n",
      "tensor(4.4055, grad_fn=<NllLossBackward0>)\n",
      "[521.7947721481323, 519.3636720180511, 516.9476146697998, 514.5457079410553, 512.1581547260284, 509.7849905490875, 507.4246950149536, 505.07671332359314, 502.739173412323, 500.41190671920776]\n",
      "tensor([ 0.0836,  1.7057, -0.2078, -0.2727, -0.6516,  2.3172, -0.3155,  1.2306,\n",
      "         0.0183,  1.6961], grad_fn=<SelectBackward0>)\n"
     ]
    }
   ],
   "source": [
    "CONTEXT_SIZE = 2\n",
    "EMBEDDING_DIM = 10\n",
    "# We will use Shakespeare Sonnet 2\n",
    "test_sentence = \"\"\"When forty winters shall besiege thy brow,\n",
    "And dig deep trenches in thy beauty's field,\n",
    "Thy youth's proud livery so gazed on now,\n",
    "Will be a totter'd weed of small worth held:\n",
    "Then being asked, where all thy beauty lies,\n",
    "Where all the treasure of thy lusty days;\n",
    "To say, within thine own deep sunken eyes,\n",
    "Were an all-eating shame, and thriftless praise.\n",
    "How much more praise deserv'd thy beauty's use,\n",
    "If thou couldst answer 'This fair child of mine\n",
    "Shall sum my count, and make my old excuse,'\n",
    "Proving his beauty by succession thine!\n",
    "This were to be new made when thou art old,\n",
    "And see thy blood warm when thou feel'st it cold.\"\"\".split()\n",
    "# we should tokenize the input, but we will ignore that for now\n",
    "# build a list of tuples.\n",
    "# Each tuple is ([ word_i-CONTEXT_SIZE, ..., word_i-1 ], target word)\n",
    "ngrams = [\n",
    "    (\n",
    "        [test_sentence[i - j - 1] for j in range(CONTEXT_SIZE)],\n",
    "        test_sentence[i]\n",
    "    )\n",
    "    for i in range(CONTEXT_SIZE, len(test_sentence))\n",
    "]\n",
    "# Print the first 3, just so you can see what they look like.\n",
    "print(ngrams[:3])\n",
    "\n",
    "vocab = set(test_sentence)\n",
    "word_to_ix = {word: i for i, word in enumerate(vocab)}\n",
    "\n",
    "\n",
    "class NGramLanguageModeler(nn.Module):\n",
    "\n",
    "    def __init__(self, vocab_size, embedding_dim, context_size):\n",
    "        super(NGramLanguageModeler, self).__init__()\n",
    "        self.embeddings = nn.Embedding(vocab_size, embedding_dim)\n",
    "        self.linear1 = nn.Linear(context_size * embedding_dim, 128)\n",
    "        self.linear2 = nn.Linear(128, vocab_size)\n",
    "\n",
    "    def forward(self, inputs):\n",
    "        embeds = self.embeddings(inputs).view((1, -1))\n",
    "        out = F.relu(self.linear1(embeds))\n",
    "        out = self.linear2(out)\n",
    "        log_probs = F.log_softmax(out, dim=1)\n",
    "        return log_probs\n",
    "\n",
    "\n",
    "losses = []\n",
    "loss_function = nn.NLLLoss()\n",
    "model = NGramLanguageModeler(len(vocab), EMBEDDING_DIM, CONTEXT_SIZE)\n",
    "optimizer = optim.SGD(model.parameters(), lr=0.001)\n",
    "\n",
    "for epoch in range(10):\n",
    "    total_loss = 0\n",
    "    for context, target in ngrams:\n",
    "\n",
    "        # Step 1. Prepare the inputs to be passed to the model (i.e, turn the words\n",
    "        # into integer indices and wrap them in tensors)\n",
    "        context_idxs = torch.tensor([word_to_ix[w] for w in context], dtype=torch.long)\n",
    "\n",
    "        # Step 2. Recall that torch *accumulates* gradients. Before passing in a\n",
    "        # new instance, you need to zero out the gradients from the old\n",
    "        # instance\n",
    "        model.zero_grad()\n",
    "\n",
    "        # Step 3. Run the forward pass, getting log probabilities over next\n",
    "        # words\n",
    "        log_probs = model(context_idxs)\n",
    "        # print(log_probs.shape)\n",
    "\n",
    "        # Step 4. Compute your loss function. (Again, Torch wants the target\n",
    "        # word wrapped in a tensor)\n",
    "        loss = loss_function(log_probs, torch.tensor([word_to_ix[target]], dtype=torch.long))\n",
    "\n",
    "        # Step 5. Do the backward pass and update the gradient\n",
    "        loss.backward()\n",
    "        optimizer.step()\n",
    "\n",
    "        # Get the Python number from a 1-element Tensor by calling tensor.item()\n",
    "        total_loss += loss.item()\n",
    "    losses.append(total_loss)\n",
    "    print(loss)\n",
    "print(losses)  # The loss decreased every iteration over the training data!\n",
    "\n",
    "# To get the embedding of a particular word, e.g. \"beauty\"\n",
    "print(model.embeddings.weight[word_to_ix[\"beauty\"]])"
   ]
  },
  {
   "cell_type": "code",
   "execution_count": 72,
   "metadata": {},
   "outputs": [
    {
     "data": {
      "text/plain": [
       "[(['forty', 'When'], 'winters'),\n",
       " (['winters', 'forty'], 'shall'),\n",
       " (['shall', 'winters'], 'besiege'),\n",
       " (['besiege', 'shall'], 'thy'),\n",
       " (['thy', 'besiege'], 'brow,'),\n",
       " (['brow,', 'thy'], 'And'),\n",
       " (['And', 'brow,'], 'dig'),\n",
       " (['dig', 'And'], 'deep'),\n",
       " (['deep', 'dig'], 'trenches'),\n",
       " (['trenches', 'deep'], 'in'),\n",
       " (['in', 'trenches'], 'thy'),\n",
       " (['thy', 'in'], \"beauty's\"),\n",
       " ([\"beauty's\", 'thy'], 'field,'),\n",
       " (['field,', \"beauty's\"], 'Thy'),\n",
       " (['Thy', 'field,'], \"youth's\"),\n",
       " ([\"youth's\", 'Thy'], 'proud'),\n",
       " (['proud', \"youth's\"], 'livery'),\n",
       " (['livery', 'proud'], 'so'),\n",
       " (['so', 'livery'], 'gazed'),\n",
       " (['gazed', 'so'], 'on'),\n",
       " (['on', 'gazed'], 'now,'),\n",
       " (['now,', 'on'], 'Will'),\n",
       " (['Will', 'now,'], 'be'),\n",
       " (['be', 'Will'], 'a'),\n",
       " (['a', 'be'], \"totter'd\"),\n",
       " ([\"totter'd\", 'a'], 'weed'),\n",
       " (['weed', \"totter'd\"], 'of'),\n",
       " (['of', 'weed'], 'small'),\n",
       " (['small', 'of'], 'worth'),\n",
       " (['worth', 'small'], 'held:'),\n",
       " (['held:', 'worth'], 'Then'),\n",
       " (['Then', 'held:'], 'being'),\n",
       " (['being', 'Then'], 'asked,'),\n",
       " (['asked,', 'being'], 'where'),\n",
       " (['where', 'asked,'], 'all'),\n",
       " (['all', 'where'], 'thy'),\n",
       " (['thy', 'all'], 'beauty'),\n",
       " (['beauty', 'thy'], 'lies,'),\n",
       " (['lies,', 'beauty'], 'Where'),\n",
       " (['Where', 'lies,'], 'all'),\n",
       " (['all', 'Where'], 'the'),\n",
       " (['the', 'all'], 'treasure'),\n",
       " (['treasure', 'the'], 'of'),\n",
       " (['of', 'treasure'], 'thy'),\n",
       " (['thy', 'of'], 'lusty'),\n",
       " (['lusty', 'thy'], 'days;'),\n",
       " (['days;', 'lusty'], 'To'),\n",
       " (['To', 'days;'], 'say,'),\n",
       " (['say,', 'To'], 'within'),\n",
       " (['within', 'say,'], 'thine'),\n",
       " (['thine', 'within'], 'own'),\n",
       " (['own', 'thine'], 'deep'),\n",
       " (['deep', 'own'], 'sunken'),\n",
       " (['sunken', 'deep'], 'eyes,'),\n",
       " (['eyes,', 'sunken'], 'Were'),\n",
       " (['Were', 'eyes,'], 'an'),\n",
       " (['an', 'Were'], 'all-eating'),\n",
       " (['all-eating', 'an'], 'shame,'),\n",
       " (['shame,', 'all-eating'], 'and'),\n",
       " (['and', 'shame,'], 'thriftless'),\n",
       " (['thriftless', 'and'], 'praise.'),\n",
       " (['praise.', 'thriftless'], 'How'),\n",
       " (['How', 'praise.'], 'much'),\n",
       " (['much', 'How'], 'more'),\n",
       " (['more', 'much'], 'praise'),\n",
       " (['praise', 'more'], \"deserv'd\"),\n",
       " ([\"deserv'd\", 'praise'], 'thy'),\n",
       " (['thy', \"deserv'd\"], \"beauty's\"),\n",
       " ([\"beauty's\", 'thy'], 'use,'),\n",
       " (['use,', \"beauty's\"], 'If'),\n",
       " (['If', 'use,'], 'thou'),\n",
       " (['thou', 'If'], 'couldst'),\n",
       " (['couldst', 'thou'], 'answer'),\n",
       " (['answer', 'couldst'], \"'This\"),\n",
       " ([\"'This\", 'answer'], 'fair'),\n",
       " (['fair', \"'This\"], 'child'),\n",
       " (['child', 'fair'], 'of'),\n",
       " (['of', 'child'], 'mine'),\n",
       " (['mine', 'of'], 'Shall'),\n",
       " (['Shall', 'mine'], 'sum'),\n",
       " (['sum', 'Shall'], 'my'),\n",
       " (['my', 'sum'], 'count,'),\n",
       " (['count,', 'my'], 'and'),\n",
       " (['and', 'count,'], 'make'),\n",
       " (['make', 'and'], 'my'),\n",
       " (['my', 'make'], 'old'),\n",
       " (['old', 'my'], \"excuse,'\"),\n",
       " ([\"excuse,'\", 'old'], 'Proving'),\n",
       " (['Proving', \"excuse,'\"], 'his'),\n",
       " (['his', 'Proving'], 'beauty'),\n",
       " (['beauty', 'his'], 'by'),\n",
       " (['by', 'beauty'], 'succession'),\n",
       " (['succession', 'by'], 'thine!'),\n",
       " (['thine!', 'succession'], 'This'),\n",
       " (['This', 'thine!'], 'were'),\n",
       " (['were', 'This'], 'to'),\n",
       " (['to', 'were'], 'be'),\n",
       " (['be', 'to'], 'new'),\n",
       " (['new', 'be'], 'made'),\n",
       " (['made', 'new'], 'when'),\n",
       " (['when', 'made'], 'thou'),\n",
       " (['thou', 'when'], 'art'),\n",
       " (['art', 'thou'], 'old,'),\n",
       " (['old,', 'art'], 'And'),\n",
       " (['And', 'old,'], 'see'),\n",
       " (['see', 'And'], 'thy'),\n",
       " (['thy', 'see'], 'blood'),\n",
       " (['blood', 'thy'], 'warm'),\n",
       " (['warm', 'blood'], 'when'),\n",
       " (['when', 'warm'], 'thou'),\n",
       " (['thou', 'when'], \"feel'st\"),\n",
       " ([\"feel'st\", 'thou'], 'it'),\n",
       " (['it', \"feel'st\"], 'cold.')]"
      ]
     },
     "execution_count": 72,
     "metadata": {},
     "output_type": "execute_result"
    }
   ],
   "source": [
    "ngrams"
   ]
  },
  {
   "cell_type": "code",
   "execution_count": 75,
   "metadata": {},
   "outputs": [
    {
     "name": "stdout",
     "output_type": "stream",
     "text": [
      "[(['are', 'We', 'to', 'study'], 'about'), (['about', 'are', 'study', 'the'], 'to'), (['to', 'about', 'the', 'idea'], 'study'), (['study', 'to', 'idea', 'of'], 'the'), (['the', 'study', 'of', 'a'], 'idea')]\n"
     ]
    },
    {
     "data": {
      "text/plain": [
       "(tensor([ 4, 19,  8, 10]), ['are', 'We', 'to', 'study'])"
      ]
     },
     "execution_count": 75,
     "metadata": {},
     "output_type": "execute_result"
    }
   ],
   "source": [
    "import  torch.nn.functional as F\n",
    "import torch.nn as nn\n",
    "import torch.nn.functional as F\n",
    "CONTEXT_SIZE = 2  # 2 words to the left, 2 to the right\n",
    "raw_text = \"\"\"We are about to study the idea of a computational process.\n",
    "Computational processes are abstract beings that inhabit computers.\n",
    "As they evolve, processes manipulate other abstract things called data.\n",
    "The evolution of a process is directed by a pattern of rules\n",
    "called a program. People create programs to direct processes. In effect,\n",
    "we conjure the spirits of the computer with our spells.\"\"\".split()\n",
    "\n",
    "# By deriving a set from `raw_text`, we deduplicate the array\n",
    "vocab = set(raw_text)\n",
    "vocab_size = len(vocab)\n",
    "\n",
    "data = []\n",
    "for i in range(CONTEXT_SIZE, len(raw_text) - CONTEXT_SIZE):\n",
    "    context = (\n",
    "        [raw_text[i - j - 1] for j in range(CONTEXT_SIZE)]\n",
    "        + [raw_text[i + j + 1] for j in range(CONTEXT_SIZE)]\n",
    "    )\n",
    "    target = raw_text[i]\n",
    "    data.append((context, target))\n",
    "print(data[:5])\n",
    "word_to_ix = {word: i for i, word in enumerate(vocab)}\n",
    "\n",
    "class CBOW(nn.Module):\n",
    "\n",
    "    def __init__(self,vocab_size,embedding_dim):\n",
    "        super(CBOW,self).__init__()\n",
    "        self.embedding = nn.Embedding(vocab_size,embedding_dim)\n",
    "        self.fc1 = nn.Linear(embedding_dim*CONTEXT_SIZE*2,vocab_size)\n",
    "\n",
    "    def forward(self, inputs):\n",
    "        x = self.embedding(inputs).view(1,-1)\n",
    "        # print(x.shape )\n",
    "        x = self.fc1(x)\n",
    "        # print(x.shape )\n",
    "        x = F.log_softmax(x)\n",
    "        return x\n",
    "# Create your model and train. Here are some functions to help you make\n",
    "# the data ready for use by your module.\n",
    "\n",
    "\n",
    "def make_context_vector(context, word_to_ix):\n",
    "    idxs = [word_to_ix[w] for w in context]\n",
    "    return torch.tensor(idxs, dtype=torch.long)\n",
    "\n",
    "\n",
    "make_context_vector(data[0][0], word_to_ix), data[0][0]  # example"
   ]
  },
  {
   "cell_type": "code",
   "execution_count": 78,
   "metadata": {},
   "outputs": [
    {
     "name": "stderr",
     "output_type": "stream",
     "text": [
      "C:\\Users\\Daniel\\AppData\\Local\\Temp\\ipykernel_12660\\2448344670.py:39: UserWarning: Implicit dimension choice for log_softmax has been deprecated. Change the call to include dim=X as an argument.\n",
      "  x = F.log_softmax(x)\n"
     ]
    },
    {
     "name": "stdout",
     "output_type": "stream",
     "text": [
      "tensor(4.9427, grad_fn=<NllLossBackward0>)\n",
      "tensor(4.9128, grad_fn=<NllLossBackward0>)\n",
      "tensor(4.8829, grad_fn=<NllLossBackward0>)\n",
      "tensor(4.8532, grad_fn=<NllLossBackward0>)\n",
      "tensor(4.8236, grad_fn=<NllLossBackward0>)\n",
      "tensor(4.7940, grad_fn=<NllLossBackward0>)\n",
      "tensor(4.7646, grad_fn=<NllLossBackward0>)\n",
      "tensor(4.7352, grad_fn=<NllLossBackward0>)\n",
      "tensor(4.7060, grad_fn=<NllLossBackward0>)\n",
      "tensor(4.6768, grad_fn=<NllLossBackward0>)\n"
     ]
    }
   ],
   "source": [
    "import torch.optim as optim\n",
    "model = CBOW(vocab_size, EMBEDDING_DIM)\n",
    "\n",
    "loss = nn.NLLLoss()\n",
    "optimizer = optim.SGD(model.parameters(),lr=0.001)\n",
    "loss_list = []\n",
    "epochs = 10\n",
    "for epoch in range(epochs):\n",
    "    for context ,target in data:\n",
    "        # print(context)\n",
    "        context_idx = make_context_vector(context,word_to_ix)\n",
    "        model.zero_grad()\n",
    "\n",
    "        preds = model(context_idx)\n",
    "\n",
    "        error = loss(preds,torch.tensor([word_to_ix[target]], dtype=torch.long))\n",
    "        error.backward()\n",
    "        \n",
    "        optimizer.step()\n",
    "        loss_list.append(error.item())\n",
    "\n",
    "    print(error)\n"
   ]
  },
  {
   "cell_type": "code",
   "execution_count": 79,
   "metadata": {},
   "outputs": [
    {
     "data": {
      "text/plain": [
       "[<matplotlib.lines.Line2D at 0x2504340a0d0>]"
      ]
     },
     "execution_count": 79,
     "metadata": {},
     "output_type": "execute_result"
    },
    {
     "data": {
      "image/png": "[encoded data removed]",
      "text/plain": [
       "<Figure size 640x480 with 1 Axes>"
      ]
     },
     "metadata": {},
     "output_type": "display_data"
    }
   ],
   "source": [
    "from matplotlib import pyplot as plt\n",
    "plt.plot(loss_list)"
   ]
  }
 ],
 "metadata": {
  "kernelspec": {
   "display_name": "alfa-unal",
   "language": "python",
   "name": "python3"
  },
  "language_info": {
   "codemirror_mode": {
    "name": "ipython",
    "version": 3
   },
   "file_extension": ".py",
   "mimetype": "text/x-python",
   "name": "python",
   "nbconvert_exporter": "python",
   "pygments_lexer": "ipython3",
   "version": "3.9.0"
  }
 },
 "nbformat": 4,
 "nbformat_minor": 2
}
