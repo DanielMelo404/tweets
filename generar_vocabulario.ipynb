{
 "cells": [
  {
   "cell_type": "code",
   "execution_count": null,
   "metadata": {
    "vscode": {
     "languageId": "plaintext"
    }
   },
   "outputs": [],
   "source": [
    "import pandas as pd\n",
    "import numpy as np\n",
    "import sys\n",
    "# import torch.nn as nn\n",
    "# import torch\n",
    "# import seaborn as sns\n",
    "import gc\n",
    "# from sklearn.model_selection import train_test_split\n",
    "# from torch.nn.utils.rnn import pad_sequence\n",
    "# from torch.utils.data import TensorDataset, DataLoader\n",
    "\n",
    "\n",
    "df = pd.read_csv('data/train_processed.csv')"
   ]
  },
  {
   "cell_type": "code",
   "execution_count": null,
   "metadata": {
    "vscode": {
     "languageId": "plaintext"
    }
   },
   "outputs": [],
   "source": [
    "\n",
    "\n",
    "# Assuming df is your DataFrame containing the tweets\n",
    "# Create the vocabulary\n",
    "\n",
    "vocabulary = np.array([])\n",
    "for i in range(len(df.index)):\n",
    "    words = df['text_processed'].iloc[i].split()  \n",
    "    vocabulary = np.append(vocabulary, np.unique(words))  \n",
    "    vocabulary = np.unique(vocabulary)\n",
    "\n",
    "# Create a dictionary to map each word to an index\n",
    "word_to_index = {word: idx for idx, word in enumerate(vocabulary)}\n",
    "\n",
    "# Function to one-hot encode a tweet\n",
    "def one_hot_encode(tweet, vocab_size):\n",
    "    one_hot_vector = np.zeros(vocab_size)\n",
    "    for word in tweet.split():\n",
    "        if word in word_to_index:\n",
    "            index = word_to_index[word]\n",
    "            one_hot_vector[index] = 1\n",
    "    return one_hot_vector\n",
    "\n",
    "# Apply the one-hot encoding to each tweet\n",
    "one_hot_encoded_tweets = np.array([one_hot_encode(tweet, len(vocabulary)) for tweet in df['text']])\n",
    "\n",
    "# Convert to DataFrame for better readability (optional)\n",
    "one_hot_encoded_df = pd.DataFrame(one_hot_encoded_tweets, columns=vocabulary)\n",
    "\n",
    "print(one_hot_encoded_df.columns)"
   ]
  },
  {
   "cell_type": "code",
   "execution_count": null,
   "metadata": {
    "vscode": {
     "languageId": "plaintext"
    }
   },
   "outputs": [],
   "source": [
    "one_hot_encoded_df.to_csv(\"data/one_hot_encoded_df_processed.csv\")"
   ]
  }
 ],
 "metadata": {
  "language_info": {
   "name": "python"
  }
 },
 "nbformat": 4,
 "nbformat_minor": 2
}
