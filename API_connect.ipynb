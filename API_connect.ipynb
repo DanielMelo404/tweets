{
 "cells": [
  {
   "cell_type": "code",
   "execution_count": 5,
   "metadata": {},
   "outputs": [
    {
     "name": "stdout",
     "output_type": "stream",
     "text": [
      "{'Document': {'Header': {'Sender': 'PrimeConnector', 'Receiver': 'Guest', 'Date': '2024-10-01T18:50:46.7944642Z', 'MessageID': 'df9f0484-4c35-43be-a870-fb1c54f24905'}, 'Body': {'BillOfResourcesMachines': [{'Name': 'Liner', 'Type': 5}, {'Name': 'Planar', 'Type': 6}, {'Name': 'Qualitron', 'Type': 1}]}}}\n"
     ]
    }
   ],
   "source": [
    "import requests\n",
    "\n",
    "print(requests.get('http://192.168.120.15:8080/Prime/API/1.5/Info/BillOfResources/Sorting1/Machines').json())"
   ]
  },
  {
   "cell_type": "code",
   "execution_count": 13,
   "metadata": {},
   "outputs": [
    {
     "name": "stdout",
     "output_type": "stream",
     "text": [
      "{'Document': {'Header': {'Sender': 'PrimeConnector', 'Receiver': 'Guest', 'Date': '2024-09-24T15:52:14.2392581Z', 'MessageID': 'e589bcfb-43c1-46d6-b4a5-cdd9d96fc56b'}, 'Body': {'BillOfResources': ['MachineDatabase', 'Sorting1']}}}\n"
     ]
    }
   ],
   "source": [
    "print(requests.get('http://192.168.120.15:8080/Prime/API/1.5/Info/BillOfResources/').json())"
   ]
  },
  {
   "cell_type": "code",
   "execution_count": 9,
   "metadata": {},
   "outputs": [
    {
     "data": {
      "text/plain": [
       "{'Name': 'Qualitron', 'Type': 1}"
      ]
     },
     "execution_count": 9,
     "metadata": {},
     "output_type": "execute_result"
    }
   ],
   "source": [
    "data_to_save = response.json()['Document']['Body']['BillOfResourcesMachines'][2]\n",
    "data_to_save"
   ]
  },
  {
   "cell_type": "code",
   "execution_count": 59,
   "metadata": {},
   "outputs": [
    {
     "name": "stdout",
     "output_type": "stream",
     "text": [
      "{'Document': {'Header': {'Sender': 'PrimeConnector', 'Receiver': 'Guest', 'Date': '2024-09-25T13:55:13.7929423Z', 'MessageID': '876b49e7-acde-4694-afc4-41f37c1fc478'}, 'Body': {'Error': 'Parameters billOfResourcesName and machineName must be both not null or both null'}}}\n"
     ]
    }
   ],
   "source": [
    "print(requests.get('http://192.168.120.15:8080/Prime/API/1.5/Images/QualitronImages?startDate=2024-01-29&endDate=2024-09-29&machineName=Qualitron').json())"
   ]
  },
  {
   "cell_type": "code",
   "execution_count": 56,
   "metadata": {},
   "outputs": [
    {
     "name": "stdout",
     "output_type": "stream",
     "text": [
      "<Response [404]>\n"
     ]
    }
   ],
   "source": [
    "# print(requests.get('http://192.168.120.15:8080/Prime/API/1.5/Uptime?startDate=2021-01-29&endDate=2022-05-29&machineName=Qualitron&aggregatePerOrder=true'))\n",
    "print(requests.get('http://192.168.120.15:8080/Prime/API/1.5/Realtime?billOfResources=Sorting1&machine=Qualitron'))"
   ]
  },
  {
   "cell_type": "code",
   "execution_count": 1,
   "metadata": {},
   "outputs": [
    {
     "ename": "NameError",
     "evalue": "name 'requests' is not defined",
     "output_type": "error",
     "traceback": [
      "\u001b[1;31m---------------------------------------------------------------------------\u001b[0m",
      "\u001b[1;31mNameError\u001b[0m                                 Traceback (most recent call last)",
      "Cell \u001b[1;32mIn[1], line 1\u001b[0m\n\u001b[1;32m----> 1\u001b[0m \u001b[38;5;28mprint\u001b[39m(\u001b[43mrequests\u001b[49m\u001b[38;5;241m.\u001b[39mget(\u001b[38;5;124m'\u001b[39m\u001b[38;5;124mhttp://192.168.120.15:8080/Prime/API/1.5/Images/QualitronImages?startDate=2024-05-29&endDate=2024-09-29&machineName=Qualitron\u001b[39m\u001b[38;5;124m'\u001b[39m))\n",
      "\u001b[1;31mNameError\u001b[0m: name 'requests' is not defined"
     ]
    }
   ],
   "source": [
    "print(requests.get('http://192.168.120.15:8080/Prime/API/1.5/Images/QualitronImages?startDate=2024-05-29&endDate=2024-09-29&machineName=Qualitron'))"
   ]
  },
  {
   "cell_type": "code",
   "execution_count": 29,
   "metadata": {},
   "outputs": [
    {
     "name": "stdout",
     "output_type": "stream",
     "text": [
      "<Response [400]>\n"
     ]
    }
   ],
   "source": [
    "print(requests.get('http://51.145.138.227:8080/Prime/API/1.5/Images/QualitronImages?startDate=2024-01-29&endDate=2024-09-29&machineName=Qualitron'))"
   ]
  },
  {
   "cell_type": "code",
   "execution_count": 53,
   "metadata": {},
   "outputs": [
    {
     "ename": "JSONDecodeError",
     "evalue": "Expecting value: line 1 column 1 (char 0)",
     "output_type": "error",
     "traceback": [
      "\u001b[1;31m---------------------------------------------------------------------------\u001b[0m",
      "\u001b[1;31mJSONDecodeError\u001b[0m                           Traceback (most recent call last)",
      "File \u001b[1;32mc:\\Users\\Daniel\\anaconda3\\envs\\alfa-unal\\lib\\site-packages\\requests\\models.py:974\u001b[0m, in \u001b[0;36mResponse.json\u001b[1;34m(self, **kwargs)\u001b[0m\n\u001b[0;32m    973\u001b[0m \u001b[38;5;28;01mtry\u001b[39;00m:\n\u001b[1;32m--> 974\u001b[0m     \u001b[38;5;28;01mreturn\u001b[39;00m complexjson\u001b[38;5;241m.\u001b[39mloads(\u001b[38;5;28mself\u001b[39m\u001b[38;5;241m.\u001b[39mtext, \u001b[38;5;241m*\u001b[39m\u001b[38;5;241m*\u001b[39mkwargs)\n\u001b[0;32m    975\u001b[0m \u001b[38;5;28;01mexcept\u001b[39;00m JSONDecodeError \u001b[38;5;28;01mas\u001b[39;00m e:\n\u001b[0;32m    976\u001b[0m     \u001b[38;5;66;03m# Catch JSON-related errors and raise as requests.JSONDecodeError\u001b[39;00m\n\u001b[0;32m    977\u001b[0m     \u001b[38;5;66;03m# This aliases json.JSONDecodeError and simplejson.JSONDecodeError\u001b[39;00m\n",
      "File \u001b[1;32mc:\\Users\\Daniel\\anaconda3\\envs\\alfa-unal\\lib\\json\\__init__.py:346\u001b[0m, in \u001b[0;36mloads\u001b[1;34m(s, cls, object_hook, parse_float, parse_int, parse_constant, object_pairs_hook, **kw)\u001b[0m\n\u001b[0;32m    343\u001b[0m \u001b[38;5;28;01mif\u001b[39;00m (\u001b[38;5;28mcls\u001b[39m \u001b[38;5;129;01mis\u001b[39;00m \u001b[38;5;28;01mNone\u001b[39;00m \u001b[38;5;129;01mand\u001b[39;00m object_hook \u001b[38;5;129;01mis\u001b[39;00m \u001b[38;5;28;01mNone\u001b[39;00m \u001b[38;5;129;01mand\u001b[39;00m\n\u001b[0;32m    344\u001b[0m         parse_int \u001b[38;5;129;01mis\u001b[39;00m \u001b[38;5;28;01mNone\u001b[39;00m \u001b[38;5;129;01mand\u001b[39;00m parse_float \u001b[38;5;129;01mis\u001b[39;00m \u001b[38;5;28;01mNone\u001b[39;00m \u001b[38;5;129;01mand\u001b[39;00m\n\u001b[0;32m    345\u001b[0m         parse_constant \u001b[38;5;129;01mis\u001b[39;00m \u001b[38;5;28;01mNone\u001b[39;00m \u001b[38;5;129;01mand\u001b[39;00m object_pairs_hook \u001b[38;5;129;01mis\u001b[39;00m \u001b[38;5;28;01mNone\u001b[39;00m \u001b[38;5;129;01mand\u001b[39;00m \u001b[38;5;129;01mnot\u001b[39;00m kw):\n\u001b[1;32m--> 346\u001b[0m     \u001b[38;5;28;01mreturn\u001b[39;00m \u001b[43m_default_decoder\u001b[49m\u001b[38;5;241;43m.\u001b[39;49m\u001b[43mdecode\u001b[49m\u001b[43m(\u001b[49m\u001b[43ms\u001b[49m\u001b[43m)\u001b[49m\n\u001b[0;32m    347\u001b[0m \u001b[38;5;28;01mif\u001b[39;00m \u001b[38;5;28mcls\u001b[39m \u001b[38;5;129;01mis\u001b[39;00m \u001b[38;5;28;01mNone\u001b[39;00m:\n",
      "File \u001b[1;32mc:\\Users\\Daniel\\anaconda3\\envs\\alfa-unal\\lib\\json\\decoder.py:337\u001b[0m, in \u001b[0;36mJSONDecoder.decode\u001b[1;34m(self, s, _w)\u001b[0m\n\u001b[0;32m    333\u001b[0m \u001b[38;5;250m\u001b[39m\u001b[38;5;124;03m\"\"\"Return the Python representation of ``s`` (a ``str`` instance\u001b[39;00m\n\u001b[0;32m    334\u001b[0m \u001b[38;5;124;03mcontaining a JSON document).\u001b[39;00m\n\u001b[0;32m    335\u001b[0m \n\u001b[0;32m    336\u001b[0m \u001b[38;5;124;03m\"\"\"\u001b[39;00m\n\u001b[1;32m--> 337\u001b[0m obj, end \u001b[38;5;241m=\u001b[39m \u001b[38;5;28;43mself\u001b[39;49m\u001b[38;5;241;43m.\u001b[39;49m\u001b[43mraw_decode\u001b[49m\u001b[43m(\u001b[49m\u001b[43ms\u001b[49m\u001b[43m,\u001b[49m\u001b[43m \u001b[49m\u001b[43midx\u001b[49m\u001b[38;5;241;43m=\u001b[39;49m\u001b[43m_w\u001b[49m\u001b[43m(\u001b[49m\u001b[43ms\u001b[49m\u001b[43m,\u001b[49m\u001b[43m \u001b[49m\u001b[38;5;241;43m0\u001b[39;49m\u001b[43m)\u001b[49m\u001b[38;5;241;43m.\u001b[39;49m\u001b[43mend\u001b[49m\u001b[43m(\u001b[49m\u001b[43m)\u001b[49m\u001b[43m)\u001b[49m\n\u001b[0;32m    338\u001b[0m end \u001b[38;5;241m=\u001b[39m _w(s, end)\u001b[38;5;241m.\u001b[39mend()\n",
      "File \u001b[1;32mc:\\Users\\Daniel\\anaconda3\\envs\\alfa-unal\\lib\\json\\decoder.py:355\u001b[0m, in \u001b[0;36mJSONDecoder.raw_decode\u001b[1;34m(self, s, idx)\u001b[0m\n\u001b[0;32m    354\u001b[0m \u001b[38;5;28;01mexcept\u001b[39;00m \u001b[38;5;167;01mStopIteration\u001b[39;00m \u001b[38;5;28;01mas\u001b[39;00m err:\n\u001b[1;32m--> 355\u001b[0m     \u001b[38;5;28;01mraise\u001b[39;00m JSONDecodeError(\u001b[38;5;124m\"\u001b[39m\u001b[38;5;124mExpecting value\u001b[39m\u001b[38;5;124m\"\u001b[39m, s, err\u001b[38;5;241m.\u001b[39mvalue) \u001b[38;5;28;01mfrom\u001b[39;00m \u001b[38;5;28;01mNone\u001b[39;00m\n\u001b[0;32m    356\u001b[0m \u001b[38;5;28;01mreturn\u001b[39;00m obj, end\n",
      "\u001b[1;31mJSONDecodeError\u001b[0m: Expecting value: line 1 column 1 (char 0)",
      "\nDuring handling of the above exception, another exception occurred:\n",
      "\u001b[1;31mJSONDecodeError\u001b[0m                           Traceback (most recent call last)",
      "Cell \u001b[1;32mIn[53], line 1\u001b[0m\n\u001b[1;32m----> 1\u001b[0m \u001b[38;5;28mprint\u001b[39m(\u001b[43mrequests\u001b[49m\u001b[38;5;241;43m.\u001b[39;49m\u001b[43mget\u001b[49m\u001b[43m(\u001b[49m\u001b[38;5;124;43m'\u001b[39;49m\u001b[38;5;124;43mhttp://192.168.120.15:8080/Prime/API/1.5/History/Production?startDate=2024-09-23&endDate=2024-09-24&mode=0&machineName=Qualitron\u001b[39;49m\u001b[38;5;124;43m'\u001b[39;49m\u001b[43m)\u001b[49m\u001b[38;5;241;43m.\u001b[39;49m\u001b[43mjson\u001b[49m\u001b[43m(\u001b[49m\u001b[43m)\u001b[49m)\n",
      "File \u001b[1;32mc:\\Users\\Daniel\\anaconda3\\envs\\alfa-unal\\lib\\site-packages\\requests\\models.py:978\u001b[0m, in \u001b[0;36mResponse.json\u001b[1;34m(self, **kwargs)\u001b[0m\n\u001b[0;32m    974\u001b[0m     \u001b[38;5;28;01mreturn\u001b[39;00m complexjson\u001b[38;5;241m.\u001b[39mloads(\u001b[38;5;28mself\u001b[39m\u001b[38;5;241m.\u001b[39mtext, \u001b[38;5;241m*\u001b[39m\u001b[38;5;241m*\u001b[39mkwargs)\n\u001b[0;32m    975\u001b[0m \u001b[38;5;28;01mexcept\u001b[39;00m JSONDecodeError \u001b[38;5;28;01mas\u001b[39;00m e:\n\u001b[0;32m    976\u001b[0m     \u001b[38;5;66;03m# Catch JSON-related errors and raise as requests.JSONDecodeError\u001b[39;00m\n\u001b[0;32m    977\u001b[0m     \u001b[38;5;66;03m# This aliases json.JSONDecodeError and simplejson.JSONDecodeError\u001b[39;00m\n\u001b[1;32m--> 978\u001b[0m     \u001b[38;5;28;01mraise\u001b[39;00m RequestsJSONDecodeError(e\u001b[38;5;241m.\u001b[39mmsg, e\u001b[38;5;241m.\u001b[39mdoc, e\u001b[38;5;241m.\u001b[39mpos)\n",
      "\u001b[1;31mJSONDecodeError\u001b[0m: Expecting value: line 1 column 1 (char 0)"
     ]
    }
   ],
   "source": [
    "print(requests.get('http://192.168.120.15:8080/Prime/API/1.5/History/Production?startDate=2024-09-23&endDate=2024-09-24&mode=0&machineName=Qualitron').json())"
   ]
  },
  {
   "cell_type": "code",
   "execution_count": 50,
   "metadata": {},
   "outputs": [
    {
     "name": "stdout",
     "output_type": "stream",
     "text": [
      "<Response [400]>\n",
      "<Response [404]>\n"
     ]
    }
   ],
   "source": [
    "print(requests.get('http://192.168.120.15:8080/Prime/API/1.5/History/ProductionByOrder?startDate=2024-01-29&endDate=2024-09-29&mode=0&machineName=Qualitron'))\n",
    "print(requests.get('http://192.168.120.15:8080/Prime/API/1.5/Outbound?billOfResources=Sorting1&machine=Qualitron&startDate=2024-09-01&endDate=2024-09-24'))"
   ]
  },
  {
   "cell_type": "code",
   "execution_count": 47,
   "metadata": {},
   "outputs": [
    {
     "name": "stdout",
     "output_type": "stream",
     "text": [
      "<Response [404]>\n",
      "<Response [404]>\n"
     ]
    }
   ],
   "source": [
    "print(requests.get('http://192.168.120.15:8080/Prime/API/1.5/Outbound?billOfResources=Sorting1&machine=Qualitron&startDate=2024-08-29&endDate=2024-09-23'))\n",
    "\n",
    "print(requests.get(\"http://192.168.120.15:8080/Prime/API/1.5/Outbound?billOfResources=Sorting1&machine=Qualitron&startDate=2024-09-24%2010%3A00%3A00&endDate=2024-09-24%2012%3A15%3A00\"))"
   ]
  },
  {
   "cell_type": "code",
   "execution_count": 60,
   "metadata": {},
   "outputs": [
    {
     "name": "stdout",
     "output_type": "stream",
     "text": [
      "<Response [404]>\n",
      "{'MachineName': 'Sorting1.Qualitron', 'Feature': 'Q:\\\\Qualitron\\\\Work\\\\Partite\\\\30X60\\\\Antila blanco\\\\Antila Blanco.qng', 'LastModDate': '2024-09-19T04:02:33.567-05:00', 'Width': 600.0, 'Height': 0.0, 'Thickness': 305.0, 'StationCode': '0', 'StationDescription': 'Last modified: September 19, 2024'}\n",
      "{'MachineName': 'Sorting1.Qualitron', 'Feature': 'Q:\\\\Qualitron\\\\Work\\\\Partite\\\\30X60\\\\cer lory dark grey\\\\cer lory dark grey.qng', 'LastModDate': '2024-09-19T04:02:33.567-05:00', 'Width': 600.0, 'Height': 0.0, 'Thickness': 305.0, 'StationCode': '0', 'StationDescription': 'Last modified: September 19, 2024'}\n",
      "{'MachineName': 'Sorting1.Qualitron', 'Feature': 'Q:\\\\Qualitron\\\\Work\\\\Partite\\\\30X60\\\\CER LORY LIGHT GREY 30X60\\\\CER LORY LIGHT GREY 30X60.qng', 'LastModDate': '2024-09-19T04:02:33.567-05:00', 'Width': 600.0, 'Height': 0.0, 'Thickness': 305.0, 'StationCode': '0', 'StationDescription': 'Last modified: September 19, 2024'}\n",
      "{'MachineName': 'Sorting1.Qualitron', 'Feature': 'Q:\\\\Qualitron\\\\Work\\\\Partite\\\\30X60\\\\CER NORDICO BEIGE CORAL\\\\CER NORDICO BEIGE CORAL.qng', 'LastModDate': '2024-09-19T04:02:33.567-05:00', 'Width': 600.0, 'Height': 0.0, 'Thickness': 305.0, 'StationCode': '0', 'StationDescription': 'Last modified: September 19, 2024'}\n",
      "{'MachineName': 'Sorting1.Qualitron', 'Feature': 'Q:\\\\Qualitron\\\\Work\\\\Partite\\\\30X60\\\\CER ONIX BEIGE BR 30X60\\\\CER ONIX BEIGE BR 30X60.qng', 'LastModDate': '2024-09-19T04:02:33.567-05:00', 'Width': 600.0, 'Height': 0.0, 'Thickness': 305.0, 'StationCode': '0', 'StationDescription': 'Last modified: September 19, 2024'}\n",
      "{'MachineName': 'Sorting1.Qualitron', 'Feature': 'Q:\\\\Qualitron\\\\Work\\\\Partite\\\\30X60\\\\CER ROYAL BEIGE BR 30 X 60\\\\CER ROYAL BEIGE BR 30 X 60.qng', 'LastModDate': '2024-09-19T04:02:33.567-05:00', 'Width': 600.0, 'Height': 0.0, 'Thickness': 305.0, 'StationCode': '0', 'StationDescription': 'Last modified: September 19, 2024'}\n",
      "{'MachineName': 'Sorting1.Qualitron', 'Feature': 'Q:\\\\Qualitron\\\\Work\\\\Partite\\\\30X60\\\\CER TERRA EXT ARENA\\\\CER TERRA EXT ARENA.qng', 'LastModDate': '2024-09-19T04:02:33.567-05:00', 'Width': 600.0, 'Height': 0.0, 'Thickness': 305.0, 'StationCode': '0', 'StationDescription': 'Last modified: September 19, 2024'}\n",
      "{'MachineName': 'Sorting1.Qualitron', 'Feature': 'Q:\\\\Qualitron\\\\Work\\\\Partite\\\\30X60\\\\CERAMICA NORDICO GRIS\\\\CERAMICA NORDICO GRIS.qng', 'LastModDate': '2024-09-19T04:02:33.567-05:00', 'Width': 600.0, 'Height': 0.0, 'Thickness': 305.0, 'StationCode': '0', 'StationDescription': 'Last modified: September 19, 2024'}\n",
      "{'MachineName': 'Sorting1.Qualitron', 'Feature': 'Q:\\\\Qualitron\\\\Work\\\\Partite\\\\30X60\\\\CERAMICA NORDICO GRIS CLARO\\\\CERAMICA NORDICO GRIS CLARO.qng', 'LastModDate': '2024-09-19T04:02:33.567-05:00', 'Width': 600.0, 'Height': 0.0, 'Thickness': 305.0, 'StationCode': '0', 'StationDescription': 'Last modified: September 19, 2024'}\n",
      "{'MachineName': 'Sorting1.Qualitron', 'Feature': 'Q:\\\\Qualitron\\\\Work\\\\Partite\\\\30X60\\\\CERAMICA SANTANDER\\\\CERAMICA SANTANDER.qng', 'LastModDate': '2024-09-19T04:02:33.567-05:00', 'Width': 600.0, 'Height': 0.0, 'Thickness': 305.0, 'StationCode': '0', 'StationDescription': 'Last modified: September 19, 2024'}\n",
      "{'MachineName': 'Sorting1.Qualitron', 'Feature': 'Q:\\\\Qualitron\\\\Work\\\\Partite\\\\30X60\\\\MODELO BEIGE\\\\MODELO BEIGE.qng', 'LastModDate': '2024-09-19T04:02:33.567-05:00', 'Width': 600.0, 'Height': 0.0, 'Thickness': 305.0, 'StationCode': '0', 'StationDescription': 'Last modified: September 19, 2024'}\n",
      "{'MachineName': 'Sorting1.Qualitron', 'Feature': 'Q:\\\\Qualitron\\\\Work\\\\Partite\\\\30X60\\\\MODELO GRAY 30X60\\\\MODELO GRAY 30X60.qng', 'LastModDate': '2024-09-19T04:02:33.567-05:00', 'Width': 600.0, 'Height': 0.0, 'Thickness': 305.0, 'StationCode': '0', 'StationDescription': 'Last modified: September 19, 2024'}\n",
      "{'MachineName': 'Sorting1.Qualitron', 'Feature': 'Q:\\\\Qualitron\\\\Work\\\\Partite\\\\30X60\\\\MYSTIC GRIS 30 X 60\\\\MYSTIC GRIS 30 X 60.qng', 'LastModDate': '2024-09-19T04:02:33.567-05:00', 'Width': 600.0, 'Height': 0.0, 'Thickness': 305.0, 'StationCode': '0', 'StationDescription': 'Last modified: September 19, 2024'}\n",
      "{'MachineName': 'Sorting1.Qualitron', 'Feature': 'Q:\\\\Qualitron\\\\Work\\\\Partite\\\\30X60\\\\OXFORD WHITE 30 X 60\\\\OXFORD WHITE 30 X 60.qng', 'LastModDate': '2024-09-19T04:02:33.567-05:00', 'Width': 600.0, 'Height': 0.0, 'Thickness': 305.0, 'StationCode': '0', 'StationDescription': 'Last modified: September 19, 2024'}\n",
      "{'MachineName': 'Sorting1.Qualitron', 'Feature': 'Q:\\\\Qualitron\\\\Work\\\\Partite\\\\30X60\\\\PISO MARMOL CARRA HUESO 30 X 60\\\\PISO MARMOL CARRA HUESO 30 X 60.qng', 'LastModDate': '2024-09-19T04:02:33.567-05:00', 'Width': 600.0, 'Height': 0.0, 'Thickness': 305.0, 'StationCode': '0', 'StationDescription': 'Last modified: September 19, 2024'}\n",
      "{'MachineName': 'Sorting1.Qualitron', 'Feature': 'Q:\\\\Qualitron\\\\Work\\\\Partite\\\\30X60\\\\PRAGA BRONCE\\\\PRAGA BRONCE.qng', 'LastModDate': '2024-09-19T04:02:33.567-05:00', 'Width': 600.0, 'Height': 0.0, 'Thickness': 305.0, 'StationCode': '0', 'StationDescription': 'Last modified: September 19, 2024'}\n",
      "{'MachineName': 'Sorting1.Qualitron', 'Feature': 'Q:\\\\Qualitron\\\\Work\\\\Partite\\\\30X60\\\\SLATE CENIZA 30 X 60\\\\SLATE CENIZA 30 X 60.qng', 'LastModDate': '2024-09-19T04:02:33.567-05:00', 'Width': 600.0, 'Height': 0.0, 'Thickness': 305.0, 'StationCode': '0', 'StationDescription': 'Last modified: September 19, 2024'}\n",
      "{'MachineName': 'Sorting1.Qualitron', 'Feature': 'Q:\\\\Qualitron\\\\Work\\\\Partite\\\\30X60\\\\SLINEY CENIZA\\\\SLINEY CENIZA.qng', 'LastModDate': '2024-09-19T04:02:33.567-05:00', 'Width': 600.0, 'Height': 0.0, 'Thickness': 305.0, 'StationCode': '0', 'StationDescription': 'Last modified: September 19, 2024'}\n",
      "{'MachineName': 'Sorting1.Qualitron', 'Feature': 'Q:\\\\Qualitron\\\\Work\\\\Partite\\\\30X60\\\\TOSCANA GRIS\\\\TOSCANA GRIS.qng', 'LastModDate': '2024-09-19T04:02:33.567-05:00', 'Width': 600.0, 'Height': 0.0, 'Thickness': 305.0, 'StationCode': '0', 'StationDescription': 'Last modified: September 19, 2024'}\n",
      "{'MachineName': 'Sorting1.Qualitron', 'Feature': 'Q:\\\\Qualitron\\\\Work\\\\Partite\\\\60X60\\\\ARTICA BLANCO\\\\ARTICA BLANCO.qng', 'LastModDate': '2024-09-19T04:02:33.567-05:00', 'Width': 610.0, 'Height': 0.0, 'Thickness': 610.0, 'StationCode': '0', 'StationDescription': 'Last modified: September 19, 2024'}\n",
      "{'MachineName': 'Sorting1.Qualitron', 'Feature': 'Q:\\\\Qualitron\\\\Work\\\\Partite\\\\60X60\\\\BOTICCINO BLANCO\\\\BOTICCINO BLANCO.qng', 'LastModDate': '2024-09-19T04:02:33.567-05:00', 'Width': 610.0, 'Height': 0.0, 'Thickness': 610.0, 'StationCode': '0', 'StationDescription': 'Last modified: September 19, 2024'}\n",
      "{'MachineName': 'Sorting1.Qualitron', 'Feature': 'Q:\\\\Qualitron\\\\Work\\\\Partite\\\\60X60\\\\BOTICCINO BLANCO BR 61X61[C-4189]\\\\BOTICCINO BLANCO BR 61X61[C-4189].qng', 'LastModDate': '2024-09-19T04:02:33.567-05:00', 'Width': 610.0, 'Height': 0.0, 'Thickness': 610.0, 'StationCode': '0', 'StationDescription': 'Last modified: September 19, 2024'}\n",
      "{'MachineName': 'Sorting1.Qualitron', 'Feature': 'Q:\\\\Qualitron\\\\Work\\\\Partite\\\\60X60\\\\CER AGATA GREY MT\\\\CER AGATA GREY MT.qng', 'LastModDate': '2024-09-19T04:02:33.567-05:00', 'Width': 610.0, 'Height': 0.0, 'Thickness': 610.0, 'StationCode': '0', 'StationDescription': 'Last modified: September 19, 2024'}\n",
      "{'MachineName': 'Sorting1.Qualitron', 'Feature': 'Q:\\\\Qualitron\\\\Work\\\\Partite\\\\60X60\\\\CER AVILA BR 61X61-1\\\\CER AVILA BR 61X61-1.qng', 'LastModDate': '2024-09-19T04:02:33.567-05:00', 'Width': 610.0, 'Height': 0.0, 'Thickness': 610.0, 'StationCode': '0', 'StationDescription': 'Last modified: September 19, 2024'}\n",
      "{'MachineName': 'Sorting1.Qualitron', 'Feature': 'Q:\\\\Qualitron\\\\Work\\\\Partite\\\\60X60\\\\CER HAWAII BR IVORY\\\\CER HAWAII BR IVORY.qng', 'LastModDate': '2024-09-19T04:02:33.567-05:00', 'Width': 610.0, 'Height': 0.0, 'Thickness': 610.0, 'StationCode': '0', 'StationDescription': 'Last modified: September 19, 2024'}\n",
      "{'MachineName': 'Sorting1.Qualitron', 'Feature': 'Q:\\\\Qualitron\\\\Work\\\\Partite\\\\60X60\\\\CER HIDRAULICO DISTRITO 61X61-1\\\\CER HIDRAULICO DISTRITO 61X61-1.qng', 'LastModDate': '2024-09-19T04:02:33.567-05:00', 'Width': 610.0, 'Height': 0.0, 'Thickness': 610.0, 'StationCode': '0', 'StationDescription': 'Last modified: September 19, 2024'}\n",
      "{'MachineName': 'Sorting1.Qualitron', 'Feature': 'Q:\\\\Qualitron\\\\Work\\\\Partite\\\\60X60\\\\CER MADERRA MONGOY MOCCA ST\\\\CER MADERRA MONGOY MOCCA ST.qng', 'LastModDate': '2024-09-19T04:02:33.567-05:00', 'Width': 610.0, 'Height': 0.0, 'Thickness': 610.0, 'StationCode': '0', 'StationDescription': 'Last modified: September 19, 2024'}\n",
      "{'MachineName': 'Sorting1.Qualitron', 'Feature': 'Q:\\\\Qualitron\\\\Work\\\\Partite\\\\60X60\\\\CER NORDICO GRIS 61X61\\\\CER NORDICO GRIS 61X61.qng', 'LastModDate': '2024-09-19T04:02:33.567-05:00', 'Width': 610.0, 'Height': 0.0, 'Thickness': 610.0, 'StationCode': '0', 'StationDescription': 'Last modified: September 19, 2024'}\n",
      "{'MachineName': 'Sorting1.Qualitron', 'Feature': 'Q:\\\\Qualitron\\\\Work\\\\Partite\\\\60X60\\\\CER NORDICO GRIS 61X61\\\\CER NORDICO GRIS\\\\CER NORDICO GRIS.qng', 'LastModDate': '2024-09-19T04:02:33.567-05:00', 'Width': 610.0, 'Height': 0.0, 'Thickness': 610.0, 'StationCode': '0', 'StationDescription': 'Last modified: September 19, 2024'}\n",
      "{'MachineName': 'Sorting1.Qualitron', 'Feature': 'Q:\\\\Qualitron\\\\Work\\\\Partite\\\\60X60\\\\CER NORDICO GRIS 61X61\\\\CER NORDICO GRIS CLARO 61X61\\\\CER NORDICO GRIS CLARO 61X61.qng', 'LastModDate': '2024-09-19T04:02:33.567-05:00', 'Width': 610.0, 'Height': 0.0, 'Thickness': 610.0, 'StationCode': '0', 'StationDescription': 'Last modified: September 19, 2024'}\n",
      "{'MachineName': 'Sorting1.Qualitron', 'Feature': 'Q:\\\\Qualitron\\\\Work\\\\Partite\\\\60X60\\\\CER OPALO BR IVORY\\\\CER OPALO BR IVORY.qng', 'LastModDate': '2024-09-19T04:02:33.567-05:00', 'Width': 610.0, 'Height': 0.0, 'Thickness': 610.0, 'StationCode': '0', 'StationDescription': 'Last modified: September 19, 2024'}\n",
      "{'MachineName': 'Sorting1.Qualitron', 'Feature': 'Q:\\\\Qualitron\\\\Work\\\\Partite\\\\60X60\\\\CER PARSO GRIS MT\\\\CER PARSO GRIS MT.qng', 'LastModDate': '2024-09-19T04:02:33.567-05:00', 'Width': 610.0, 'Height': 0.0, 'Thickness': 610.0, 'StationCode': '0', 'StationDescription': 'Last modified: September 19, 2024'}\n",
      "{'MachineName': 'Sorting1.Qualitron', 'Feature': 'Q:\\\\Qualitron\\\\Work\\\\Partite\\\\60X60\\\\CER PIAZZA COTTO 61X61\\\\CER PIAZZA COTTO 61X61.qng', 'LastModDate': '2024-09-19T04:02:33.567-05:00', 'Width': 610.0, 'Height': 0.0, 'Thickness': 610.0, 'StationCode': '0', 'StationDescription': 'Last modified: September 19, 2024'}\n",
      "{'MachineName': 'Sorting1.Qualitron', 'Feature': 'Q:\\\\Qualitron\\\\Work\\\\Partite\\\\60X60\\\\CER ROYAL BEIGE BR\\\\CER ROYAL BEIGE BR.qng', 'LastModDate': '2024-09-19T04:02:33.567-05:00', 'Width': 610.0, 'Height': 0.0, 'Thickness': 610.0, 'StationCode': '0', 'StationDescription': 'Last modified: September 19, 2024'}\n",
      "{'MachineName': 'Sorting1.Qualitron', 'Feature': 'Q:\\\\Qualitron\\\\Work\\\\Partite\\\\60X60\\\\CER STATUARIO VENATO BLANCO BR\\\\CER STATUARIO VENATO BLANCO BR.qng', 'LastModDate': '2024-09-19T04:02:33.567-05:00', 'Width': 610.0, 'Height': 0.0, 'Thickness': 610.0, 'StationCode': '0', 'StationDescription': 'Last modified: September 19, 2024'}\n",
      "{'MachineName': 'Sorting1.Qualitron', 'Feature': 'Q:\\\\Qualitron\\\\Work\\\\Partite\\\\60X60\\\\CER VOLCANICA ARENA\\\\CER VOLCANICA ARENA.qng', 'LastModDate': '2024-09-19T04:02:33.567-05:00', 'Width': 610.0, 'Height': 0.0, 'Thickness': 610.0, 'StationCode': '0', 'StationDescription': 'Last modified: September 19, 2024'}\n",
      "{'MachineName': 'Sorting1.Qualitron', 'Feature': 'Q:\\\\Qualitron\\\\Work\\\\Partite\\\\60X60\\\\MARCELLA CHERRY\\\\MARCELLA CHERRY.qng', 'LastModDate': '2024-09-19T04:02:33.567-05:00', 'Width': 610.0, 'Height': 0.0, 'Thickness': 610.0, 'StationCode': '0', 'StationDescription': 'Last modified: September 19, 2024'}\n",
      "{'MachineName': 'Sorting1.Qualitron', 'Feature': 'Q:\\\\Qualitron\\\\Work\\\\Partite\\\\60X60\\\\PISO MARMOL ASTRA IVORY BR\\\\PISO MARMOL ASTRA IVORY BR.qng', 'LastModDate': '2024-09-19T04:02:33.567-05:00', 'Width': 610.0, 'Height': 0.0, 'Thickness': 610.0, 'StationCode': '0', 'StationDescription': 'Last modified: September 19, 2024'}\n",
      "{'MachineName': 'Sorting1.Qualitron', 'Feature': 'Q:\\\\Qualitron\\\\Work\\\\Partite\\\\60X60\\\\PISO MARMOLCARRARA CREMA BR]\\\\PISO MARMOLCARRARA CREMA BR].qng', 'LastModDate': '2024-09-19T04:02:33.567-05:00', 'Width': 610.0, 'Height': 0.0, 'Thickness': 610.0, 'StationCode': '0', 'StationDescription': 'Last modified: September 19, 2024'}\n",
      "{'MachineName': 'Sorting1.Qualitron', 'Feature': 'Q:\\\\Qualitron\\\\Work\\\\Partite\\\\60X60\\\\PISO MARMOLCARRARA CREMA BR]\\\\PISO MARMOL CARRARA CREMA\\\\PISO MARMOL CARRARA CREMA.qng', 'LastModDate': '2024-09-19T04:02:33.567-05:00', 'Width': 610.0, 'Height': 0.0, 'Thickness': 610.0, 'StationCode': '0', 'StationDescription': 'Last modified: September 19, 2024'}\n",
      "{'MachineName': 'Sorting1.Qualitron', 'Feature': 'Q:\\\\Qualitron\\\\Work\\\\Partite\\\\AMELIA 43X900\\\\AMELIA 43X900.qng', 'LastModDate': '2024-09-19T04:02:33.567-05:00', 'Width': 900.0, 'Height': 0.0, 'Thickness': 430.0, 'StationCode': '0', 'StationDescription': 'Last modified: September 19, 2024'}\n",
      "{'MachineName': 'Sorting1.Qualitron', 'Feature': 'Q:\\\\Qualitron\\\\Work\\\\Partite\\\\ARABESCATO GOLD 30X60\\\\ARABESCATO GOLD 30X60.qng', 'LastModDate': '2024-09-19T04:02:33.567-05:00', 'Width': 600.0, 'Height': 0.0, 'Thickness': 305.0, 'StationCode': '0', 'StationDescription': 'Last modified: September 19, 2024'}\n",
      "{'MachineName': 'Sorting1.Qualitron', 'Feature': 'Q:\\\\Qualitron\\\\Work\\\\Partite\\\\ARTICA BLANCO 30 X 60\\\\ARTICA BLANCO 30 X 60.qng', 'LastModDate': '2024-09-19T04:02:33.567-05:00', 'Width': 600.0, 'Height': 0.0, 'Thickness': 305.0, 'StationCode': '0', 'StationDescription': 'Last modified: September 19, 2024'}\n",
      "{'MachineName': 'Sorting1.Qualitron', 'Feature': 'Q:\\\\Qualitron\\\\Work\\\\Partite\\\\ARTICA BLANCO 30X60\\\\ARTICA BLANCO 30X60.qng', 'LastModDate': '2024-09-19T04:02:33.567-05:00', 'Width': 600.0, 'Height': 0.0, 'Thickness': 305.0, 'StationCode': '0', 'StationDescription': 'Last modified: September 19, 2024'}\n",
      "{'MachineName': 'Sorting1.Qualitron', 'Feature': 'Q:\\\\Qualitron\\\\Work\\\\Partite\\\\ARTICA BLANCO 61 X 61.qng 77\\\\ARTICA BLANCO 61 X 61.qng 77.qng', 'LastModDate': '2024-09-19T04:02:33.567-05:00', 'Width': 610.0, 'Height': 0.0, 'Thickness': 610.0, 'StationCode': '0', 'StationDescription': 'Last modified: September 19, 2024'}\n",
      "{'MachineName': 'Sorting1.Qualitron', 'Feature': 'Q:\\\\Qualitron\\\\Work\\\\Partite\\\\ARTICA BLANCO 61 X 61.qng-este es el bueno\\\\ARTICA BLANCO 61 X 61.qng-este es el bueno.qng', 'LastModDate': '2024-09-19T04:02:33.567-05:00', 'Width': 610.0, 'Height': 0.0, 'Thickness': 610.0, 'StationCode': '0', 'StationDescription': 'Last modified: September 19, 2024'}\n",
      "{'MachineName': 'Sorting1.Qualitron', 'Feature': 'Q:\\\\Qualitron\\\\Work\\\\Partite\\\\ARTICA BLANCO 61X61\\\\ARTICA BLANCO 61X61.qng', 'LastModDate': '2024-09-19T04:02:33.567-05:00', 'Width': 610.0, 'Height': 0.0, 'Thickness': 610.0, 'StationCode': '0', 'StationDescription': 'Last modified: September 19, 2024'}\n",
      "{'MachineName': 'Sorting1.Qualitron', 'Feature': 'Q:\\\\Qualitron\\\\Work\\\\Partite\\\\AVILA BR 61\\\\AVILA BR 61.qng', 'LastModDate': '2024-09-19T04:02:33.567-05:00', 'Width': 610.0, 'Height': 0.0, 'Thickness': 610.0, 'StationCode': '0', 'StationDescription': 'Last modified: September 19, 2024'}\n",
      "{'MachineName': 'Sorting1.Qualitron', 'Feature': 'Q:\\\\Qualitron\\\\Work\\\\Partite\\\\AVILA BR 61X61\\\\AVILA BR 61X61.qng', 'LastModDate': '2024-09-19T04:02:33.567-05:00', 'Width': 610.0, 'Height': 0.0, 'Thickness': 610.0, 'StationCode': '0', 'StationDescription': 'Last modified: September 19, 2024'}\n",
      "{'MachineName': 'Sorting1.Qualitron', 'Feature': 'Q:\\\\Qualitron\\\\Work\\\\Partite\\\\BLANCO SATINADO\\\\BLANCO SATINADO.qng', 'LastModDate': '2024-09-19T04:02:33.567-05:00', 'Width': 600.0, 'Height': 0.0, 'Thickness': 305.0, 'StationCode': '0', 'StationDescription': 'Last modified: September 19, 2024'}\n",
      "{'MachineName': 'Sorting1.Qualitron', 'Feature': 'Q:\\\\Qualitron\\\\Work\\\\Partite\\\\BLANCO SATINADO  30X60\\\\BLANCO SATINADO  30X60.qng', 'LastModDate': '2024-09-19T04:02:33.567-05:00', 'Width': 600.0, 'Height': 0.0, 'Thickness': 305.0, 'StationCode': '0', 'StationDescription': 'Last modified: September 19, 2024'}\n",
      "{'MachineName': 'Sorting1.Qualitron', 'Feature': 'Q:\\\\Qualitron\\\\Work\\\\Partite\\\\BLANCO SATINADO 30 X 60\\\\BLANCO SATINADO 30 X 60.qng', 'LastModDate': '2024-09-19T04:02:33.567-05:00', 'Width': 600.0, 'Height': 0.0, 'Thickness': 305.0, 'StationCode': '0', 'StationDescription': 'Last modified: September 19, 2024'}\n",
      "{'MachineName': 'Sorting1.Qualitron', 'Feature': 'Q:\\\\Qualitron\\\\Work\\\\Partite\\\\BOTICCINO BLANCO  BR\\\\BOTICCINO BLANCO  BR.qng', 'LastModDate': '2024-09-19T04:02:33.567-05:00', 'Width': 610.0, 'Height': 0.0, 'Thickness': 610.0, 'StationCode': '0', 'StationDescription': 'Last modified: September 19, 2024'}\n",
      "{'MachineName': 'Sorting1.Qualitron', 'Feature': 'Q:\\\\Qualitron\\\\Work\\\\Partite\\\\BOTICCINO BLANCO BR 61 -61 BUENO\\\\BOTICCINO BLANCO BR 61 -61 BUENO.qng', 'LastModDate': '2024-09-19T04:02:33.567-05:00', 'Width': 610.0, 'Height': 0.0, 'Thickness': 610.0, 'StationCode': '0', 'StationDescription': 'Last modified: September 19, 2024'}\n",
      "{'MachineName': 'Sorting1.Qualitron', 'Feature': 'Q:\\\\Qualitron\\\\Work\\\\Partite\\\\BOTICCINO BLANCO BR 61X61\\\\BOTICCINO BLANCO BR 61X61.qng', 'LastModDate': '2024-09-19T04:02:33.567-05:00', 'Width': 610.0, 'Height': 0.0, 'Thickness': 610.0, 'StationCode': '0', 'StationDescription': 'Last modified: September 19, 2024'}\n",
      "{'MachineName': 'Sorting1.Qualitron', 'Feature': 'Q:\\\\Qualitron\\\\Work\\\\Partite\\\\BR CALACATTA GOLDEN\\\\BR CALACATTA GOLDEN.qng', 'LastModDate': '2024-09-19T04:02:33.567-05:00', 'Width': 610.0, 'Height': 0.0, 'Thickness': 610.0, 'StationCode': '0', 'StationDescription': 'Last modified: September 19, 2024'}\n",
      "{'MachineName': 'Sorting1.Qualitron', 'Feature': 'Q:\\\\Qualitron\\\\Work\\\\Partite\\\\CAMBRIDGE BLANCO 30 X 60\\\\CAMBRIDGE BLANCO 30 X 60.qng', 'LastModDate': '2024-09-19T04:02:33.567-05:00', 'Width': 600.0, 'Height': 0.0, 'Thickness': 305.0, 'StationCode': '0', 'StationDescription': 'Last modified: September 19, 2024'}\n",
      "{'MachineName': 'Sorting1.Qualitron', 'Feature': 'Q:\\\\Qualitron\\\\Work\\\\Partite\\\\CER AGATA GREY  MT 61X61\\\\CER AGATA GREY  MT 61X61.qng', 'LastModDate': '2024-09-19T04:02:33.567-05:00', 'Width': 610.0, 'Height': 0.0, 'Thickness': 610.0, 'StationCode': '0', 'StationDescription': 'Last modified: September 19, 2024'}\n",
      "{'MachineName': 'Sorting1.Qualitron', 'Feature': 'Q:\\\\Qualitron\\\\Work\\\\Partite\\\\CER AGATHA GREY 61X61\\\\CER AGATHA GREY 61X61.qng', 'LastModDate': '2024-09-19T04:02:33.567-05:00', 'Width': 610.0, 'Height': 0.0, 'Thickness': 610.0, 'StationCode': '0', 'StationDescription': 'Last modified: September 19, 2024'}\n",
      "{'MachineName': 'Sorting1.Qualitron', 'Feature': 'Q:\\\\Qualitron\\\\Work\\\\Partite\\\\CER ALPES GRAFITO 43X90\\\\CER ALPES GRAFITO 43X90.qng', 'LastModDate': '2024-09-19T04:02:33.567-05:00', 'Width': 900.0, 'Height': 0.0, 'Thickness': 430.0, 'StationCode': '0', 'StationDescription': 'Last modified: September 19, 2024'}\n",
      "{'MachineName': 'Sorting1.Qualitron', 'Feature': 'Q:\\\\Qualitron\\\\Work\\\\Partite\\\\CER ALPES GRAFITO 43X90 BUENO\\\\CER ALPES GRAFITO 43X90 BUENO.qng', 'LastModDate': '2024-09-19T04:02:33.567-05:00', 'Width': 900.0, 'Height': 0.0, 'Thickness': 430.0, 'StationCode': '0', 'StationDescription': 'Last modified: September 19, 2024'}\n",
      "{'MachineName': 'Sorting1.Qualitron', 'Feature': 'Q:\\\\Qualitron\\\\Work\\\\Partite\\\\CER APOLO BR GREY\\\\CER APOLO BR GREY.qng', 'LastModDate': '2024-09-19T04:02:33.567-05:00', 'Width': 610.0, 'Height': 0.0, 'Thickness': 610.0, 'StationCode': '0', 'StationDescription': 'Last modified: September 19, 2024'}\n",
      "{'MachineName': 'Sorting1.Qualitron', 'Feature': 'Q:\\\\Qualitron\\\\Work\\\\Partite\\\\CER ARTICA BLACO 61X61\\\\CER ARTICA BLACO 61X61.qng', 'LastModDate': '2024-09-19T04:02:33.567-05:00', 'Width': 610.0, 'Height': 0.0, 'Thickness': 610.0, 'StationCode': '0', 'StationDescription': 'Last modified: September 19, 2024'}\n",
      "{'MachineName': 'Sorting1.Qualitron', 'Feature': 'Q:\\\\Qualitron\\\\Work\\\\Partite\\\\CER ARTICA BLANCO 61X61\\\\CER ARTICA BLANCO 61X61.qng', 'LastModDate': '2024-09-19T04:02:33.567-05:00', 'Width': 610.0, 'Height': 0.0, 'Thickness': 610.0, 'StationCode': '0', 'StationDescription': 'Last modified: September 19, 2024'}\n",
      "{'MachineName': 'Sorting1.Qualitron', 'Feature': 'Q:\\\\Qualitron\\\\Work\\\\Partite\\\\CER BELGIO GRIS CLARO 61-61\\\\CER BELGIO GRIS CLARO 61-61.qng', 'LastModDate': '2024-09-19T04:02:33.567-05:00', 'Width': 610.0, 'Height': 0.0, 'Thickness': 610.0, 'StationCode': '0', 'StationDescription': 'Last modified: September 19, 2024'}\n",
      "{'MachineName': 'Sorting1.Qualitron', 'Feature': 'Q:\\\\Qualitron\\\\Work\\\\Partite\\\\CER CARRARA CREMA 30X60\\\\CER CARRARA CREMA 30X60.qng', 'LastModDate': '2024-09-19T04:02:33.567-05:00', 'Width': 600.0, 'Height': 0.0, 'Thickness': 305.0, 'StationCode': '0', 'StationDescription': 'Last modified: September 19, 2024'}\n",
      "{'MachineName': 'Sorting1.Qualitron', 'Feature': 'Q:\\\\Qualitron\\\\Work\\\\Partite\\\\CER CARRARA HUESO 30X60\\\\CER CARRARA HUESO 30X60.qng', 'LastModDate': '2024-09-19T04:02:33.567-05:00', 'Width': 600.0, 'Height': 0.0, 'Thickness': 305.0, 'StationCode': '0', 'StationDescription': 'Last modified: September 19, 2024'}\n",
      "{'MachineName': 'Sorting1.Qualitron', 'Feature': 'Q:\\\\Qualitron\\\\Work\\\\Partite\\\\CER CONCRETE SABBIA 43X90\\\\CER CONCRETE SABBIA 43X90.qng', 'LastModDate': '2024-09-19T04:02:33.567-05:00', 'Width': 900.0, 'Height': 0.0, 'Thickness': 430.0, 'StationCode': '0', 'StationDescription': 'Last modified: September 19, 2024'}\n",
      "{'MachineName': 'Sorting1.Qualitron', 'Feature': 'Q:\\\\Qualitron\\\\Work\\\\Partite\\\\CER DANUBIO BLANCO 30X60\\\\CER DANUBIO BLANCO 30X60.qng', 'LastModDate': '2024-09-19T04:02:33.567-05:00', 'Width': 600.0, 'Height': 0.0, 'Thickness': 305.0, 'StationCode': '0', 'StationDescription': 'Last modified: September 19, 2024'}\n",
      "{'MachineName': 'Sorting1.Qualitron', 'Feature': 'Q:\\\\Qualitron\\\\Work\\\\Partite\\\\CER DANUVIO RATAN 30X60\\\\CER DANUVIO RATAN 30X60.qng', 'LastModDate': '2024-09-19T04:02:33.567-05:00', 'Width': 600.0, 'Height': 0.0, 'Thickness': 305.0, 'StationCode': '0', 'StationDescription': 'Last modified: September 19, 2024'}\n",
      "{'MachineName': 'Sorting1.Qualitron', 'Feature': 'Q:\\\\Qualitron\\\\Work\\\\Partite\\\\CER EMILIA BEIGE 30X60\\\\CER EMILIA BEIGE 30X60.qng', 'LastModDate': '2024-09-19T04:02:33.567-05:00', 'Width': 600.0, 'Height': 0.0, 'Thickness': 305.0, 'StationCode': '0', 'StationDescription': 'Last modified: September 19, 2024'}\n",
      "{'MachineName': 'Sorting1.Qualitron', 'Feature': 'Q:\\\\Qualitron\\\\Work\\\\Partite\\\\CER EMILIA GRIS 30X60\\\\CER EMILIA GRIS 30X60.qng', 'LastModDate': '2024-09-19T04:02:33.567-05:00', 'Width': 600.0, 'Height': 0.0, 'Thickness': 305.0, 'StationCode': '0', 'StationDescription': 'Last modified: September 19, 2024'}\n",
      "{'MachineName': 'Sorting1.Qualitron', 'Feature': 'Q:\\\\Qualitron\\\\Work\\\\Partite\\\\CER ESTAMBUL GRIS\\\\CER ESTAMBUL GRIS.qng', 'LastModDate': '2024-09-19T04:02:33.567-05:00', 'Width': 610.0, 'Height': 0.0, 'Thickness': 610.0, 'StationCode': '0', 'StationDescription': 'Last modified: September 19, 2024'}\n",
      "{'MachineName': 'Sorting1.Qualitron', 'Feature': 'Q:\\\\Qualitron\\\\Work\\\\Partite\\\\CER ESTATUARIA 61X61\\\\CER ESTATUARIA 61X61.qng', 'LastModDate': '2024-09-19T04:02:33.567-05:00', 'Width': 610.0, 'Height': 0.0, 'Thickness': 610.0, 'StationCode': '0', 'StationDescription': 'Last modified: September 19, 2024'}\n",
      "{'MachineName': 'Sorting1.Qualitron', 'Feature': 'Q:\\\\Qualitron\\\\Work\\\\Partite\\\\CER GRANIER CENIZA 61 X 61\\\\CER GRANIER CENIZA 61 X 61.qng', 'LastModDate': '2024-09-19T04:02:33.567-05:00', 'Width': 610.0, 'Height': 0.0, 'Thickness': 610.0, 'StationCode': '0', 'StationDescription': 'Last modified: September 19, 2024'}\n",
      "{'MachineName': 'Sorting1.Qualitron', 'Feature': 'Q:\\\\Qualitron\\\\Work\\\\Partite\\\\CER GRANIER CENIZA 61X61\\\\CER GRANIER CENIZA 61X61.qng', 'LastModDate': '2024-09-19T04:02:33.567-05:00', 'Width': 610.0, 'Height': 0.0, 'Thickness': 610.0, 'StationCode': '0', 'StationDescription': 'Last modified: September 19, 2024'}\n",
      "{'MachineName': 'Sorting1.Qualitron', 'Feature': 'Q:\\\\Qualitron\\\\Work\\\\Partite\\\\CER HAWAII BR GREY 61X61\\\\CER HAWAII BR GREY 61X61.qng', 'LastModDate': '2024-09-19T04:02:33.567-05:00', 'Width': 610.0, 'Height': 0.0, 'Thickness': 610.0, 'StationCode': '0', 'StationDescription': 'Last modified: September 19, 2024'}\n",
      "{'MachineName': 'Sorting1.Qualitron', 'Feature': 'Q:\\\\Qualitron\\\\Work\\\\Partite\\\\CER HAWAII BR IVORY\\\\CER HAWAII BR IVORY.qng', 'LastModDate': '2024-09-19T04:02:33.567-05:00', 'Width': 610.0, 'Height': 0.0, 'Thickness': 610.0, 'StationCode': '0', 'StationDescription': 'Last modified: September 19, 2024'}\n",
      "{'MachineName': 'Sorting1.Qualitron', 'Feature': 'Q:\\\\Qualitron\\\\Work\\\\Partite\\\\CER HAWAII BR IVORY 61X61\\\\CER HAWAII BR IVORY 61X61.qng', 'LastModDate': '2024-09-19T04:02:33.567-05:00', 'Width': 610.0, 'Height': 0.0, 'Thickness': 610.0, 'StationCode': '0', 'StationDescription': 'Last modified: September 19, 2024'}\n",
      "{'MachineName': 'Sorting1.Qualitron', 'Feature': 'Q:\\\\Qualitron\\\\Work\\\\Partite\\\\CER HAWAII BR IVORY 61X610A\\\\CER HAWAII BR IVORY 61X610A.qng', 'LastModDate': '2024-09-19T04:02:33.567-05:00', 'Width': 610.0, 'Height': 0.0, 'Thickness': 610.0, 'StationCode': '0', 'StationDescription': 'Last modified: September 19, 2024'}\n",
      "{'MachineName': 'Sorting1.Qualitron', 'Feature': 'Q:\\\\Qualitron\\\\Work\\\\Partite\\\\CER HAWAII IBORY 61X61\\\\CER HAWAII IBORY 61X61.qng', 'LastModDate': '2024-09-19T04:02:33.567-05:00', 'Width': 610.0, 'Height': 0.0, 'Thickness': 610.0, 'StationCode': '0', 'StationDescription': 'Last modified: September 19, 2024'}\n",
      "{'MachineName': 'Sorting1.Qualitron', 'Feature': 'Q:\\\\Qualitron\\\\Work\\\\Partite\\\\CER HIDRAULICO DISTRITO 61X61-1\\\\CER HIDRAULICO DISTRITO 61X61-1.qng', 'LastModDate': '2024-09-19T04:02:33.567-05:00', 'Width': 610.0, 'Height': 0.0, 'Thickness': 610.0, 'StationCode': '0', 'StationDescription': 'Last modified: September 19, 2024'}\n",
      "{'MachineName': 'Sorting1.Qualitron', 'Feature': 'Q:\\\\Qualitron\\\\Work\\\\Partite\\\\CER HIDRAULICO URBAN NATURE 61 X 61\\\\CER HIDRAULICO URBAN NATURE 61 X 61.qng', 'LastModDate': '2024-09-19T04:02:33.567-05:00', 'Width': 610.0, 'Height': 0.0, 'Thickness': 610.0, 'StationCode': '0', 'StationDescription': 'Last modified: September 19, 2024'}\n",
      "{'MachineName': 'Sorting1.Qualitron', 'Feature': 'Q:\\\\Qualitron\\\\Work\\\\Partite\\\\CER LILAC BLANCO\\\\CER LILAC BLANCO.qng', 'LastModDate': '2024-09-19T04:02:33.567-05:00', 'Width': 610.0, 'Height': 0.0, 'Thickness': 610.0, 'StationCode': '0', 'StationDescription': 'Last modified: September 19, 2024'}\n",
      "{'MachineName': 'Sorting1.Qualitron', 'Feature': 'Q:\\\\Qualitron\\\\Work\\\\Partite\\\\CER LILAC BLANCO 61X61\\\\CER LILAC BLANCO 61X61.qng', 'LastModDate': '2024-09-19T04:02:33.567-05:00', 'Width': 610.0, 'Height': 0.0, 'Thickness': 610.0, 'StationCode': '0', 'StationDescription': 'Last modified: September 19, 2024'}\n",
      "{'MachineName': 'Sorting1.Qualitron', 'Feature': 'Q:\\\\Qualitron\\\\Work\\\\Partite\\\\CER LILAC BLANCO BR 61X61\\\\CER LILAC BLANCO BR 61X61.qng', 'LastModDate': '2024-09-19T04:02:33.567-05:00', 'Width': 610.0, 'Height': 0.0, 'Thickness': 610.0, 'StationCode': '0', 'StationDescription': 'Last modified: September 19, 2024'}\n",
      "{'MachineName': 'Sorting1.Qualitron', 'Feature': 'Q:\\\\Qualitron\\\\Work\\\\Partite\\\\CER LISBOA ABANO\\\\CER LISBOA ABANO.qng', 'LastModDate': '2024-09-19T04:02:33.567-05:00', 'Width': 610.0, 'Height': 0.0, 'Thickness': 610.0, 'StationCode': '0', 'StationDescription': 'Last modified: September 19, 2024'}\n",
      "{'MachineName': 'Sorting1.Qualitron', 'Feature': 'Q:\\\\Qualitron\\\\Work\\\\Partite\\\\CER LISBOA ABANO 61X61\\\\CER LISBOA ABANO 61X61.qng', 'LastModDate': '2024-09-19T04:02:33.567-05:00', 'Width': 610.0, 'Height': 0.0, 'Thickness': 610.0, 'StationCode': '0', 'StationDescription': 'Last modified: September 19, 2024'}\n",
      "{'MachineName': 'Sorting1.Qualitron', 'Feature': 'Q:\\\\Qualitron\\\\Work\\\\Partite\\\\CER LISBOA CENIZA 26-11-2023\\\\CER LISBOA CENIZA 26-11-2023.qng', 'LastModDate': '2024-09-19T04:02:33.567-05:00', 'Width': 610.0, 'Height': 0.0, 'Thickness': 610.0, 'StationCode': '0', 'StationDescription': 'Last modified: September 19, 2024'}\n",
      "{'MachineName': 'Sorting1.Qualitron', 'Feature': 'Q:\\\\Qualitron\\\\Work\\\\Partite\\\\CER LISBOA CENIZA 61X61\\\\CER LISBOA CENIZA 61X61.qng', 'LastModDate': '2024-09-19T04:02:33.567-05:00', 'Width': 610.0, 'Height': 0.0, 'Thickness': 610.0, 'StationCode': '0', 'StationDescription': 'Last modified: September 19, 2024'}\n",
      "{'MachineName': 'Sorting1.Qualitron', 'Feature': 'Q:\\\\Qualitron\\\\Work\\\\Partite\\\\CER LISBOA HABANO61X61\\\\CER LISBOA HABANO61X61.qng', 'LastModDate': '2024-09-19T04:02:33.567-05:00', 'Width': 610.0, 'Height': 0.0, 'Thickness': 610.0, 'StationCode': '0', 'StationDescription': 'Last modified: September 19, 2024'}\n",
      "{'MachineName': 'Sorting1.Qualitron', 'Feature': 'Q:\\\\Qualitron\\\\Work\\\\Partite\\\\CER LORY  LIGHT GREY\\\\CER LORY  LIGHT GREY.qng', 'LastModDate': '2024-09-19T04:02:33.567-05:00', 'Width': 610.0, 'Height': 0.0, 'Thickness': 610.0, 'StationCode': '0', 'StationDescription': 'Last modified: September 19, 2024'}\n",
      "{'MachineName': 'Sorting1.Qualitron', 'Feature': 'Q:\\\\Qualitron\\\\Work\\\\Partite\\\\CER LORY DAR GREY 61X61\\\\CER LORY DAR GREY 61X61.qng', 'LastModDate': '2024-09-19T04:02:33.567-05:00', 'Width': 610.0, 'Height': 0.0, 'Thickness': 610.0, 'StationCode': '0', 'StationDescription': 'Last modified: September 19, 2024'}\n",
      "{'MachineName': 'Sorting1.Qualitron', 'Feature': 'Q:\\\\Qualitron\\\\Work\\\\Partite\\\\CER LORY DARK GREY\\\\CER LORY DARK GREY.qng', 'LastModDate': '2024-09-19T04:02:33.567-05:00', 'Width': 600.0, 'Height': 0.0, 'Thickness': 305.0, 'StationCode': '0', 'StationDescription': 'Last modified: September 19, 2024'}\n",
      "{'MachineName': 'Sorting1.Qualitron', 'Feature': 'Q:\\\\Qualitron\\\\Work\\\\Partite\\\\CER LORY DARK GREY 30X60\\\\CER LORY DARK GREY 30X60.qng', 'LastModDate': '2024-09-19T04:02:33.567-05:00', 'Width': 600.0, 'Height': 0.0, 'Thickness': 305.0, 'StationCode': '0', 'StationDescription': 'Last modified: September 19, 2024'}\n",
      "{'MachineName': 'Sorting1.Qualitron', 'Feature': 'Q:\\\\Qualitron\\\\Work\\\\Partite\\\\CER LORY DARK GREY 61X61\\\\CER LORY DARK GREY 61X61.qng', 'LastModDate': '2024-09-19T04:02:33.567-05:00', 'Width': 610.0, 'Height': 0.0, 'Thickness': 610.0, 'StationCode': '0', 'StationDescription': 'Last modified: September 19, 2024'}\n",
      "{'MachineName': 'Sorting1.Qualitron', 'Feature': 'Q:\\\\Qualitron\\\\Work\\\\Partite\\\\CER LORY LIGHT GREY 61X61\\\\CER LORY LIGHT GREY 61X61.qng', 'LastModDate': '2024-09-19T04:02:33.567-05:00', 'Width': 610.0, 'Height': 0.0, 'Thickness': 610.0, 'StationCode': '0', 'StationDescription': 'Last modified: September 19, 2024'}\n",
      "{'MachineName': 'Sorting1.Qualitron', 'Feature': 'Q:\\\\Qualitron\\\\Work\\\\Partite\\\\CER LORY LIGTH GREY 61X61\\\\CER LORY LIGTH GREY 61X61.qng', 'LastModDate': '2024-09-19T04:02:33.567-05:00', 'Width': 610.0, 'Height': 0.0, 'Thickness': 610.0, 'StationCode': '0', 'StationDescription': 'Last modified: September 19, 2024'}\n",
      "{'MachineName': 'Sorting1.Qualitron', 'Feature': 'Q:\\\\Qualitron\\\\Work\\\\Partite\\\\CER MADAGASCAR CHERRY\\\\CER MADAGASCAR CHERRY.qng', 'LastModDate': '2024-09-19T04:02:33.567-05:00', 'Width': 610.0, 'Height': 0.0, 'Thickness': 610.0, 'StationCode': '0', 'StationDescription': 'Last modified: September 19, 2024'}\n",
      "{'MachineName': 'Sorting1.Qualitron', 'Feature': 'Q:\\\\Qualitron\\\\Work\\\\Partite\\\\CER MADAME BLANCO ST\\\\CER MADAME BLANCO ST.qng', 'LastModDate': '2024-09-19T04:02:33.567-05:00', 'Width': 610.0, 'Height': 0.0, 'Thickness': 610.0, 'StationCode': '0', 'StationDescription': 'Last modified: September 19, 2024'}\n",
      "{'MachineName': 'Sorting1.Qualitron', 'Feature': 'Q:\\\\Qualitron\\\\Work\\\\Partite\\\\CER MADAME BLANCO ST 30x60\\\\CER MADAME BLANCO ST 30x60.qng', 'LastModDate': '2024-09-19T04:02:33.567-05:00', 'Width': 600.0, 'Height': 0.0, 'Thickness': 305.0, 'StationCode': '0', 'StationDescription': 'Last modified: September 19, 2024'}\n",
      "{'MachineName': 'Sorting1.Qualitron', 'Feature': 'Q:\\\\Qualitron\\\\Work\\\\Partite\\\\CER MADAME BLANCO ST 61X61\\\\CER MADAME BLANCO ST 61X61.qng', 'LastModDate': '2024-09-19T04:02:33.567-05:00', 'Width': 610.0, 'Height': 0.0, 'Thickness': 610.0, 'StationCode': '0', 'StationDescription': 'Last modified: September 19, 2024'}\n",
      "{'MachineName': 'Sorting1.Qualitron', 'Feature': 'Q:\\\\Qualitron\\\\Work\\\\Partite\\\\CER MADERA ARALIA NIEVE 61X 61\\\\CER MADERA ARALIA NIEVE 61X 61.qng', 'LastModDate': '2024-09-19T04:02:33.567-05:00', 'Width': 610.0, 'Height': 0.0, 'Thickness': 610.0, 'StationCode': '0', 'StationDescription': 'Last modified: September 19, 2024'}\n",
      "{'MachineName': 'Sorting1.Qualitron', 'Feature': 'Q:\\\\Qualitron\\\\Work\\\\Partite\\\\CER MADERA ARALIA NIEVE este si es\\\\CER MADERA ARALIA NIEVE este si es.qng', 'LastModDate': '2024-09-19T04:02:33.567-05:00', 'Width': 610.0, 'Height': 0.0, 'Thickness': 610.0, 'StationCode': '0', 'StationDescription': 'Last modified: September 19, 2024'}\n",
      "{'MachineName': 'Sorting1.Qualitron', 'Feature': 'Q:\\\\Qualitron\\\\Work\\\\Partite\\\\CER MADERA ARALIA NIEVES ST 61 X 61\\\\CER MADERA ARALIA NIEVES ST 61 X 61.qng', 'LastModDate': '2024-09-19T04:02:33.567-05:00', 'Width': 610.0, 'Height': 0.0, 'Thickness': 610.0, 'StationCode': '0', 'StationDescription': 'Last modified: September 19, 2024'}\n",
      "{'MachineName': 'Sorting1.Qualitron', 'Feature': 'Q:\\\\Qualitron\\\\Work\\\\Partite\\\\CER MADERA ESTAMBUL GRIS 61X61\\\\CER MADERA ESTAMBUL GRIS 61X61.qng', 'LastModDate': '2024-09-19T04:02:33.567-05:00', 'Width': 610.0, 'Height': 0.0, 'Thickness': 610.0, 'StationCode': '0', 'StationDescription': 'Last modified: September 19, 2024'}\n",
      "{'MachineName': 'Sorting1.Qualitron', 'Feature': 'Q:\\\\Qualitron\\\\Work\\\\Partite\\\\CER MADERA MADAGASCAR SHERRY 61\\\\CER MADERA MADAGASCAR SHERRY 61.qng', 'LastModDate': '2024-09-19T04:02:33.567-05:00', 'Width': 610.0, 'Height': 0.0, 'Thickness': 610.0, 'StationCode': '0', 'StationDescription': 'Last modified: September 19, 2024'}\n",
      "{'MachineName': 'Sorting1.Qualitron', 'Feature': 'Q:\\\\Qualitron\\\\Work\\\\Partite\\\\cer madera madagascar sherry 61x61\\\\cer madera madagascar sherry 61x61.qng', 'LastModDate': '2024-09-19T04:02:33.567-05:00', 'Width': 610.0, 'Height': 0.0, 'Thickness': 610.0, 'StationCode': '0', 'StationDescription': 'Last modified: September 19, 2024'}\n",
      "{'MachineName': 'Sorting1.Qualitron', 'Feature': 'Q:\\\\Qualitron\\\\Work\\\\Partite\\\\CER MADERA MONGOY MOCCA (bueno)\\\\CER MADERA MONGOY MOCCA (bueno).qng', 'LastModDate': '2024-09-19T04:02:33.567-05:00', 'Width': 610.0, 'Height': 0.0, 'Thickness': 610.0, 'StationCode': '0', 'StationDescription': 'Last modified: September 19, 2024'}\n",
      "{'MachineName': 'Sorting1.Qualitron', 'Feature': 'Q:\\\\Qualitron\\\\Work\\\\Partite\\\\CER MADERA MONGOY MOCCA 61\\\\CER MADERA MONGOY MOCCA 61.qng', 'LastModDate': '2024-09-19T04:02:33.567-05:00', 'Width': 610.0, 'Height': 0.0, 'Thickness': 610.0, 'StationCode': '0', 'StationDescription': 'Last modified: September 19, 2024'}\n",
      "{'MachineName': 'Sorting1.Qualitron', 'Feature': 'Q:\\\\Qualitron\\\\Work\\\\Partite\\\\CER MADERA MONGOYY MOCCA 61X61\\\\CER MADERA MONGOYY MOCCA 61X61.qng', 'LastModDate': '2024-09-19T04:02:33.567-05:00', 'Width': 610.0, 'Height': 0.0, 'Thickness': 610.0, 'StationCode': '0', 'StationDescription': 'Last modified: September 19, 2024'}\n",
      "{'MachineName': 'Sorting1.Qualitron', 'Feature': 'Q:\\\\Qualitron\\\\Work\\\\Partite\\\\CER MODELO GRAY -30X60\\\\CER MODELO GRAY -30X60.qng', 'LastModDate': '2024-09-19T04:02:33.567-05:00', 'Width': 600.0, 'Height': 0.0, 'Thickness': 305.0, 'StationCode': '0', 'StationDescription': 'Last modified: September 19, 2024'}\n",
      "{'MachineName': 'Sorting1.Qualitron', 'Feature': 'Q:\\\\Qualitron\\\\Work\\\\Partite\\\\CER MODELO GRAY30X60\\\\CER MODELO GRAY30X60.qng', 'LastModDate': '2024-09-19T04:02:33.567-05:00', 'Width': 600.0, 'Height': 0.0, 'Thickness': 305.0, 'StationCode': '0', 'StationDescription': 'Last modified: September 19, 2024'}\n",
      "{'MachineName': 'Sorting1.Qualitron', 'Feature': 'Q:\\\\Qualitron\\\\Work\\\\Partite\\\\CER MODELO30X60\\\\CER MODELO30X60.qng', 'LastModDate': '2024-09-19T04:02:33.567-05:00', 'Width': 600.0, 'Height': 0.0, 'Thickness': 305.0, 'StationCode': '0', 'StationDescription': 'Last modified: September 19, 2024'}\n",
      "{'MachineName': 'Sorting1.Qualitron', 'Feature': 'Q:\\\\Qualitron\\\\Work\\\\Partite\\\\CER MONGOY  MOCCA 61X61\\\\CER MONGOY  MOCCA 61X61.qng', 'LastModDate': '2024-09-19T04:02:33.567-05:00', 'Width': 610.0, 'Height': 0.0, 'Thickness': 610.0, 'StationCode': '0', 'StationDescription': 'Last modified: September 19, 2024'}\n",
      "{'MachineName': 'Sorting1.Qualitron', 'Feature': 'Q:\\\\Qualitron\\\\Work\\\\Partite\\\\CER NEW LISBOA ABANO 61\\\\CER NEW LISBOA ABANO 61.qng', 'LastModDate': '2024-09-19T04:02:33.567-05:00', 'Width': 610.0, 'Height': 0.0, 'Thickness': 610.0, 'StationCode': '0', 'StationDescription': 'Last modified: September 19, 2024'}\n",
      "{'MachineName': 'Sorting1.Qualitron', 'Feature': 'Q:\\\\Qualitron\\\\Work\\\\Partite\\\\CER NEW LISBOA HABANO 61 X 61 BUENA\\\\CER NEW LISBOA HABANO 61 X 61 BUENA.qng', 'LastModDate': '2024-09-19T04:02:33.567-05:00', 'Width': 610.0, 'Height': 0.0, 'Thickness': 610.0, 'StationCode': '0', 'StationDescription': 'Last modified: September 19, 2024'}\n",
      "{'MachineName': 'Sorting1.Qualitron', 'Feature': 'Q:\\\\Qualitron\\\\Work\\\\Partite\\\\CER NEW LISBOA HABANO 61X61\\\\CER NEW LISBOA HABANO 61X61.qng', 'LastModDate': '2024-09-19T04:02:33.567-05:00', 'Width': 610.0, 'Height': 0.0, 'Thickness': 610.0, 'StationCode': '0', 'StationDescription': 'Last modified: September 19, 2024'}\n",
      "{'MachineName': 'Sorting1.Qualitron', 'Feature': 'Q:\\\\Qualitron\\\\Work\\\\Partite\\\\CER NEW LISBOA HABANO 61X61-1\\\\CER NEW LISBOA HABANO 61X61-1.qng', 'LastModDate': '2024-09-19T04:02:33.567-05:00', 'Width': 610.0, 'Height': 0.0, 'Thickness': 610.0, 'StationCode': '0', 'StationDescription': 'Last modified: September 19, 2024'}\n",
      "{'MachineName': 'Sorting1.Qualitron', 'Feature': 'Q:\\\\Qualitron\\\\Work\\\\Partite\\\\CER NEW PROVENZAL 61X-1\\\\CER NEW PROVENZAL 61X-1.qng', 'LastModDate': '2024-09-19T04:02:33.567-05:00', 'Width': 610.0, 'Height': 0.0, 'Thickness': 610.0, 'StationCode': '0', 'StationDescription': 'Last modified: September 19, 2024'}\n",
      "{'MachineName': 'Sorting1.Qualitron', 'Feature': 'Q:\\\\Qualitron\\\\Work\\\\Partite\\\\CER NEW PROVENZAL61X61\\\\CER NEW PROVENZAL61X61.qng', 'LastModDate': '2024-09-19T04:02:33.567-05:00', 'Width': 610.0, 'Height': 0.0, 'Thickness': 610.0, 'StationCode': '0', 'StationDescription': 'Last modified: September 19, 2024'}\n",
      "{'MachineName': 'Sorting1.Qualitron', 'Feature': 'Q:\\\\Qualitron\\\\Work\\\\Partite\\\\CER NORDICO BEIGE CORAL\\\\CER NORDICO BEIGE CORAL.qng', 'LastModDate': '2024-09-19T04:02:33.567-05:00', 'Width': 600.0, 'Height': 0.0, 'Thickness': 305.0, 'StationCode': '0', 'StationDescription': 'Last modified: September 19, 2024'}\n",
      "{'MachineName': 'Sorting1.Qualitron', 'Feature': 'Q:\\\\Qualitron\\\\Work\\\\Partite\\\\CER NORDICO BEIGE CORAL 61X61\\\\CER NORDICO BEIGE CORAL 61X61.qng', 'LastModDate': '2024-09-19T04:02:33.567-05:00', 'Width': 610.0, 'Height': 0.0, 'Thickness': 610.0, 'StationCode': '0', 'StationDescription': 'Last modified: September 19, 2024'}\n",
      "{'MachineName': 'Sorting1.Qualitron', 'Feature': 'Q:\\\\Qualitron\\\\Work\\\\Partite\\\\CER NORDICO BEIGE CORAL NUEVO\\\\CER NORDICO BEIGE CORAL NUEVO.qng', 'LastModDate': '2024-09-19T04:02:33.567-05:00', 'Width': 600.0, 'Height': 0.0, 'Thickness': 305.0, 'StationCode': '0', 'StationDescription': 'Last modified: September 19, 2024'}\n",
      "{'MachineName': 'Sorting1.Qualitron', 'Feature': 'Q:\\\\Qualitron\\\\Work\\\\Partite\\\\CER NORDICO CUERO\\\\CER NORDICO CUERO.qng', 'LastModDate': '2024-09-19T04:02:33.567-05:00', 'Width': 610.0, 'Height': 0.0, 'Thickness': 610.0, 'StationCode': '0', 'StationDescription': 'Last modified: September 19, 2024'}\n",
      "{'MachineName': 'Sorting1.Qualitron', 'Feature': 'Q:\\\\Qualitron\\\\Work\\\\Partite\\\\CER NORDICO CUERO 61-61\\\\CER NORDICO CUERO 61-61.qng', 'LastModDate': '2024-09-19T04:02:33.567-05:00', 'Width': 610.0, 'Height': 0.0, 'Thickness': 610.0, 'StationCode': '0', 'StationDescription': 'Last modified: September 19, 2024'}\n",
      "{'MachineName': 'Sorting1.Qualitron', 'Feature': 'Q:\\\\Qualitron\\\\Work\\\\Partite\\\\CER NORDICO GRIS\\\\CER NORDICO GRIS.qng', 'LastModDate': '2024-09-19T04:02:33.567-05:00', 'Width': 610.0, 'Height': 0.0, 'Thickness': 610.0, 'StationCode': '0', 'StationDescription': 'Last modified: September 19, 2024'}\n",
      "{'MachineName': 'Sorting1.Qualitron', 'Feature': 'Q:\\\\Qualitron\\\\Work\\\\Partite\\\\CER NORDICO GRIS 30X60\\\\CER NORDICO GRIS 30X60.qng', 'LastModDate': '2024-09-19T04:02:33.567-05:00', 'Width': 600.0, 'Height': 0.0, 'Thickness': 305.0, 'StationCode': '0', 'StationDescription': 'Last modified: September 19, 2024'}\n",
      "{'MachineName': 'Sorting1.Qualitron', 'Feature': 'Q:\\\\Qualitron\\\\Work\\\\Partite\\\\CER NORDICO GRIS CLARO 30X60\\\\CER NORDICO GRIS CLARO 30X60.qng', 'LastModDate': '2024-09-19T04:02:33.567-05:00', 'Width': 600.0, 'Height': 0.0, 'Thickness': 305.0, 'StationCode': '0', 'StationDescription': 'Last modified: September 19, 2024'}\n",
      "{'MachineName': 'Sorting1.Qualitron', 'Feature': 'Q:\\\\Qualitron\\\\Work\\\\Partite\\\\CER NORDICO GRIS CLARO 61X61\\\\CER NORDICO GRIS CLARO 61X61.qng', 'LastModDate': '2024-09-19T04:02:33.567-05:00', 'Width': 610.0, 'Height': 0.0, 'Thickness': 610.0, 'StationCode': '0', 'StationDescription': 'Last modified: September 19, 2024'}\n",
      "{'MachineName': 'Sorting1.Qualitron', 'Feature': 'Q:\\\\Qualitron\\\\Work\\\\Partite\\\\CER NORDIGO GRIS CLARO 30X60\\\\CER NORDIGO GRIS CLARO 30X60.qng', 'LastModDate': '2024-09-19T04:02:33.567-05:00', 'Width': 600.0, 'Height': 0.0, 'Thickness': 305.0, 'StationCode': '0', 'StationDescription': 'Last modified: September 19, 2024'}\n",
      "{'MachineName': 'Sorting1.Qualitron', 'Feature': 'Q:\\\\Qualitron\\\\Work\\\\Partite\\\\CER NORDIVO GRIS 61X61\\\\CER NORDIVO GRIS 61X61.qng', 'LastModDate': '2024-09-19T04:02:33.567-05:00', 'Width': 610.0, 'Height': 0.0, 'Thickness': 610.0, 'StationCode': '0', 'StationDescription': 'Last modified: September 19, 2024'}\n",
      "{'MachineName': 'Sorting1.Qualitron', 'Feature': 'Q:\\\\Qualitron\\\\Work\\\\Partite\\\\CER OAXACA M0CCA 61 X 61\\\\CER OAXACA M0CCA 61 X 61.qng', 'LastModDate': '2024-09-19T04:02:33.567-05:00', 'Width': 610.0, 'Height': 0.0, 'Thickness': 610.0, 'StationCode': '0', 'StationDescription': 'Last modified: September 19, 2024'}\n",
      "{'MachineName': 'Sorting1.Qualitron', 'Feature': 'Q:\\\\Qualitron\\\\Work\\\\Partite\\\\CER OAXACA MOCCA 61X61\\\\CER OAXACA MOCCA 61X61.qng', 'LastModDate': '2024-09-19T04:02:33.567-05:00', 'Width': 610.0, 'Height': 0.0, 'Thickness': 610.0, 'StationCode': '0', 'StationDescription': 'Last modified: September 19, 2024'}\n",
      "{'MachineName': 'Sorting1.Qualitron', 'Feature': 'Q:\\\\Qualitron\\\\Work\\\\Partite\\\\CER OPALO BR GREY\\\\CER OPALO BR GREY.qng', 'LastModDate': '2024-09-19T04:02:33.567-05:00', 'Width': 610.0, 'Height': 0.0, 'Thickness': 610.0, 'StationCode': '0', 'StationDescription': 'Last modified: September 19, 2024'}\n",
      "{'MachineName': 'Sorting1.Qualitron', 'Feature': 'Q:\\\\Qualitron\\\\Work\\\\Partite\\\\CER OPALO BR GREY 61 X 61\\\\CER OPALO BR GREY 61 X 61.qng', 'LastModDate': '2024-09-19T04:02:33.567-05:00', 'Width': 610.0, 'Height': 0.0, 'Thickness': 610.0, 'StationCode': '0', 'StationDescription': 'Last modified: September 19, 2024'}\n",
      "{'MachineName': 'Sorting1.Qualitron', 'Feature': 'Q:\\\\Qualitron\\\\Work\\\\Partite\\\\CER OPALO GREY 61X 61 -1\\\\CER OPALO GREY 61X 61 -1.qng', 'LastModDate': '2024-09-19T04:02:33.583-05:00', 'Width': 610.0, 'Height': 0.0, 'Thickness': 610.0, 'StationCode': '0', 'StationDescription': 'Last modified: September 19, 2024'}\n",
      "{'MachineName': 'Sorting1.Qualitron', 'Feature': 'Q:\\\\Qualitron\\\\Work\\\\Partite\\\\CER OREGON COTTO 43X90\\\\CER OREGON COTTO 43X90.qng', 'LastModDate': '2024-09-19T04:02:33.583-05:00', 'Width': 900.0, 'Height': 0.0, 'Thickness': 430.0, 'StationCode': '0', 'StationDescription': 'Last modified: September 19, 2024'}\n",
      "{'MachineName': 'Sorting1.Qualitron', 'Feature': 'Q:\\\\Qualitron\\\\Work\\\\Partite\\\\CER PARSO GRIS MT\\\\CER PARSO GRIS MT.qng', 'LastModDate': '2024-09-19T04:02:33.583-05:00', 'Width': 600.0, 'Height': 0.0, 'Thickness': 305.0, 'StationCode': '0', 'StationDescription': 'Last modified: September 19, 2024'}\n",
      "{'MachineName': 'Sorting1.Qualitron', 'Feature': 'Q:\\\\Qualitron\\\\Work\\\\Partite\\\\CER PARSO GRIS MT 61X61\\\\CER PARSO GRIS MT 61X61.qng', 'LastModDate': '2024-09-19T04:02:33.583-05:00', 'Width': 610.0, 'Height': 0.0, 'Thickness': 610.0, 'StationCode': '0', 'StationDescription': 'Last modified: September 19, 2024'}\n",
      "{'MachineName': 'Sorting1.Qualitron', 'Feature': 'Q:\\\\Qualitron\\\\Work\\\\Partite\\\\CER PERLA GREY 61X61\\\\CER PERLA GREY 61X61.qng', 'LastModDate': '2024-09-19T04:02:33.583-05:00', 'Width': 610.0, 'Height': 0.0, 'Thickness': 610.0, 'StationCode': '0', 'StationDescription': 'Last modified: September 19, 2024'}\n",
      "{'MachineName': 'Sorting1.Qualitron', 'Feature': 'Q:\\\\Qualitron\\\\Work\\\\Partite\\\\CER PIAZZA COTTO 61X61\\\\CER PIAZZA COTTO 61X61.qng', 'LastModDate': '2024-09-19T04:02:33.583-05:00', 'Width': 610.0, 'Height': 0.0, 'Thickness': 610.0, 'StationCode': '0', 'StationDescription': 'Last modified: September 19, 2024'}\n",
      "{'MachineName': 'Sorting1.Qualitron', 'Feature': 'Q:\\\\Qualitron\\\\Work\\\\Partite\\\\CER PIAZZA COTTO MT  610X61\\\\CER PIAZZA COTTO MT  610X61.qng', 'LastModDate': '2024-09-19T04:02:33.583-05:00', 'Width': 610.0, 'Height': 0.0, 'Thickness': 610.0, 'StationCode': '0', 'StationDescription': 'Last modified: September 19, 2024'}\n",
      "{'MachineName': 'Sorting1.Qualitron', 'Feature': 'Q:\\\\Qualitron\\\\Work\\\\Partite\\\\CER PIAZZA COTTO MT 61X61\\\\CER PIAZZA COTTO MT 61X61.qng', 'LastModDate': '2024-09-19T04:02:33.583-05:00', 'Width': 610.0, 'Height': 0.0, 'Thickness': 610.0, 'StationCode': '0', 'StationDescription': 'Last modified: September 19, 2024'}\n",
      "{'MachineName': 'Sorting1.Qualitron', 'Feature': 'Q:\\\\Qualitron\\\\Work\\\\Partite\\\\CER PIETRA GREEY BR 61X61\\\\CER PIETRA GREEY BR 61X61.qng', 'LastModDate': '2024-09-19T04:02:33.583-05:00', 'Width': 610.0, 'Height': 0.0, 'Thickness': 610.0, 'StationCode': '0', 'StationDescription': 'Last modified: September 19, 2024'}\n",
      "{'MachineName': 'Sorting1.Qualitron', 'Feature': 'Q:\\\\Qualitron\\\\Work\\\\Partite\\\\CER PIETRA GREY BR 30X60\\\\CER PIETRA GREY BR 30X60.qng', 'LastModDate': '2024-09-19T04:02:33.583-05:00', 'Width': 600.0, 'Height': 0.0, 'Thickness': 305.0, 'StationCode': '0', 'StationDescription': 'Last modified: September 19, 2024'}\n",
      "{'MachineName': 'Sorting1.Qualitron', 'Feature': 'Q:\\\\Qualitron\\\\Work\\\\Partite\\\\CER PIETRA GREY BR 61 X 61\\\\CER PIETRA GREY BR 61 X 61.qng', 'LastModDate': '2024-09-19T04:02:33.583-05:00', 'Width': 610.0, 'Height': 0.0, 'Thickness': 610.0, 'StationCode': '0', 'StationDescription': 'Last modified: September 19, 2024'}\n",
      "{'MachineName': 'Sorting1.Qualitron', 'Feature': 'Q:\\\\Qualitron\\\\Work\\\\Partite\\\\CER PRAGA BRONCE 30X60\\\\CER PRAGA BRONCE 30X60.qng', 'LastModDate': '2024-09-19T04:02:33.583-05:00', 'Width': 600.0, 'Height': 0.0, 'Thickness': 305.0, 'StationCode': '0', 'StationDescription': 'Last modified: September 19, 2024'}\n",
      "{'MachineName': 'Sorting1.Qualitron', 'Feature': 'Q:\\\\Qualitron\\\\Work\\\\Partite\\\\CER ROYAL BEIGE BR 61X61\\\\CER ROYAL BEIGE BR 61X61.qng', 'LastModDate': '2024-09-19T04:02:33.583-05:00', 'Width': 610.0, 'Height': 0.0, 'Thickness': 610.0, 'StationCode': '0', 'StationDescription': 'Last modified: September 19, 2024'}\n",
      "{'MachineName': 'Sorting1.Qualitron', 'Feature': 'Q:\\\\Qualitron\\\\Work\\\\Partite\\\\CER STATUARIO VENATO BLANCO\\\\CER STATUARIO VENATO BLANCO.qng', 'LastModDate': '2024-09-19T04:02:33.583-05:00', 'Width': 610.0, 'Height': 0.0, 'Thickness': 610.0, 'StationCode': '0', 'StationDescription': 'Last modified: September 19, 2024'}\n",
      "{'MachineName': 'Sorting1.Qualitron', 'Feature': 'Q:\\\\Qualitron\\\\Work\\\\Partite\\\\CER STATUARIO VENATO BLANCO 61X61\\\\CER STATUARIO VENATO BLANCO 61X61.qng', 'LastModDate': '2024-09-19T04:02:33.583-05:00', 'Width': 610.0, 'Height': 0.0, 'Thickness': 610.0, 'StationCode': '0', 'StationDescription': 'Last modified: September 19, 2024'}\n",
      "{'MachineName': 'Sorting1.Qualitron', 'Feature': 'Q:\\\\Qualitron\\\\Work\\\\Partite\\\\CER TERRAZO CEPPO MARFIL ST\\\\CER TERRAZO CEPPO MARFIL ST.qng', 'LastModDate': '2024-09-19T04:02:33.583-05:00', 'Width': 610.0, 'Height': 0.0, 'Thickness': 610.0, 'StationCode': '0', 'StationDescription': 'Last modified: September 19, 2024'}\n",
      "{'MachineName': 'Sorting1.Qualitron', 'Feature': 'Q:\\\\Qualitron\\\\Work\\\\Partite\\\\CER TISA GRIS 30X60\\\\CER TISA GRIS 30X60.qng', 'LastModDate': '2024-09-19T04:02:33.583-05:00', 'Width': 600.0, 'Height': 0.0, 'Thickness': 305.0, 'StationCode': '0', 'StationDescription': 'Last modified: September 19, 2024'}\n",
      "{'MachineName': 'Sorting1.Qualitron', 'Feature': 'Q:\\\\Qualitron\\\\Work\\\\Partite\\\\CER TOSCANA GRIS\\\\CER TOSCANA GRIS.qng', 'LastModDate': '2024-09-19T04:02:33.583-05:00', 'Width': 610.0, 'Height': 0.0, 'Thickness': 610.0, 'StationCode': '0', 'StationDescription': 'Last modified: September 19, 2024'}\n",
      "{'MachineName': 'Sorting1.Qualitron', 'Feature': 'Q:\\\\Qualitron\\\\Work\\\\Partite\\\\CER TOSCANA GRIS 61X61\\\\CER TOSCANA GRIS 61X61.qng', 'LastModDate': '2024-09-19T04:02:33.583-05:00', 'Width': 610.0, 'Height': 0.0, 'Thickness': 610.0, 'StationCode': '0', 'StationDescription': 'Last modified: September 19, 2024'}\n",
      "{'MachineName': 'Sorting1.Qualitron', 'Feature': 'Q:\\\\Qualitron\\\\Work\\\\Partite\\\\CER VOLCANICA 30X60\\\\CER VOLCANICA 30X60.qng', 'LastModDate': '2024-09-19T04:02:33.583-05:00', 'Width': 600.0, 'Height': 0.0, 'Thickness': 305.0, 'StationCode': '0', 'StationDescription': 'Last modified: September 19, 2024'}\n",
      "{'MachineName': 'Sorting1.Qualitron', 'Feature': 'Q:\\\\Qualitron\\\\Work\\\\Partite\\\\CER VOLCANICA ARENA\\\\CER VOLCANICA ARENA.qng', 'LastModDate': '2024-09-19T04:02:33.583-05:00', 'Width': 610.0, 'Height': 0.0, 'Thickness': 610.0, 'StationCode': '0', 'StationDescription': 'Last modified: September 19, 2024'}\n",
      "{'MachineName': 'Sorting1.Qualitron', 'Feature': 'Q:\\\\Qualitron\\\\Work\\\\Partite\\\\CERAMICA GRANIER TAUPE61X61\\\\CERAMICA GRANIER TAUPE61X61.qng', 'LastModDate': '2024-09-19T04:02:33.583-05:00', 'Width': 610.0, 'Height': 0.0, 'Thickness': 610.0, 'StationCode': '0', 'StationDescription': 'Last modified: September 19, 2024'}\n",
      "{'MachineName': 'Sorting1.Qualitron', 'Feature': 'Q:\\\\Qualitron\\\\Work\\\\Partite\\\\CERAMICA LAZZARI GRIS 61X61\\\\CERAMICA LAZZARI GRIS 61X61.qng', 'LastModDate': '2024-09-19T04:02:33.583-05:00', 'Width': 610.0, 'Height': 0.0, 'Thickness': 610.0, 'StationCode': '0', 'StationDescription': 'Last modified: September 19, 2024'}\n",
      "{'MachineName': 'Sorting1.Qualitron', 'Feature': 'Q:\\\\Qualitron\\\\Work\\\\Partite\\\\CERAMICA NORDICO GRIS 61X61\\\\CERAMICA NORDICO GRIS 61X61.qng', 'LastModDate': '2024-09-19T04:02:33.583-05:00', 'Width': 610.0, 'Height': 0.0, 'Thickness': 610.0, 'StationCode': '0', 'StationDescription': 'Last modified: September 19, 2024'}\n",
      "{'MachineName': 'Sorting1.Qualitron', 'Feature': 'Q:\\\\Qualitron\\\\Work\\\\Partite\\\\CERAMICA NORDIGO GRIS\\\\CERAMICA NORDIGO GRIS.qng', 'LastModDate': '2024-09-19T04:02:33.583-05:00', 'Width': 600.0, 'Height': 0.0, 'Thickness': 305.0, 'StationCode': '0', 'StationDescription': 'Last modified: September 19, 2024'}\n",
      "{'MachineName': 'Sorting1.Qualitron', 'Feature': 'Q:\\\\Qualitron\\\\Work\\\\Partite\\\\CERR OPALO BR GREY 61\\\\CERR OPALO BR GREY 61.qng', 'LastModDate': '2024-09-19T04:02:33.583-05:00', 'Width': 610.0, 'Height': 0.0, 'Thickness': 610.0, 'StationCode': '0', 'StationDescription': 'Last modified: September 19, 2024'}\n",
      "{'MachineName': 'Sorting1.Qualitron', 'Feature': 'Q:\\\\Qualitron\\\\Work\\\\Partite\\\\CERR STATUARIO VENNATO BLANCO2\\\\CERR STATUARIO VENNATO BLANCO2.qng', 'LastModDate': '2024-09-19T04:02:33.583-05:00', 'Width': 610.0, 'Height': 0.0, 'Thickness': 610.0, 'StationCode': '0', 'StationDescription': 'Last modified: September 19, 2024'}\n",
      "{'MachineName': 'Sorting1.Qualitron', 'Feature': 'Q:\\\\Qualitron\\\\Work\\\\Partite\\\\DANUBIO BLANCO 30 X 60\\\\DANUBIO BLANCO 30 X 60.qng', 'LastModDate': '2024-09-19T04:02:33.583-05:00', 'Width': 600.0, 'Height': 0.0, 'Thickness': 305.0, 'StationCode': '0', 'StationDescription': 'Last modified: September 19, 2024'}\n",
      "{'MachineName': 'Sorting1.Qualitron', 'Feature': 'Q:\\\\Qualitron\\\\Work\\\\Partite\\\\DANUBIO RATAN\\\\DANUBIO RATAN.qng', 'LastModDate': '2024-09-19T04:02:33.583-05:00', 'Width': 600.0, 'Height': 0.0, 'Thickness': 305.0, 'StationCode': '0', 'StationDescription': 'Last modified: September 19, 2024'}\n",
      "{'MachineName': 'Sorting1.Qualitron', 'Feature': 'Q:\\\\Qualitron\\\\Work\\\\Partite\\\\EMILA BEIGE 30X60\\\\EMILA BEIGE 30X60.qng', 'LastModDate': '2024-09-19T04:02:33.583-05:00', 'Width': 600.0, 'Height': 0.0, 'Thickness': 305.0, 'StationCode': '0', 'StationDescription': 'Last modified: September 19, 2024'}\n",
      "{'MachineName': 'Sorting1.Qualitron', 'Feature': 'Q:\\\\Qualitron\\\\Work\\\\Partite\\\\IGNEA DECO 43X 90\\\\IGNEA DECO 43X 90.qng', 'LastModDate': '2024-09-19T04:02:33.583-05:00', 'Width': 900.0, 'Height': 0.0, 'Thickness': 430.0, 'StationCode': '0', 'StationDescription': 'Last modified: September 19, 2024'}\n",
      "{'MachineName': 'Sorting1.Qualitron', 'Feature': 'Q:\\\\Qualitron\\\\Work\\\\Partite\\\\LIABOA CENIZA 61X61\\\\LIABOA CENIZA 61X61.qng', 'LastModDate': '2024-09-19T04:02:33.583-05:00', 'Width': 610.0, 'Height': 0.0, 'Thickness': 610.0, 'StationCode': '0', 'StationDescription': 'Last modified: September 19, 2024'}\n",
      "{'MachineName': 'Sorting1.Qualitron', 'Feature': 'Q:\\\\Qualitron\\\\Work\\\\Partite\\\\LISBOA ABANO 61X61\\\\LISBOA ABANO 61X61.qng', 'LastModDate': '2024-09-19T04:02:33.583-05:00', 'Width': 610.0, 'Height': 0.0, 'Thickness': 610.0, 'StationCode': '0', 'StationDescription': 'Last modified: September 19, 2024'}\n",
      "{'MachineName': 'Sorting1.Qualitron', 'Feature': 'Q:\\\\Qualitron\\\\Work\\\\Partite\\\\LISBOA CENIZA 61X61\\\\LISBOA CENIZA 61X61.qng', 'LastModDate': '2024-09-19T04:02:33.583-05:00', 'Width': 610.0, 'Height': 0.0, 'Thickness': 610.0, 'StationCode': '0', 'StationDescription': 'Last modified: September 19, 2024'}\n",
      "{'MachineName': 'Sorting1.Qualitron', 'Feature': 'Q:\\\\Qualitron\\\\Work\\\\Partite\\\\LISBOA CENNIZA 61X61\\\\LISBOA CENNIZA 61X61.qng', 'LastModDate': '2024-09-19T04:02:33.583-05:00', 'Width': 610.0, 'Height': 0.0, 'Thickness': 610.0, 'StationCode': '0', 'StationDescription': 'Last modified: September 19, 2024'}\n",
      "{'MachineName': 'Sorting1.Qualitron', 'Feature': 'Q:\\\\Qualitron\\\\Work\\\\Partite\\\\LOMBARDA GREY 43X90\\\\LOMBARDA GREY 43X90.qng', 'LastModDate': '2024-09-19T04:02:33.583-05:00', 'Width': 900.0, 'Height': 0.0, 'Thickness': 430.0, 'StationCode': '0', 'StationDescription': 'Last modified: September 19, 2024'}\n",
      "{'MachineName': 'Sorting1.Qualitron', 'Feature': 'Q:\\\\Qualitron\\\\Work\\\\Partite\\\\MADERA MATIZ MULTICOLOR 61X61\\\\MADERA MATIZ MULTICOLOR 61X61.qng', 'LastModDate': '2024-09-19T04:02:33.583-05:00', 'Width': 610.0, 'Height': 0.0, 'Thickness': 610.0, 'StationCode': '0', 'StationDescription': 'Last modified: September 19, 2024'}\n",
      "{'MachineName': 'Sorting1.Qualitron', 'Feature': 'Q:\\\\Qualitron\\\\Work\\\\Partite\\\\MARCELLA CHERRY\\\\MARCELLA CHERRY.qng', 'LastModDate': '2024-09-19T04:02:33.583-05:00', 'Width': 610.0, 'Height': 0.0, 'Thickness': 610.0, 'StationCode': '0', 'StationDescription': 'Last modified: September 19, 2024'}\n",
      "{'MachineName': 'Sorting1.Qualitron', 'Feature': 'Q:\\\\Qualitron\\\\Work\\\\Partite\\\\MARMOL CALACATA GREY MAT 30X60\\\\MARMOL CALACATA GREY MAT 30X60.qng', 'LastModDate': '2024-09-19T04:02:33.583-05:00', 'Width': 600.0, 'Height': 0.0, 'Thickness': 305.0, 'StationCode': '0', 'StationDescription': 'Last modified: September 19, 2024'}\n",
      "{'MachineName': 'Sorting1.Qualitron', 'Feature': 'Q:\\\\Qualitron\\\\Work\\\\Partite\\\\MARMOL CARRARA CREMA BR 61X61\\\\MARMOL CARRARA CREMA BR 61X61.qng', 'LastModDate': '2024-09-19T04:02:33.583-05:00', 'Width': 610.0, 'Height': 0.0, 'Thickness': 610.0, 'StationCode': '0', 'StationDescription': 'Last modified: September 19, 2024'}\n",
      "{'MachineName': 'Sorting1.Qualitron', 'Feature': 'Q:\\\\Qualitron\\\\Work\\\\Partite\\\\MARSELLA CHERRY BUENO\\\\MARSELLA CHERRY BUENO.qng', 'LastModDate': '2024-09-19T04:02:33.583-05:00', 'Width': 610.0, 'Height': 0.0, 'Thickness': 610.0, 'StationCode': '0', 'StationDescription': 'Last modified: September 19, 2024'}\n",
      "{'MachineName': 'Sorting1.Qualitron', 'Feature': 'Q:\\\\Qualitron\\\\Work\\\\Partite\\\\MARSELLA GOLD 61-61\\\\MARSELLA GOLD 61-61.qng', 'LastModDate': '2024-09-19T04:02:33.583-05:00', 'Width': 610.0, 'Height': 0.0, 'Thickness': 610.0, 'StationCode': '0', 'StationDescription': 'Last modified: September 19, 2024'}\n",
      "{'MachineName': 'Sorting1.Qualitron', 'Feature': 'Q:\\\\Qualitron\\\\Work\\\\Partite\\\\MITICA MARFIL 43X90\\\\MITICA MARFIL 43X90.qng', 'LastModDate': '2024-09-19T04:02:33.583-05:00', 'Width': 900.0, 'Height': 0.0, 'Thickness': 430.0, 'StationCode': '0', 'StationDescription': 'Last modified: September 19, 2024'}\n",
      "{'MachineName': 'Sorting1.Qualitron', 'Feature': 'Q:\\\\Qualitron\\\\Work\\\\Partite\\\\MODELO BEIGE 30 X 60\\\\MODELO BEIGE 30 X 60.qng', 'LastModDate': '2024-09-19T04:02:33.583-05:00', 'Width': 600.0, 'Height': 0.0, 'Thickness': 305.0, 'StationCode': '0', 'StationDescription': 'Last modified: September 19, 2024'}\n",
      "{'MachineName': 'Sorting1.Qualitron', 'Feature': 'Q:\\\\Qualitron\\\\Work\\\\Partite\\\\MODELO GRAY\\\\MODELO GRAY.qng', 'LastModDate': '2024-09-19T04:02:33.583-05:00', 'Width': 600.0, 'Height': 0.0, 'Thickness': 305.0, 'StationCode': '0', 'StationDescription': 'Last modified: September 19, 2024'}\n",
      "{'MachineName': 'Sorting1.Qualitron', 'Feature': 'Q:\\\\Qualitron\\\\Work\\\\Partite\\\\MODELO GRAY 30X60\\\\MODELO GRAY 30X60.qng', 'LastModDate': '2024-09-19T04:02:33.583-05:00', 'Width': 600.0, 'Height': 0.0, 'Thickness': 305.0, 'StationCode': '0', 'StationDescription': 'Last modified: September 19, 2024'}\n",
      "{'MachineName': 'Sorting1.Qualitron', 'Feature': 'Q:\\\\Qualitron\\\\Work\\\\Partite\\\\MODELO GRAY- 30X60\\\\MODELO GRAY- 30X60.qng', 'LastModDate': '2024-09-19T04:02:33.583-05:00', 'Width': 600.0, 'Height': 0.0, 'Thickness': 305.0, 'StationCode': '0', 'StationDescription': 'Last modified: September 19, 2024'}\n",
      "{'MachineName': 'Sorting1.Qualitron', 'Feature': 'Q:\\\\Qualitron\\\\Work\\\\Partite\\\\MODELO GREY 30X60\\\\MODELO GREY 30X60.qng', 'LastModDate': '2024-09-19T04:02:33.583-05:00', 'Width': 600.0, 'Height': 0.0, 'Thickness': 305.0, 'StationCode': '0', 'StationDescription': 'Last modified: September 19, 2024'}\n",
      "{'MachineName': 'Sorting1.Qualitron', 'Feature': 'Q:\\\\Qualitron\\\\Work\\\\Partite\\\\MYSTIC BEIGE 30 X 60\\\\MYSTIC BEIGE 30 X 60.qng', 'LastModDate': '2024-09-19T04:02:33.583-05:00', 'Width': 600.0, 'Height': 0.0, 'Thickness': 305.0, 'StationCode': '0', 'StationDescription': 'Last modified: September 19, 2024'}\n",
      "{'MachineName': 'Sorting1.Qualitron', 'Feature': 'Q:\\\\Qualitron\\\\Work\\\\Partite\\\\MYSTIC BEIGE 30X60 1\\\\MYSTIC BEIGE 30X60 1.qng', 'LastModDate': '2024-09-19T04:02:33.583-05:00', 'Width': 600.0, 'Height': 0.0, 'Thickness': 305.0, 'StationCode': '0', 'StationDescription': 'Last modified: September 19, 2024'}\n",
      "{'MachineName': 'Sorting1.Qualitron', 'Feature': 'Q:\\\\Qualitron\\\\Work\\\\Partite\\\\NAVONA BEIGE\\\\NAVONA BEIGE.qng', 'LastModDate': '2024-09-19T04:02:33.583-05:00', 'Width': 900.0, 'Height': 0.0, 'Thickness': 430.0, 'StationCode': '0', 'StationDescription': 'Last modified: September 19, 2024'}\n",
      "{'MachineName': 'Sorting1.Qualitron', 'Feature': 'Q:\\\\Qualitron\\\\Work\\\\Partite\\\\NEVADA TAUPE 43X90\\\\NEVADA TAUPE 43X90.qng', 'LastModDate': '2024-09-19T04:02:33.583-05:00', 'Width': 900.0, 'Height': 0.0, 'Thickness': 430.0, 'StationCode': '0', 'StationDescription': 'Last modified: September 19, 2024'}\n",
      "{'MachineName': 'Sorting1.Qualitron', 'Feature': 'Q:\\\\Qualitron\\\\Work\\\\Partite\\\\NEW PROVENZAL 61X61\\\\NEW PROVENZAL 61X61.qng', 'LastModDate': '2024-09-19T04:02:33.583-05:00', 'Width': 610.0, 'Height': 0.0, 'Thickness': 610.0, 'StationCode': '0', 'StationDescription': 'Last modified: September 19, 2024'}\n",
      "{'MachineName': 'Sorting1.Qualitron', 'Feature': 'Q:\\\\Qualitron\\\\Work\\\\Partite\\\\NORDICO CUERO\\\\NORDICO CUERO.qng', 'LastModDate': '2024-09-19T04:02:33.583-05:00', 'Width': 600.0, 'Height': 0.0, 'Thickness': 305.0, 'StationCode': '0', 'StationDescription': 'Last modified: September 19, 2024'}\n",
      "{'MachineName': 'Sorting1.Qualitron', 'Feature': 'Q:\\\\Qualitron\\\\Work\\\\Partite\\\\NORDICO CUERO 30X60\\\\NORDICO CUERO 30X60.qng', 'LastModDate': '2024-09-19T04:02:33.583-05:00', 'Width': 600.0, 'Height': 0.0, 'Thickness': 305.0, 'StationCode': '0', 'StationDescription': 'Last modified: September 19, 2024'}\n",
      "{'MachineName': 'Sorting1.Qualitron', 'Feature': 'Q:\\\\Qualitron\\\\Work\\\\Partite\\\\NORDICO CUERO--30X60\\\\NORDICO CUERO--30X60.qng', 'LastModDate': '2024-09-19T04:02:33.583-05:00', 'Width': 600.0, 'Height': 0.0, 'Thickness': 305.0, 'StationCode': '0', 'StationDescription': 'Last modified: September 19, 2024'}\n",
      "{'MachineName': 'Sorting1.Qualitron', 'Feature': 'Q:\\\\Qualitron\\\\Work\\\\Partite\\\\NORDICO CUERO-30X60\\\\NORDICO CUERO-30X60.qng', 'LastModDate': '2024-09-19T04:02:33.583-05:00', 'Width': 600.0, 'Height': 0.0, 'Thickness': 305.0, 'StationCode': '0', 'StationDescription': 'Last modified: September 19, 2024'}\n",
      "{'MachineName': 'Sorting1.Qualitron', 'Feature': 'Q:\\\\Qualitron\\\\Work\\\\Partite\\\\NORDICO GRIS\\\\NORDICO GRIS.qng', 'LastModDate': '2024-09-19T04:02:33.583-05:00', 'Width': 600.0, 'Height': 0.0, 'Thickness': 305.0, 'StationCode': '0', 'StationDescription': 'Last modified: September 19, 2024'}\n",
      "{'MachineName': 'Sorting1.Qualitron', 'Feature': 'Q:\\\\Qualitron\\\\Work\\\\Partite\\\\NORDICO GRIS CLARO 30 X 60\\\\NORDICO GRIS CLARO 30 X 60.qng', 'LastModDate': '2024-09-19T04:02:33.583-05:00', 'Width': 600.0, 'Height': 0.0, 'Thickness': 305.0, 'StationCode': '0', 'StationDescription': 'Last modified: September 19, 2024'}\n",
      "{'MachineName': 'Sorting1.Qualitron', 'Feature': 'Q:\\\\Qualitron\\\\Work\\\\Partite\\\\NOVONA BEIGE\\\\NOVONA BEIGE.qng', 'LastModDate': '2024-09-19T04:02:33.583-05:00', 'Width': 900.0, 'Height': 0.0, 'Thickness': 430.0, 'StationCode': '0', 'StationDescription': 'Last modified: September 19, 2024'}\n",
      "{'MachineName': 'Sorting1.Qualitron', 'Feature': 'Q:\\\\Qualitron\\\\Work\\\\Partite\\\\NOVONA BEIGE 43X90\\\\NOVONA BEIGE 43X90.qng', 'LastModDate': '2024-09-19T04:02:33.583-05:00', 'Width': 900.0, 'Height': 0.0, 'Thickness': 430.0, 'StationCode': '0', 'StationDescription': 'Last modified: September 19, 2024'}\n",
      "{'MachineName': 'Sorting1.Qualitron', 'Feature': 'Q:\\\\Qualitron\\\\Work\\\\Partite\\\\OPALO BR GREY 61X61\\\\OPALO BR GREY 61X61.qng', 'LastModDate': '2024-09-19T04:02:33.583-05:00', 'Width': 610.0, 'Height': 0.0, 'Thickness': 610.0, 'StationCode': '0', 'StationDescription': 'Last modified: September 19, 2024'}\n",
      "{'MachineName': 'Sorting1.Qualitron', 'Feature': 'Q:\\\\Qualitron\\\\Work\\\\Partite\\\\PARSO GRIS MT 61X61\\\\PARSO GRIS MT 61X61.qng', 'LastModDate': '2024-09-19T04:02:33.583-05:00', 'Width': 610.0, 'Height': 0.0, 'Thickness': 610.0, 'StationCode': '0', 'StationDescription': 'Last modified: September 19, 2024'}\n",
      "{'MachineName': 'Sorting1.Qualitron', 'Feature': 'Q:\\\\Qualitron\\\\Work\\\\Partite\\\\PISO BIGO GRIS 30 X 60\\\\PISO BIGO GRIS 30 X 60.qng', 'LastModDate': '2024-09-19T04:02:33.583-05:00', 'Width': 600.0, 'Height': 0.0, 'Thickness': 305.0, 'StationCode': '0', 'StationDescription': 'Last modified: September 19, 2024'}\n",
      "{'MachineName': 'Sorting1.Qualitron', 'Feature': 'Q:\\\\Qualitron\\\\Work\\\\Partite\\\\PISO BIGO MIEL 30X60\\\\PISO BIGO MIEL 30X60.qng', 'LastModDate': '2024-09-19T04:02:33.583-05:00', 'Width': 600.0, 'Height': 0.0, 'Thickness': 305.0, 'StationCode': '0', 'StationDescription': 'Last modified: September 19, 2024'}\n",
      "{'MachineName': 'Sorting1.Qualitron', 'Feature': 'Q:\\\\Qualitron\\\\Work\\\\Partite\\\\PISO MARMMOL CARRARA CREMA BR 61X61\\\\PISO MARMMOL CARRARA CREMA BR 61X61.qng', 'LastModDate': '2024-09-19T04:02:33.583-05:00', 'Width': 610.0, 'Height': 0.0, 'Thickness': 610.0, 'StationCode': '0', 'StationDescription': 'Last modified: September 19, 2024'}\n",
      "{'MachineName': 'Sorting1.Qualitron', 'Feature': 'Q:\\\\Qualitron\\\\Work\\\\Partite\\\\PISO MARMOL ASTRA IVORY 61X61 NUEVO\\\\PISO MARMOL ASTRA IVORY 61X61 NUEVO.qng', 'LastModDate': '2024-09-19T04:02:33.583-05:00', 'Width': 610.0, 'Height': 0.0, 'Thickness': 610.0, 'StationCode': '0', 'StationDescription': 'Last modified: September 19, 2024'}\n",
      "{'MachineName': 'Sorting1.Qualitron', 'Feature': 'Q:\\\\Qualitron\\\\Work\\\\Partite\\\\PISO MARMOL CARRARA CREMA\\\\PISO MARMOL CARRARA CREMA.qng', 'LastModDate': '2024-09-19T04:02:33.583-05:00', 'Width': 610.0, 'Height': 0.0, 'Thickness': 610.0, 'StationCode': '0', 'StationDescription': 'Last modified: September 19, 2024'}\n",
      "{'MachineName': 'Sorting1.Qualitron', 'Feature': 'Q:\\\\Qualitron\\\\Work\\\\Partite\\\\PISO MARMOL CARRARA CREMA BR 61\\\\PISO MARMOL CARRARA CREMA BR 61.qng', 'LastModDate': '2024-09-19T04:02:33.583-05:00', 'Width': 610.0, 'Height': 0.0, 'Thickness': 610.0, 'StationCode': '0', 'StationDescription': 'Last modified: September 19, 2024'}\n",
      "{'MachineName': 'Sorting1.Qualitron', 'Feature': 'Q:\\\\Qualitron\\\\Work\\\\Partite\\\\PRAGA BRONCE\\\\PRAGA BRONCE.qng', 'LastModDate': '2024-09-19T04:02:33.583-05:00', 'Width': 600.0, 'Height': 0.0, 'Thickness': 305.0, 'StationCode': '0', 'StationDescription': 'Last modified: September 19, 2024'}\n",
      "{'MachineName': 'Sorting1.Qualitron', 'Feature': 'Q:\\\\Qualitron\\\\Work\\\\Partite\\\\PRAGA BRONCE 30.5X60-1\\\\PRAGA BRONCE 30.5X60-1.qng', 'LastModDate': '2024-09-19T04:02:33.583-05:00', 'Width': 600.0, 'Height': 0.0, 'Thickness': 305.0, 'StationCode': '0', 'StationDescription': 'Last modified: September 19, 2024'}\n",
      "{'MachineName': 'Sorting1.Qualitron', 'Feature': 'Q:\\\\Qualitron\\\\Work\\\\Partite\\\\PRAGA BRONCE 61 X 61\\\\PRAGA BRONCE 61 X 61.qng', 'LastModDate': '2024-09-19T04:02:33.583-05:00', 'Width': 610.0, 'Height': 0.0, 'Thickness': 610.0, 'StationCode': '0', 'StationDescription': 'Last modified: September 19, 2024'}\n",
      "{'MachineName': 'Sorting1.Qualitron', 'Feature': 'Q:\\\\Qualitron\\\\Work\\\\Partite\\\\PRUEBA DE PRODUCCION\\\\PRUEBA DE PRODUCCION.qng', 'LastModDate': '2024-09-19T04:02:33.583-05:00', 'Width': 610.0, 'Height': 0.0, 'Thickness': 610.0, 'StationCode': '0', 'StationDescription': 'Last modified: September 19, 2024'}\n",
      "{'MachineName': 'Sorting1.Qualitron', 'Feature': 'Q:\\\\Qualitron\\\\Work\\\\Partite\\\\RE VARIAS CER TERRAZO CEPPO MARFIL 30X60\\\\RE VARIAS CER TERRAZO CEPPO MARFIL 30X60.qng', 'LastModDate': '2024-09-19T04:02:33.583-05:00', 'Width': 600.0, 'Height': 0.0, 'Thickness': 305.0, 'StationCode': '0', 'StationDescription': 'Last modified: September 19, 2024'}\n",
      "{'MachineName': 'Sorting1.Qualitron', 'Feature': 'Q:\\\\Qualitron\\\\Work\\\\Partite\\\\REF VAR ANTILA BLANCO43X90\\\\REF VAR ANTILA BLANCO43X90.qng', 'LastModDate': '2024-09-19T04:02:33.583-05:00', 'Width': 900.0, 'Height': 0.0, 'Thickness': 430.0, 'StationCode': '0', 'StationDescription': 'Last modified: September 19, 2024'}\n",
      "{'MachineName': 'Sorting1.Qualitron', 'Feature': 'Q:\\\\Qualitron\\\\Work\\\\Partite\\\\REF VAR GALES\\\\REF VAR GALES.qng', 'LastModDate': '2024-09-19T04:02:33.583-05:00', 'Width': 900.0, 'Height': 0.0, 'Thickness': 430.0, 'StationCode': '0', 'StationDescription': 'Last modified: September 19, 2024'}\n",
      "{'MachineName': 'Sorting1.Qualitron', 'Feature': 'Q:\\\\Qualitron\\\\Work\\\\Partite\\\\REF VARIAS AGATA GREY MT 30 X 60\\\\REF VARIAS AGATA GREY MT 30 X 60.qng', 'LastModDate': '2024-09-19T04:02:33.583-05:00', 'Width': 600.0, 'Height': 0.0, 'Thickness': 305.0, 'StationCode': '0', 'StationDescription': 'Last modified: September 19, 2024'}\n",
      "{'MachineName': 'Sorting1.Qualitron', 'Feature': 'Q:\\\\Qualitron\\\\Work\\\\Partite\\\\REF VARIAS ANTILA BLANCO\\\\REF VARIAS ANTILA BLANCO.qng', 'LastModDate': '2024-09-19T04:02:33.583-05:00', 'Width': 900.0, 'Height': 0.0, 'Thickness': 430.0, 'StationCode': '0', 'StationDescription': 'Last modified: September 19, 2024'}\n",
      "{'MachineName': 'Sorting1.Qualitron', 'Feature': 'Q:\\\\Qualitron\\\\Work\\\\Partite\\\\REF VARIAS CALIZA 43X90-2\\\\REF VARIAS CALIZA 43X90-2.qng', 'LastModDate': '2024-09-19T04:02:33.583-05:00', 'Width': 900.0, 'Height': 0.0, 'Thickness': 430.0, 'StationCode': '0', 'StationDescription': 'Last modified: September 19, 2024'}\n",
      "{'MachineName': 'Sorting1.Qualitron', 'Feature': 'Q:\\\\Qualitron\\\\Work\\\\Partite\\\\REF VARIAS CAMELIA 43X90-2\\\\REF VARIAS CAMELIA 43X90-2.qng', 'LastModDate': '2024-09-19T04:02:33.583-05:00', 'Width': 900.0, 'Height': 0.0, 'Thickness': 430.0, 'StationCode': '0', 'StationDescription': 'Last modified: September 19, 2024'}\n",
      "{'MachineName': 'Sorting1.Qualitron', 'Feature': 'Q:\\\\Qualitron\\\\Work\\\\Partite\\\\ROMA BEIGE 43X90\\\\ROMA BEIGE 43X90.qng', 'LastModDate': '2024-09-19T04:02:33.583-05:00', 'Width': 900.0, 'Height': 0.0, 'Thickness': 430.0, 'StationCode': '0', 'StationDescription': 'Last modified: September 19, 2024'}\n",
      "{'MachineName': 'Sorting1.Qualitron', 'Feature': 'Q:\\\\Qualitron\\\\Work\\\\Partite\\\\ROME BEIGE 43X90\\\\ROME BEIGE 43X90.qng', 'LastModDate': '2024-09-19T04:02:33.583-05:00', 'Width': 900.0, 'Height': 0.0, 'Thickness': 430.0, 'StationCode': '0', 'StationDescription': 'Last modified: September 19, 2024'}\n",
      "{'MachineName': 'Sorting1.Qualitron', 'Feature': 'Q:\\\\Qualitron\\\\Work\\\\Partite\\\\TERRA EXTRA ARENA 30X60\\\\TERRA EXTRA ARENA 30X60.qng', 'LastModDate': '2024-09-19T04:02:33.583-05:00', 'Width': 600.0, 'Height': 0.0, 'Thickness': 305.0, 'StationCode': '0', 'StationDescription': 'Last modified: September 19, 2024'}\n",
      "{'MachineName': 'Sorting1.Qualitron', 'Feature': 'Q:\\\\Qualitron\\\\Work\\\\Partite\\\\TIVOLY PERLA 43X90\\\\TIVOLY PERLA 43X90.qng', 'LastModDate': '2024-09-19T04:02:33.583-05:00', 'Width': 900.0, 'Height': 0.0, 'Thickness': 430.0, 'StationCode': '0', 'StationDescription': 'Last modified: September 19, 2024'}\n",
      "{'MachineName': 'Sorting1.Qualitron', 'Feature': 'Q:\\\\Qualitron\\\\Work\\\\Partite\\\\TOSCANA ARENA 61 X 61\\\\TOSCANA ARENA 61 X 61.qng', 'LastModDate': '2024-09-19T04:02:33.583-05:00', 'Width': 610.0, 'Height': 0.0, 'Thickness': 610.0, 'StationCode': '0', 'StationDescription': 'Last modified: September 19, 2024'}\n",
      "{'MachineName': 'Sorting1.Qualitron', 'Feature': 'Q:\\\\Qualitron\\\\Work\\\\Partite\\\\TOSCANA GRIS\\\\TOSCANA GRIS.qng', 'LastModDate': '2024-09-19T04:02:33.583-05:00', 'Width': 610.0, 'Height': 0.0, 'Thickness': 610.0, 'StationCode': '0', 'StationDescription': 'Last modified: September 19, 2024'}\n",
      "{'MachineName': 'Sorting1.Qualitron', 'Feature': 'Q:\\\\Qualitron\\\\Work\\\\Partite\\\\VOLCANICA ARENA 61X61\\\\VOLCANICA ARENA 61X61.qng', 'LastModDate': '2024-09-19T04:02:33.583-05:00', 'Width': 610.0, 'Height': 0.0, 'Thickness': 610.0, 'StationCode': '0', 'StationDescription': 'Last modified: September 19, 2024'}\n",
      "{'MachineName': 'Sorting1.Qualitron', 'Feature': 'Q:\\\\Qualitron\\\\Work\\\\Partite\\\\NEW CARRARA GOLD 30X60\\\\NEW CARRARA GOLD 30X60.qng', 'LastModDate': '2024-09-19T21:58:21.66-05:00', 'Width': 600.0, 'Height': 0.0, 'Thickness': 305.0, 'StationCode': '0', 'StationDescription': 'Last modified: September 19, 2024'}\n",
      "{'MachineName': 'Sorting1.Qualitron', 'Feature': 'Q:\\\\Qualitron\\\\Work\\\\Partite\\\\BOTICCINO BLANCO\\\\BOTICCINO BLANCO.qng', 'LastModDate': '2024-09-19T21:58:27.763-05:00', 'Width': 610.0, 'Height': 0.0, 'Thickness': 610.0, 'StationCode': '0', 'StationDescription': 'Last modified: September 19, 2024'}\n",
      "{'MachineName': 'Sorting1.Qualitron', 'Feature': 'Q:\\\\Qualitron\\\\Work\\\\Partite\\\\30X60\\\\TOSCANA GRIS  30 X 60\\\\TOSCANA GRIS  30 X 60.qng', 'LastModDate': '2024-09-24T07:31:46.203-05:00', 'Width': 600.0, 'Height': 0.0, 'Thickness': 305.0, 'StationCode': '0', 'StationDescription': 'Last modified: September 24, 2024'}\n",
      "{'MachineName': 'Sorting1.Qualitron', 'Feature': 'Q:\\\\Qualitron\\\\Work\\\\Partite\\\\CER AGATHA GREY 30X60\\\\CER AGATHA GREY 30X60.qng', 'LastModDate': '2024-09-24T07:31:46.203-05:00', 'Width': 600.0, 'Height': 0.0, 'Thickness': 305.0, 'StationCode': '0', 'StationDescription': 'Last modified: September 24, 2024'}\n",
      "{'MachineName': 'Sorting1.Qualitron', 'Feature': 'Q:\\\\Qualitron\\\\Work\\\\Partite\\\\CER MARERA MONGOY MOCCA61X61\\\\CER MARERA MONGOY MOCCA61X61.qng', 'LastModDate': '2024-09-24T19:39:35.697-05:00', 'Width': 610.0, 'Height': 0.0, 'Thickness': 610.0, 'StationCode': '0', 'StationDescription': 'Last modified: September 24, 2024'}\n"
     ]
    }
   ],
   "source": [
    "print(requests.get('http://192.168.120.15:8080/Prime/API/1.5/ProductionCounters?billOfResources=Sorting1&startDate=2024-01-29&endDate=2024-05-01&machine=Qualitron'))\n",
    "\n",
    "data = requests.get('http://192.168.120.15:8080/Prime/API/1.5/AvailableProfiles?billOfResources=Sorting1&machine=Qualitron').json()['Document']['Body']['AvailableProfiles']\n",
    "\n",
    "for i in data:\n",
    "    print(i)"
   ]
  },
  {
   "cell_type": "code",
   "execution_count": 35,
   "metadata": {},
   "outputs": [
    {
     "name": "stdout",
     "output_type": "stream",
     "text": [
      "<Response [404]>\n"
     ]
    }
   ],
   "source": [
    "print(requests.get('http://192.168.120.15:8080/Prime/API/1.5/Warnings?billOfResources=Sorting1&machine=SortingBench&startDate=2000-01-29&endDate=2025-05-01'))"
   ]
  },
  {
   "cell_type": "code",
   "execution_count": 36,
   "metadata": {},
   "outputs": [
    {
     "name": "stdout",
     "output_type": "stream",
     "text": [
      "<Response [408]>\n"
     ]
    }
   ],
   "source": [
    "\n",
    "print(requests.get('http://192.168.120.15:8080/Prime/API/1.5/Consumptions?billOfResources=Sorting1&startDate=2000-01-29&endDate=2025-05-01&machine=SortingBench'))"
   ]
  }
 ],
 "metadata": {
  "kernelspec": {
   "display_name": "alfa-unal",
   "language": "python",
   "name": "python3"
  },
  "language_info": {
   "codemirror_mode": {
    "name": "ipython",
    "version": 3
   },
   "file_extension": ".py",
   "mimetype": "text/x-python",
   "name": "python",
   "nbconvert_exporter": "python",
   "pygments_lexer": "ipython3",
   "version": "3.9.0"
  }
 },
 "nbformat": 4,
 "nbformat_minor": 2
}
